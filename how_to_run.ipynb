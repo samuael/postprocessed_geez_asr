{
  "cells": [
    {
      "cell_type": "markdown",
      "id": "2f23441a",
      "metadata": {},
      "source": [
        "### Step by Step code use of the Phoneme-Based Speech Extraction model (PhonemeAWav2Vec) and Sentence Correction Models(Seq2SeqBT5)"
      ]
    },
    {
      "cell_type": "code",
      "execution_count": null,
      "id": "0a6d23fe",
      "metadata": {
        "id": "0a6d23fe"
      },
      "outputs": [],
      "source": [
        "!pip install datasets\n",
        "!pip install librosa\n",
        "!pip install torch\n",
        "!pip install pytorch"
      ]
    },
    {
      "cell_type": "code",
      "execution_count": 4,
      "id": "c0c42eb2",
      "metadata": {
        "id": "c0c42eb2"
      },
      "outputs": [],
      "source": [
        "import datasets\n",
        "import torch"
      ]
    },
    {
      "cell_type": "code",
      "execution_count": 5,
      "id": "3eb9a666",
      "metadata": {
        "id": "3eb9a666"
      },
      "outputs": [],
      "source": [
        "# aud = datasets.Audio(sampling_rate=16_000)"
      ]
    },
    {
      "cell_type": "code",
      "execution_count": 6,
      "id": "7264aff5",
      "metadata": {
        "id": "7264aff5"
      },
      "outputs": [],
      "source": [
        "import librosa"
      ]
    },
    {
      "cell_type": "code",
      "execution_count": 13,
      "id": "afc9abc8",
      "metadata": {
        "id": "afc9abc8"
      },
      "outputs": [],
      "source": [
        "data, sr = librosa.load(path=\"01_d501021.wav\", sr=16000)"
      ]
    },
    {
      "cell_type": "code",
      "execution_count": 8,
      "id": "d5d1473d",
      "metadata": {
        "id": "d5d1473d"
      },
      "outputs": [],
      "source": [
        "from transformers import Wav2Vec2FeatureExtractor\n",
        "feature_extractor = Wav2Vec2FeatureExtractor(feature_size=1, sampling_rate=16000, padding_value=0.0, do_normalize=True, return_attention_mask=False)"
      ]
    },
    {
      "cell_type": "code",
      "execution_count": null,
      "id": "05ddc2ab",
      "metadata": {
        "colab": {
          "base_uri": "https://localhost:8080/",
          "height": 286,
          "referenced_widgets": [
            "d027448673374f6d8c3af7f552e2957c",
            "9e5b91df862846c6991c6e173a0f875b",
            "b2c52b79b75a45988a29038b3b670626",
            "04a69a87aab843e4832ea10026ff7b9b",
            "dd3e169267134d8a8f5b3e7a3a4ed2b8",
            "cfdaf70f20c749f58885f340bb477bb5",
            "8231c1e455d54a2397c06125906f6df6",
            "25079010924344d8b6ed58cf3866cb9c",
            "0c9c360eb20f4cc79b0814884b5a4d93",
            "dfdca42538f14bf1ae8fcf587d030777",
            "d74871458ad7461f9b918b3dd5694fd3",
            "8b83543d6ee04743bc63f2cabcfc8d1c",
            "e1d966b1a40940f79d986de4e501aea6",
            "28fcb3e1bbdd4b25b1748adf0800b520",
            "cccf5d768bd043a98ce164ad5f07ef30",
            "d4dba7b9835f4816ae6b13de966d7fc4",
            "732e8663f7fc4d248ac70987da63f209",
            "cbaec2c51444472b86068acdcad71350",
            "8c834037adef4f63b75475ad07d552c1",
            "745d346de2a0449b95a9f42b19a35df5",
            "432b327a9be64848a32a42d2e8f38e6c",
            "a1be89865a324b5f84e62aa0d3e454fa",
            "923790422ce9434785dfba6ac22bcd95",
            "769638d3294e4c36abdce48298a0f90c",
            "873a2d347a7c42e7af3aa46485f2e16b",
            "81c17b0989534b03b8fb6335e3a7d007",
            "43aa1c27fe3840ef875b6260fedca1a7",
            "a8b5cd6d21064a3dad7ecc4414a705ac",
            "50000820a1784139a1118836f7317cbb",
            "a71406f05b70487b82e6d163a7e97881",
            "c554f7214621403a819cf618d567c3fb",
            "4cadb3cacd184990b751ab35fa8ec983",
            "c02408342bd040ad9df5ac149368973a",
            "f7cbddaeb3f4401b9e863ea6911633ac",
            "576ea4c5ecde42538b35e504bdb7a7ed",
            "87d9a948e6eb4c528a2108c63c6a7bc5",
            "a215cd7d733d47d381e21c7fda9dcfe9",
            "bbb62b0bdd4a4cb496d3e74d55b2d700",
            "d5732aa85f494b2284b70f0c55181b12",
            "a38c1087c50e49acb193381e3a21c3ee",
            "48939a799f6d4f8aaaddc531e50cf191",
            "84c34738229b47bf83a450eadd2dbbda",
            "047f32feac2146368715e09b2acbeb3b",
            "2480f247976545bc8d7bd557a5caf0dd"
          ]
        },
        "id": "05ddc2ab",
        "outputId": "421c41a2-9b65-427a-c2ae-669eb32650a6"
      },
      "outputs": [],
      "source": [
        "from transformers import Wav2Vec2CTCTokenizer\n",
        "tokenizer = Wav2Vec2CTCTokenizer.from_pretrained(\"Samuael/asr-amharic-phoneme-based-37-6\")"
      ]
    },
    {
      "cell_type": "code",
      "execution_count": 10,
      "id": "8b59d237",
      "metadata": {
        "id": "8b59d237"
      },
      "outputs": [],
      "source": [
        "from transformers import Wav2Vec2Processor\n",
        "processor = Wav2Vec2Processor(feature_extractor=feature_extractor, tokenizer=tokenizer)"
      ]
    },
    {
      "cell_type": "code",
      "execution_count": 26,
      "id": "1cbdeb34",
      "metadata": {
        "id": "1cbdeb34"
      },
      "outputs": [],
      "source": [
        "inputs = processor(data, sampling_rate=16000)"
      ]
    },
    {
      "cell_type": "code",
      "execution_count": 34,
      "id": "LLzQ2lNylHpd",
      "metadata": {
        "colab": {
          "base_uri": "https://localhost:8080/"
        },
        "id": "LLzQ2lNylHpd",
        "outputId": "c86e18f3-b487-4f7d-c447-02bb34111c19"
      },
      "outputs": [
        {
          "data": {
            "text/plain": [
              "[array([-0.05102806, -0.05102806, -0.03639501, ..., -0.27052376,\n",
              "        -0.27540144, -0.30466753], dtype=float32)]"
            ]
          },
          "execution_count": 34,
          "metadata": {},
          "output_type": "execute_result"
        }
      ],
      "source": [
        "inputs.input_values"
      ]
    },
    {
      "cell_type": "code",
      "execution_count": null,
      "id": "vrh6nJvkq45l",
      "metadata": {
        "id": "vrh6nJvkq45l"
      },
      "outputs": [],
      "source": [
        "model = Wav2Vec2ForCTC.from_pretrained(\"Samuael/asr-amharic-phoneme-based-37-6\")"
      ]
    },
    {
      "cell_type": "code",
      "execution_count": 47,
      "id": "9X2-DXz3jMgy",
      "metadata": {
        "id": "9X2-DXz3jMgy"
      },
      "outputs": [],
      "source": [
        "result=model(input_values=torch.tensor(inputs.input_values))"
      ]
    },
    {
      "cell_type": "code",
      "execution_count": 50,
      "id": "Ir1ncxjCnR2t",
      "metadata": {
        "id": "Ir1ncxjCnR2t"
      },
      "outputs": [],
      "source": [
        "pred_ids = torch.argmax(result.logits, dim=-1)"
      ]
    },
    {
      "cell_type": "code",
      "execution_count": 51,
      "id": "HUyYXVAXnVaT",
      "metadata": {
        "colab": {
          "base_uri": "https://localhost:8080/",
          "height": 70
        },
        "id": "HUyYXVAXnVaT",
        "outputId": "ce5d11e1-9bc8-44fd-cf3c-212e89383df5"
      },
      "outputs": [
        {
          "data": {
            "application/vnd.google.colaboratory.intrinsic+json": {
              "type": "string"
            },
            "text/plain": [
              "'ይኧ  ኢንትኧርንኤት  ኣግኧልግልኦት ንም ብኧ ትኧምኧልኧክኧትኧ ብኧ ክልልኦች ብኧ ዝኦንኦች ንኣ ብኧ  ኣድኢስ  ኣብኧብኣ ብኧ ትኧልኧይኣይኡ ብኦትኣውኦች ይኧ  ኣግኧልግልኦት ምኣ እክኧልኦች ን ልኧ ምኣቅኡኣቅኡኣም ምኧትኣቅኧድኡ ን  ኣብርኣር ትኧውኣል'"
            ]
          },
          "execution_count": 51,
          "metadata": {},
          "output_type": "execute_result"
        }
      ],
      "source": [
        "processor.batch_decode(pred_ids)[0]"
      ]
    },
    {
      "cell_type": "code",
      "execution_count": 52,
      "id": "Zkl1icKom301",
      "metadata": {
        "id": "Zkl1icKom301"
      },
      "outputs": [],
      "source": [
        "phonemeToCharMap = {\n",
        "    \"ቕኡኢ\":\"ቚ\", \"ቕኡኣ\":\"ቛ\", \"ቕኡኤ\":\"ቜ\", \"ህኡኣ\": \"ኋ\",    \"ልኡኣ\": \"ሏ\",    \"ምኡኣ\": \"ሟ\",    \"ርኡኣ\": \"ሯ\",    \"ስኡኣ\": \"ሷ\",    \"ሽኡኣ\": \"ሿ\",    \"ቅኡኣ\": \"ቋ\",    \"ብኡኣ\": \"ቧ\",    \"ቭኡኣ\": \"ቯ\",    \"ትኡኣ\": \"ቷ\",    \"ችኡኣ\": \"ቿ\",    \"ንኡኣ\": \"ኗ\",    \"ኝኡኣ\": \"ኟ\",    \"ክኡኣ\": \"ኳ\",    \"ዝኡኣ\": \"ዟ\",    \"ዥኡኣ\": \"ዧ\",    \"ድኡኣ\": \"ዷ\",    \"ጅኡኣ\": \"ጇ\",    \"ግኡኣ\": \"ጓ\",    \"ጥኡኣ\": \"ጧ\",    \"ጭኡኣ\": \"ጯ\",    \"ጵኡኣ\": \"ጷ\",    \"ጽኡኣ\": \"ጿ\",    \"ፍኡኣ\": \"ፏ\",    \"ፕኡኣ\": \"ፗ\",    \"ግኡኤ\": \"ጔ\",    \"ክኡኤ\": \"ኴ\",    \"ህኡኤ\": \"ኌ\",    \"ቅኡኤ\": \"ቌ\",    \"ግኡኢ\": \"ጒ\",    \"ክኡኢ\": \"ኲ\",    \"ቅኡኢ\": \"ቊ\",    \"ፍኡኢ\": \"ᎉ\",    \"ግኡእ\": \"ጕ\",    \"ህኡኢ\": \"ዂ\",    \"ክኡእ\": \"ኵ\",    \"ቅኡእ\": \"ቍ\",    \"ምኢኣ\": \"ፙ\",    \"ፍኢኣ\": \"ፚ\",    \"ህኡእ\": \"ዅ\",    \"ፍኡኤ\": \"ᎊ\",    \"ፍኡኧ\": \"ᎋ\",    \"ርኢኣ\": \"ፘ\",    \"ፕኡኧ\": \"ᎌ\",    \"ፕኡኢ\": \"ᎍ\",    \"ትኡኤ\": \"ᎎ\",    \"ፕኡኤ\": \"ᎏ\",    \"ቕኧ\": \"ቐ\",    \"ቕኡ\": \"ቑ\",    \"ቕኢ\": \"ቒ\",    \"ቕኣ\": \"ቓ\",\"ቕኤ\": \"ቔ\",\"ቕ\": \"ቕ\", \"ቕኦ\": \"ቖ\",    \"ህ\": \"ህ\",    \"ል\": \"ል\",    \"ም\": \"ም\",    \"ር\": \"ር\",    \"ስ\": \"ስ\",    \"ሽ\": \"ሽ\",    \"ቅ\": \"ቅ\",    \"ብ\": \"ብ\",    \"ቭ\": \"ቭ\",    \"ት\": \"ት\",    \"ች\": \"ች\",    \"ን\": \"ን\",    \"ኝ\": \"ኝ\",    \"ክ\": \"ክ\",    \"ው\": \"ው\",    \"ዝ\": \"ዝ\",    \"ዥ\": \"ዥ\",    \"ይ\": \"ይ\",    \"ድ\": \"ድ\",    \"ጅ\": \"ጅ\",    \"ግ\": \"ግ\",    \"ጥ\": \"ጥ\",    \"ጭ\": \"ጭ\",    \"ጵ\": \"ጵ\",    \"ጽ\": \"ጽ\",    \"ፍ\": \"ፍ\",    \"ፕ\": \"ፕ\",    \"ህኧ\": \"ኸ\",    \"ህኣ\": \"ሀ\",    \"ህኡ\": \"ሁ\",    \"ህኢ\": \"ሂ\",    \"ህኤ\": \"ሄ\",    \"ህኦ\": \"ሆ\",    \"ልኧ\": \"ለ\",    \"ልኡ\": \"ሉ\",    \"ልኢ\": \"ሊ\",    \"ልኣ\": \"ላ\",    \"ልኤ\": \"ሌ\",    \"ልኦ\": \"ሎ\",    \"ምኧ\": \"መ\",    \"ምኡ\": \"ሙ\",    \"ምኢ\": \"ሚ\",    \"ምኣ\": \"ማ\",    \"ምኤ\": \"ሜ\",    \"ምኦ\": \"ሞ\",    \"ርኧ\": \"ረ\",    \"ርኡ\": \"ሩ\",    \"ርኢ\": \"ሪ\",    \"ርኣ\": \"ራ\",    \"ርኤ\": \"ሬ\",    \"ርኦ\": \"ሮ\",    \"ስኧ\": \"ሰ\",    \"ስኡ\": \"ሱ\",    \"ስኢ\": \"ሲ\",    \"ስኣ\": \"ሳ\",    \"ስኤ\": \"ሴ\",    \"ስኦ\": \"ሶ\",    \"ሽኧ\": \"ሸ\",    \"ሽኡ\": \"ሹ\",    \"ሽኢ\": \"ሺ\",    \"ሽኣ\": \"ሻ\",    \"ሽኤ\": \"ሼ\",    \"ሽኦ\": \"ሾ\",    \"ቅኧ\": \"ቀ\",    \"ቅኡ\": \"ቁ\",    \"ቅኢ\": \"ቂ\",    \"ቅኣ\": \"ቃ\",    \"ቅኤ\": \"ቄ\",    \"ቅኦ\": \"ቆ\",    \"ብኧ\": \"በ\",    \"ብኡ\": \"ቡ\",    \"ብኢ\": \"ቢ\",    \"ብኣ\": \"ባ\",    \"ብኤ\": \"ቤ\",    \"ብኦ\": \"ቦ\",    \"ቭኧ\": \"ቨ\",    \"ቭኡ\": \"ቩ\",    \"ቭኢ\": \"ቪ\",    \"ቭኣ\": \"ቫ\",    \"ቭኤ\": \"ቬ\",    \"ቭኦ\": \"ቮ\",    \"ትኧ\": \"ተ\",    \"ትኡ\": \"ቱ\",    \"ትኢ\": \"ቲ\",    \"ትኣ\": \"ታ\",    \"ትኤ\": \"ቴ\",    \"ትኦ\": \"ቶ\",    \"ችኧ\": \"ቸ\",    \"ችኡ\": \"ቹ\",    \"ችኢ\": \"ቺ\",    \"ችኣ\": \"ቻ\",    \"ችኤ\": \"ቼ\",    \"ችኦ\": \"ቾ\",    \"ንኧ\": \"ነ\",    \"ንኡ\": \"ኑ\",    \"ንኢ\": \"ኒ\",    \"ንኣ\": \"ና\",    \"ንኤ\": \"ኔ\",    \"ንኦ\": \"ኖ\",    \"ኝኧ\": \"ኘ\",    \"ኝኡ\": \"ኙ\",    \"ኝኢ\": \"ኚ\",    \"ኝኣ\": \"ኛ\",    \"ኝኤ\": \"ኜ\",    \"ኝኦ\": \"ኞ\",    \"ክኧ\": \"ከ\",    \"ክኡ\": \"ኩ\",    \"ክኢ\": \"ኪ\",    \"ክኣ\": \"ካ\",    \"ክኤ\": \"ኬ\",    \"ክኦ\": \"ኮ\",    \"ውኧ\": \"ወ\",    \"ውኡ\": \"ዉ\",    \"ውኢ\": \"ዊ\",    \"ውኣ\": \"ዋ\",    \"ውኤ\": \"ዌ\",    \"ውኦ\": \"ዎ\",    \"ዝኧ\": \"ዘ\",    \"ዝኡ\": \"ዙ\",    \"ዝኢ\": \"ዚ\",    \"ዝኣ\": \"ዛ\",    \"ዝኤ\": \"ዜ\",    \"ዝኦ\": \"ዞ\",    \"ዥኧ\": \"ዠ\",    \"ዥኡ\": \"ዡ\",    \"ዥኢ\": \"ዢ\",    \"ዥኣ\": \"ዣ\",    \"ዥኤ\": \"ዤ\",    \"ዥኦ\": \"ዦ\",    \"ይኧ\": \"የ\",    \"ይኡ\": \"ዩ\",    \"ይኢ\": \"ዪ\",    \"ይኣ\": \"ያ\",    \"ይኤ\": \"ዬ\",    \"ይኦ\": \"ዮ\",    \"ድኧ\": \"ደ\",    \"ድኡ\": \"ዱ\",    \"ድኢ\": \"ዲ\",    \"ድኣ\": \"ዳ\",    \"ድኤ\": \"ዴ\",    \"ድኦ\": \"ዶ\",    \"ጅኧ\": \"ጀ\",    \"ጅኡ\": \"ጁ\",    \"ጅኢ\": \"ጂ\",    \"ጅኣ\": \"ጃ\",    \"ጅኤ\": \"ጄ\",    \"ጅኦ\": \"ጆ\",    \"ግኧ\": \"ገ\",    \"ግኡ\": \"ጉ\",    \"ግኢ\": \"ጊ\",    \"ግኣ\": \"ጋ\",    \"ግኤ\": \"ጌ\",    \"ግኦ\": \"ጐ\",    \"ጥኧ\": \"ጠ\",    \"ጥኡ\": \"ጡ\",    \"ጥኢ\": \"ጢ\",    \"ጥኣ\": \"ጣ\",    \"ጥኤ\": \"ጤ\",    \"ጥኦ\": \"ጦ\",    \"ጭኧ\": \"ጨ\",    \"ጭኡ\": \"ጩ\",    \"ጭኢ\": \"ጪ\",    \"ጭኣ\": \"ጫ\",    \"ጭኤ\": \"ጬ\",    \"ጭኦ\": \"ጮ\",    \"ጵኧ\": \"ጰ\",    \"ጵኡ\": \"ጱ\",    \"ጵኢ\": \"ጲ\",    \"ጵኣ\": \"ጳ\",    \"ጵኤ\": \"ጴ\",    \"ጵኦ\": \"ጶ\",    \"ጽኧ\": \"ጸ\",    \"ጽኡ\": \"ጹ\",    \"ጽኢ\": \"ጺ\",    \"ጽኣ\": \"ጻ\",    \"ጽኤ\": \"ጼ\",    \"ጽኦ\": \"ጾ\",    \"ፍኧ\": \"ፈ\",    \"ፍኡ\": \"ፉ\",    \"ፍኢ\": \"ፊ\",    \"ፍኣ\": \"ፋ\",    \"ፍኤ\": \"ፌ\",    \"ፍኦ\": \"ፎ\",    \"ፕኧ\": \"ፐ\",    \"ፕኡ\": \"ፑ\",    \"ፕኢ\": \"ፒ\",    \"ፕኣ\": \"ፓ\",    \"ፕኤ\": \"ፔ\",    \"ፕኦ\": \"ፖ\", \"ኧ\": \"ኧ\",    \" ኣ\": \"አ\",\"ኣ\": \"አ\",    \" ኡ\": \"ኡ\",    \" ኢ\": \"ኢ\",    \" ኤ\": \"ኤ\",    \" እ\": \"እ\",    \" ኦ\": \"ኦ\"\n",
        "}"
      ]
    },
    {
      "cell_type": "code",
      "execution_count": 54,
      "id": "UFG8F3PhoLIC",
      "metadata": {
        "id": "UFG8F3PhoLIC"
      },
      "outputs": [],
      "source": [
        "def mapBack(sent:str, tigre=False) -> str:\n",
        "  sent = sent.strip()\n",
        "  theMap = {}\n",
        "  if tigre :\n",
        "    theMap = phonemeToCharMap\n",
        "  else:\n",
        "    theMap = phonemeToCharMap\n",
        "  for a in theMap:\n",
        "    if a in sent:\n",
        "      sent = sent.replace(a, theMap[a])\n",
        "  return sent.strip()"
      ]
    },
    {
      "cell_type": "code",
      "execution_count": 57,
      "id": "WRacsrZhoPTd",
      "metadata": {
        "colab": {
          "base_uri": "https://localhost:8080/"
        },
        "id": "WRacsrZhoPTd",
        "outputId": "b8901924-9e6a-453d-dfc3-3a5f2a839264"
      },
      "outputs": [
        {
          "name": "stdout",
          "output_type": "stream",
          "text": [
            "የ ኢንተርኔት አገልግሎት ንም በ ተመለከተ በ ክልሎች በ ዞኖች ና በ አዲስ አበባ በ ተለያዩ ቦታዎች የ አገልግሎት ማእከሎች ን ለ ማቋቋም መታቀዱ ን አብራር ተዋል\n"
          ]
        }
      ],
      "source": [
        "transcription =mapBack(processor.batch_decode(pred_ids)[0])\n",
        "print(transcription)"
      ]
    },
    {
      "cell_type": "code",
      "execution_count": 56,
      "id": "3vpE62n_oZ3Q",
      "metadata": {
        "id": "3vpE62n_oZ3Q"
      },
      "outputs": [],
      "source": [
        "from transformers import MT5Tokenizer , T5Config, T5ForConditionalGeneration\n",
        "from typing import List,Tuple, Union\n",
        "import numpy as np\n",
        "\n",
        "# Define type aliases and NamedTuples\n",
        "TextInput = str\n",
        "PreTokenizedInput = List[str]\n",
        "EncodedInput = List[int]\n",
        "TextInputPair = Tuple[str, str]\n",
        "PreTokenizedInputPair = Tuple[List[str], List[str]]\n",
        "EncodedInputPair = Tuple[List[int], List[int]]\n",
        "\n",
        "lang_map_id = {\n",
        "    \"<am>\" : 15000,\n",
        "    \"<tig>\" : 15001,\n",
        "    \"<geez>\" : 15002,\n",
        "    \"<tigre>\" : 15003,\n",
        "}\n",
        "\n",
        "class GT5Tokenizer(MT5Tokenizer):\n",
        "    def __init__(self, **kwargs)-> None:\n",
        "        super().__init__(**kwargs)\n",
        "\n",
        "\n",
        "    def __call__(self, text: Union[TextInput, PreTokenizedInput, List[TextInput], List[PreTokenizedInput]] = None,\n",
        "                 lang:  Union[TextInput, List[TextInput]]=\"<am>\", **kwargs):\n",
        "        if text is not None:\n",
        "          if type(text) == TextInput or type(text) == str:\n",
        "            if type(lang)!=str:\n",
        "              raise Exception(f\"lang identifier can not be {type(lang)} for text type str\")\n",
        "            elif lang_map_id.get(lang, 0) == 0:\n",
        "              raise Exception(f\"language token '{lang}' is not supprted\")\n",
        "            text = lang + text\n",
        "          elif type(text)== list:\n",
        "            if len(text)==0:\n",
        "              raise Exception(\"empty list\")\n",
        "            elif type(text[0])==str:\n",
        "              langs =[]\n",
        "              if type(lang)==str:\n",
        "                langs = [lang for i in range(len(text))]\n",
        "              elif type(lang)==list and len(lang)==len(text):\n",
        "                langs=lang\n",
        "              else:\n",
        "                raise Exception(f\"lang identifier must have equal length {len(lang)} with text {len(text)}\")\n",
        "\n",
        "              count = 0\n",
        "              while count < len(text):\n",
        "                if lang_map_id.get(langs[count], 0) == 0:\n",
        "                  raise Exception(f\"language token '{langs[count]}' is not supprted\")\n",
        "                text[count] = langs[count] + text[count]\n",
        "                count +=1\n",
        "            elif type(text[0])==list and (type(lang)==str or len(lang)==len(text)):\n",
        "              if type(lang)==str:\n",
        "                if lang_map_id.get(lang, 0) == 0:\n",
        "                    raise Exception(f\"language token '{lang}' is not supprted\")\n",
        "                count = 0\n",
        "                while count < len(text):\n",
        "                  text[count].insert(0, lang)\n",
        "                  count +=1\n",
        "              else:\n",
        "                count = 0\n",
        "                while count < len(text):\n",
        "                  if lang_map_id.get(lang[count], 0) == 0:\n",
        "                      raise Exception(f\"language token '{lang[count]}' is not supprted\")\n",
        "                  text[count].insert(0, lang[count])\n",
        "                  count +=1\n",
        "            else:\n",
        "              raise Exception(f\"unsupported input type text: {type(text)}, lang: {type(lang)}\")\n",
        "          else:\n",
        "            raise Exception(f\"unsupported input type {type(text)}\")\n",
        "\n",
        "        # Call the parent class's __call__ method with the modified kwargs\n",
        "        return super().__call__(text, **kwargs)"
      ]
    },
    {
      "cell_type": "code",
      "execution_count": 59,
      "id": "Hpv4xnZvqJUz",
      "metadata": {
        "colab": {
          "base_uri": "https://localhost:8080/"
        },
        "id": "Hpv4xnZvqJUz",
        "outputId": "17043f0b-5621-4b63-8274-4cd1e943c6aa"
      },
      "outputs": [
        {
          "name": "stderr",
          "output_type": "stream",
          "text": [
            "Special tokens have been added in the vocabulary, make sure the associated word embeddings are fine-tuned or trained.\n"
          ]
        }
      ],
      "source": [
        "from transformers import T5Tokenizer, T5ForConditionalGeneration\n",
        "\n",
        "tokenizer = GT5Tokenizer.from_pretrained(\"Samuael/geez_t5-big-15k\")\n",
        "model = T5ForConditionalGeneration.from_pretrained(\"Samuael/geez_t5-big-15k\")\n",
        "\n",
        "input_ids = tokenizer(transcription, return_tensors=\"pt\", lang=\"<am>\").input_ids"
      ]
    },
    {
      "cell_type": "code",
      "execution_count": 60,
      "id": "4db1de9e",
      "metadata": {
        "cellView": "form",
        "colab": {
          "base_uri": "https://localhost:8080/"
        },
        "id": "4db1de9e",
        "outputId": "afedbb84-fda8-4dc3-bb3a-40d3d11857f0"
      },
      "outputs": [
        {
          "name": "stdout",
          "output_type": "stream",
          "text": [
            "የ ኢንተርኔት አገልግሎትንም በተመለከተ በክልሎች በ ዞኖችና በአዲስ አበባ በተለያዩ ቦታዎች የ አገልግሎት ማእከሎችን ለማቋቋም መታቀዱን አብራርተዋል\n"
          ]
        }
      ],
      "source": [
        "#@title Final Result\n",
        "outputs = model.generate(input_ids)\n",
        "print(tokenizer.decode(outputs[0], skip_special_tokens=True))"
      ]
    }
  ],
  "metadata": {
    "colab": {
      "provenance": []
    },
    "kernelspec": {
      "display_name": "Python 3.11.5 ('base')",
      "language": "python",
      "name": "python3"
    },
    "language_info": {
      "codemirror_mode": {
        "name": "ipython",
        "version": 3
      },
      "file_extension": ".py",
      "mimetype": "text/x-python",
      "name": "python",
      "nbconvert_exporter": "python",
      "pygments_lexer": "ipython3",
      "version": "3.11.5"
    },
    "papermill": {
      "default_parameters": {},
      "duration": 14737.943764,
      "end_time": "2021-12-25T20:35:48.888256",
      "environment_variables": {},
      "exception": null,
      "input_path": "__notebook__.ipynb",
      "output_path": "__notebook__.ipynb",
      "parameters": {},
      "start_time": "2021-12-25T16:30:10.944492",
      "version": "2.3.3"
    },
    "vscode": {
      "interpreter": {
        "hash": "38cca0c38332a56087b24af0bc80247f4fced29cb4f7f437d91dc159adec9c4e"
      }
    },
    "widgets": {
      "application/vnd.jupyter.widget-state+json": {
        "047f32feac2146368715e09b2acbeb3b": {
          "model_module": "@jupyter-widgets/base",
          "model_module_version": "1.2.0",
          "model_name": "LayoutModel",
          "state": {
            "_model_module": "@jupyter-widgets/base",
            "_model_module_version": "1.2.0",
            "_model_name": "LayoutModel",
            "_view_count": null,
            "_view_module": "@jupyter-widgets/base",
            "_view_module_version": "1.2.0",
            "_view_name": "LayoutView",
            "align_content": null,
            "align_items": null,
            "align_self": null,
            "border": null,
            "bottom": null,
            "display": null,
            "flex": null,
            "flex_flow": null,
            "grid_area": null,
            "grid_auto_columns": null,
            "grid_auto_flow": null,
            "grid_auto_rows": null,
            "grid_column": null,
            "grid_gap": null,
            "grid_row": null,
            "grid_template_areas": null,
            "grid_template_columns": null,
            "grid_template_rows": null,
            "height": null,
            "justify_content": null,
            "justify_items": null,
            "left": null,
            "margin": null,
            "max_height": null,
            "max_width": null,
            "min_height": null,
            "min_width": null,
            "object_fit": null,
            "object_position": null,
            "order": null,
            "overflow": null,
            "overflow_x": null,
            "overflow_y": null,
            "padding": null,
            "right": null,
            "top": null,
            "visibility": null,
            "width": null
          }
        },
        "04a69a87aab843e4832ea10026ff7b9b": {
          "model_module": "@jupyter-widgets/controls",
          "model_module_version": "1.5.0",
          "model_name": "HTMLModel",
          "state": {
            "_dom_classes": [],
            "_model_module": "@jupyter-widgets/controls",
            "_model_module_version": "1.5.0",
            "_model_name": "HTMLModel",
            "_view_count": null,
            "_view_module": "@jupyter-widgets/controls",
            "_view_module_version": "1.5.0",
            "_view_name": "HTMLView",
            "description": "",
            "description_tooltip": null,
            "layout": "IPY_MODEL_dfdca42538f14bf1ae8fcf587d030777",
            "placeholder": "​",
            "style": "IPY_MODEL_d74871458ad7461f9b918b3dd5694fd3",
            "value": " 1.05k/1.05k [00:00&lt;00:00, 52.4kB/s]"
          }
        },
        "0c9c360eb20f4cc79b0814884b5a4d93": {
          "model_module": "@jupyter-widgets/controls",
          "model_module_version": "1.5.0",
          "model_name": "ProgressStyleModel",
          "state": {
            "_model_module": "@jupyter-widgets/controls",
            "_model_module_version": "1.5.0",
            "_model_name": "ProgressStyleModel",
            "_view_count": null,
            "_view_module": "@jupyter-widgets/base",
            "_view_module_version": "1.2.0",
            "_view_name": "StyleView",
            "bar_color": null,
            "description_width": ""
          }
        },
        "2480f247976545bc8d7bd557a5caf0dd": {
          "model_module": "@jupyter-widgets/controls",
          "model_module_version": "1.5.0",
          "model_name": "DescriptionStyleModel",
          "state": {
            "_model_module": "@jupyter-widgets/controls",
            "_model_module_version": "1.5.0",
            "_model_name": "DescriptionStyleModel",
            "_view_count": null,
            "_view_module": "@jupyter-widgets/base",
            "_view_module_version": "1.2.0",
            "_view_name": "StyleView",
            "description_width": ""
          }
        },
        "25079010924344d8b6ed58cf3866cb9c": {
          "model_module": "@jupyter-widgets/base",
          "model_module_version": "1.2.0",
          "model_name": "LayoutModel",
          "state": {
            "_model_module": "@jupyter-widgets/base",
            "_model_module_version": "1.2.0",
            "_model_name": "LayoutModel",
            "_view_count": null,
            "_view_module": "@jupyter-widgets/base",
            "_view_module_version": "1.2.0",
            "_view_name": "LayoutView",
            "align_content": null,
            "align_items": null,
            "align_self": null,
            "border": null,
            "bottom": null,
            "display": null,
            "flex": null,
            "flex_flow": null,
            "grid_area": null,
            "grid_auto_columns": null,
            "grid_auto_flow": null,
            "grid_auto_rows": null,
            "grid_column": null,
            "grid_gap": null,
            "grid_row": null,
            "grid_template_areas": null,
            "grid_template_columns": null,
            "grid_template_rows": null,
            "height": null,
            "justify_content": null,
            "justify_items": null,
            "left": null,
            "margin": null,
            "max_height": null,
            "max_width": null,
            "min_height": null,
            "min_width": null,
            "object_fit": null,
            "object_position": null,
            "order": null,
            "overflow": null,
            "overflow_x": null,
            "overflow_y": null,
            "padding": null,
            "right": null,
            "top": null,
            "visibility": null,
            "width": null
          }
        },
        "28fcb3e1bbdd4b25b1748adf0800b520": {
          "model_module": "@jupyter-widgets/controls",
          "model_module_version": "1.5.0",
          "model_name": "FloatProgressModel",
          "state": {
            "_dom_classes": [],
            "_model_module": "@jupyter-widgets/controls",
            "_model_module_version": "1.5.0",
            "_model_name": "FloatProgressModel",
            "_view_count": null,
            "_view_module": "@jupyter-widgets/controls",
            "_view_module_version": "1.5.0",
            "_view_name": "ProgressView",
            "bar_style": "success",
            "description": "",
            "description_tooltip": null,
            "layout": "IPY_MODEL_8c834037adef4f63b75475ad07d552c1",
            "max": 476,
            "min": 0,
            "orientation": "horizontal",
            "style": "IPY_MODEL_745d346de2a0449b95a9f42b19a35df5",
            "value": 476
          }
        },
        "432b327a9be64848a32a42d2e8f38e6c": {
          "model_module": "@jupyter-widgets/base",
          "model_module_version": "1.2.0",
          "model_name": "LayoutModel",
          "state": {
            "_model_module": "@jupyter-widgets/base",
            "_model_module_version": "1.2.0",
            "_model_name": "LayoutModel",
            "_view_count": null,
            "_view_module": "@jupyter-widgets/base",
            "_view_module_version": "1.2.0",
            "_view_name": "LayoutView",
            "align_content": null,
            "align_items": null,
            "align_self": null,
            "border": null,
            "bottom": null,
            "display": null,
            "flex": null,
            "flex_flow": null,
            "grid_area": null,
            "grid_auto_columns": null,
            "grid_auto_flow": null,
            "grid_auto_rows": null,
            "grid_column": null,
            "grid_gap": null,
            "grid_row": null,
            "grid_template_areas": null,
            "grid_template_columns": null,
            "grid_template_rows": null,
            "height": null,
            "justify_content": null,
            "justify_items": null,
            "left": null,
            "margin": null,
            "max_height": null,
            "max_width": null,
            "min_height": null,
            "min_width": null,
            "object_fit": null,
            "object_position": null,
            "order": null,
            "overflow": null,
            "overflow_x": null,
            "overflow_y": null,
            "padding": null,
            "right": null,
            "top": null,
            "visibility": null,
            "width": null
          }
        },
        "43aa1c27fe3840ef875b6260fedca1a7": {
          "model_module": "@jupyter-widgets/base",
          "model_module_version": "1.2.0",
          "model_name": "LayoutModel",
          "state": {
            "_model_module": "@jupyter-widgets/base",
            "_model_module_version": "1.2.0",
            "_model_name": "LayoutModel",
            "_view_count": null,
            "_view_module": "@jupyter-widgets/base",
            "_view_module_version": "1.2.0",
            "_view_name": "LayoutView",
            "align_content": null,
            "align_items": null,
            "align_self": null,
            "border": null,
            "bottom": null,
            "display": null,
            "flex": null,
            "flex_flow": null,
            "grid_area": null,
            "grid_auto_columns": null,
            "grid_auto_flow": null,
            "grid_auto_rows": null,
            "grid_column": null,
            "grid_gap": null,
            "grid_row": null,
            "grid_template_areas": null,
            "grid_template_columns": null,
            "grid_template_rows": null,
            "height": null,
            "justify_content": null,
            "justify_items": null,
            "left": null,
            "margin": null,
            "max_height": null,
            "max_width": null,
            "min_height": null,
            "min_width": null,
            "object_fit": null,
            "object_position": null,
            "order": null,
            "overflow": null,
            "overflow_x": null,
            "overflow_y": null,
            "padding": null,
            "right": null,
            "top": null,
            "visibility": null,
            "width": null
          }
        },
        "48939a799f6d4f8aaaddc531e50cf191": {
          "model_module": "@jupyter-widgets/base",
          "model_module_version": "1.2.0",
          "model_name": "LayoutModel",
          "state": {
            "_model_module": "@jupyter-widgets/base",
            "_model_module_version": "1.2.0",
            "_model_name": "LayoutModel",
            "_view_count": null,
            "_view_module": "@jupyter-widgets/base",
            "_view_module_version": "1.2.0",
            "_view_name": "LayoutView",
            "align_content": null,
            "align_items": null,
            "align_self": null,
            "border": null,
            "bottom": null,
            "display": null,
            "flex": null,
            "flex_flow": null,
            "grid_area": null,
            "grid_auto_columns": null,
            "grid_auto_flow": null,
            "grid_auto_rows": null,
            "grid_column": null,
            "grid_gap": null,
            "grid_row": null,
            "grid_template_areas": null,
            "grid_template_columns": null,
            "grid_template_rows": null,
            "height": null,
            "justify_content": null,
            "justify_items": null,
            "left": null,
            "margin": null,
            "max_height": null,
            "max_width": null,
            "min_height": null,
            "min_width": null,
            "object_fit": null,
            "object_position": null,
            "order": null,
            "overflow": null,
            "overflow_x": null,
            "overflow_y": null,
            "padding": null,
            "right": null,
            "top": null,
            "visibility": null,
            "width": null
          }
        },
        "4cadb3cacd184990b751ab35fa8ec983": {
          "model_module": "@jupyter-widgets/base",
          "model_module_version": "1.2.0",
          "model_name": "LayoutModel",
          "state": {
            "_model_module": "@jupyter-widgets/base",
            "_model_module_version": "1.2.0",
            "_model_name": "LayoutModel",
            "_view_count": null,
            "_view_module": "@jupyter-widgets/base",
            "_view_module_version": "1.2.0",
            "_view_name": "LayoutView",
            "align_content": null,
            "align_items": null,
            "align_self": null,
            "border": null,
            "bottom": null,
            "display": null,
            "flex": null,
            "flex_flow": null,
            "grid_area": null,
            "grid_auto_columns": null,
            "grid_auto_flow": null,
            "grid_auto_rows": null,
            "grid_column": null,
            "grid_gap": null,
            "grid_row": null,
            "grid_template_areas": null,
            "grid_template_columns": null,
            "grid_template_rows": null,
            "height": null,
            "justify_content": null,
            "justify_items": null,
            "left": null,
            "margin": null,
            "max_height": null,
            "max_width": null,
            "min_height": null,
            "min_width": null,
            "object_fit": null,
            "object_position": null,
            "order": null,
            "overflow": null,
            "overflow_x": null,
            "overflow_y": null,
            "padding": null,
            "right": null,
            "top": null,
            "visibility": null,
            "width": null
          }
        },
        "50000820a1784139a1118836f7317cbb": {
          "model_module": "@jupyter-widgets/controls",
          "model_module_version": "1.5.0",
          "model_name": "DescriptionStyleModel",
          "state": {
            "_model_module": "@jupyter-widgets/controls",
            "_model_module_version": "1.5.0",
            "_model_name": "DescriptionStyleModel",
            "_view_count": null,
            "_view_module": "@jupyter-widgets/base",
            "_view_module_version": "1.2.0",
            "_view_name": "StyleView",
            "description_width": ""
          }
        },
        "576ea4c5ecde42538b35e504bdb7a7ed": {
          "model_module": "@jupyter-widgets/controls",
          "model_module_version": "1.5.0",
          "model_name": "HTMLModel",
          "state": {
            "_dom_classes": [],
            "_model_module": "@jupyter-widgets/controls",
            "_model_module_version": "1.5.0",
            "_model_name": "HTMLModel",
            "_view_count": null,
            "_view_module": "@jupyter-widgets/controls",
            "_view_module_version": "1.5.0",
            "_view_name": "HTMLView",
            "description": "",
            "description_tooltip": null,
            "layout": "IPY_MODEL_d5732aa85f494b2284b70f0c55181b12",
            "placeholder": "​",
            "style": "IPY_MODEL_a38c1087c50e49acb193381e3a21c3ee",
            "value": "special_tokens_map.json: 100%"
          }
        },
        "732e8663f7fc4d248ac70987da63f209": {
          "model_module": "@jupyter-widgets/base",
          "model_module_version": "1.2.0",
          "model_name": "LayoutModel",
          "state": {
            "_model_module": "@jupyter-widgets/base",
            "_model_module_version": "1.2.0",
            "_model_name": "LayoutModel",
            "_view_count": null,
            "_view_module": "@jupyter-widgets/base",
            "_view_module_version": "1.2.0",
            "_view_name": "LayoutView",
            "align_content": null,
            "align_items": null,
            "align_self": null,
            "border": null,
            "bottom": null,
            "display": null,
            "flex": null,
            "flex_flow": null,
            "grid_area": null,
            "grid_auto_columns": null,
            "grid_auto_flow": null,
            "grid_auto_rows": null,
            "grid_column": null,
            "grid_gap": null,
            "grid_row": null,
            "grid_template_areas": null,
            "grid_template_columns": null,
            "grid_template_rows": null,
            "height": null,
            "justify_content": null,
            "justify_items": null,
            "left": null,
            "margin": null,
            "max_height": null,
            "max_width": null,
            "min_height": null,
            "min_width": null,
            "object_fit": null,
            "object_position": null,
            "order": null,
            "overflow": null,
            "overflow_x": null,
            "overflow_y": null,
            "padding": null,
            "right": null,
            "top": null,
            "visibility": null,
            "width": null
          }
        },
        "745d346de2a0449b95a9f42b19a35df5": {
          "model_module": "@jupyter-widgets/controls",
          "model_module_version": "1.5.0",
          "model_name": "ProgressStyleModel",
          "state": {
            "_model_module": "@jupyter-widgets/controls",
            "_model_module_version": "1.5.0",
            "_model_name": "ProgressStyleModel",
            "_view_count": null,
            "_view_module": "@jupyter-widgets/base",
            "_view_module_version": "1.2.0",
            "_view_name": "StyleView",
            "bar_color": null,
            "description_width": ""
          }
        },
        "769638d3294e4c36abdce48298a0f90c": {
          "model_module": "@jupyter-widgets/controls",
          "model_module_version": "1.5.0",
          "model_name": "HTMLModel",
          "state": {
            "_dom_classes": [],
            "_model_module": "@jupyter-widgets/controls",
            "_model_module_version": "1.5.0",
            "_model_name": "HTMLModel",
            "_view_count": null,
            "_view_module": "@jupyter-widgets/controls",
            "_view_module_version": "1.5.0",
            "_view_name": "HTMLView",
            "description": "",
            "description_tooltip": null,
            "layout": "IPY_MODEL_a8b5cd6d21064a3dad7ecc4414a705ac",
            "placeholder": "​",
            "style": "IPY_MODEL_50000820a1784139a1118836f7317cbb",
            "value": "added_tokens.json: 100%"
          }
        },
        "81c17b0989534b03b8fb6335e3a7d007": {
          "model_module": "@jupyter-widgets/controls",
          "model_module_version": "1.5.0",
          "model_name": "HTMLModel",
          "state": {
            "_dom_classes": [],
            "_model_module": "@jupyter-widgets/controls",
            "_model_module_version": "1.5.0",
            "_model_name": "HTMLModel",
            "_view_count": null,
            "_view_module": "@jupyter-widgets/controls",
            "_view_module_version": "1.5.0",
            "_view_name": "HTMLView",
            "description": "",
            "description_tooltip": null,
            "layout": "IPY_MODEL_4cadb3cacd184990b751ab35fa8ec983",
            "placeholder": "​",
            "style": "IPY_MODEL_c02408342bd040ad9df5ac149368973a",
            "value": " 30.0/30.0 [00:00&lt;00:00, 1.58kB/s]"
          }
        },
        "8231c1e455d54a2397c06125906f6df6": {
          "model_module": "@jupyter-widgets/controls",
          "model_module_version": "1.5.0",
          "model_name": "DescriptionStyleModel",
          "state": {
            "_model_module": "@jupyter-widgets/controls",
            "_model_module_version": "1.5.0",
            "_model_name": "DescriptionStyleModel",
            "_view_count": null,
            "_view_module": "@jupyter-widgets/base",
            "_view_module_version": "1.2.0",
            "_view_name": "StyleView",
            "description_width": ""
          }
        },
        "84c34738229b47bf83a450eadd2dbbda": {
          "model_module": "@jupyter-widgets/controls",
          "model_module_version": "1.5.0",
          "model_name": "ProgressStyleModel",
          "state": {
            "_model_module": "@jupyter-widgets/controls",
            "_model_module_version": "1.5.0",
            "_model_name": "ProgressStyleModel",
            "_view_count": null,
            "_view_module": "@jupyter-widgets/base",
            "_view_module_version": "1.2.0",
            "_view_name": "StyleView",
            "bar_color": null,
            "description_width": ""
          }
        },
        "873a2d347a7c42e7af3aa46485f2e16b": {
          "model_module": "@jupyter-widgets/controls",
          "model_module_version": "1.5.0",
          "model_name": "FloatProgressModel",
          "state": {
            "_dom_classes": [],
            "_model_module": "@jupyter-widgets/controls",
            "_model_module_version": "1.5.0",
            "_model_name": "FloatProgressModel",
            "_view_count": null,
            "_view_module": "@jupyter-widgets/controls",
            "_view_module_version": "1.5.0",
            "_view_name": "ProgressView",
            "bar_style": "success",
            "description": "",
            "description_tooltip": null,
            "layout": "IPY_MODEL_a71406f05b70487b82e6d163a7e97881",
            "max": 30,
            "min": 0,
            "orientation": "horizontal",
            "style": "IPY_MODEL_c554f7214621403a819cf618d567c3fb",
            "value": 30
          }
        },
        "87d9a948e6eb4c528a2108c63c6a7bc5": {
          "model_module": "@jupyter-widgets/controls",
          "model_module_version": "1.5.0",
          "model_name": "FloatProgressModel",
          "state": {
            "_dom_classes": [],
            "_model_module": "@jupyter-widgets/controls",
            "_model_module_version": "1.5.0",
            "_model_name": "FloatProgressModel",
            "_view_count": null,
            "_view_module": "@jupyter-widgets/controls",
            "_view_module_version": "1.5.0",
            "_view_name": "ProgressView",
            "bar_style": "success",
            "description": "",
            "description_tooltip": null,
            "layout": "IPY_MODEL_48939a799f6d4f8aaaddc531e50cf191",
            "max": 96,
            "min": 0,
            "orientation": "horizontal",
            "style": "IPY_MODEL_84c34738229b47bf83a450eadd2dbbda",
            "value": 96
          }
        },
        "8b83543d6ee04743bc63f2cabcfc8d1c": {
          "model_module": "@jupyter-widgets/controls",
          "model_module_version": "1.5.0",
          "model_name": "HBoxModel",
          "state": {
            "_dom_classes": [],
            "_model_module": "@jupyter-widgets/controls",
            "_model_module_version": "1.5.0",
            "_model_name": "HBoxModel",
            "_view_count": null,
            "_view_module": "@jupyter-widgets/controls",
            "_view_module_version": "1.5.0",
            "_view_name": "HBoxView",
            "box_style": "",
            "children": [
              "IPY_MODEL_e1d966b1a40940f79d986de4e501aea6",
              "IPY_MODEL_28fcb3e1bbdd4b25b1748adf0800b520",
              "IPY_MODEL_cccf5d768bd043a98ce164ad5f07ef30"
            ],
            "layout": "IPY_MODEL_d4dba7b9835f4816ae6b13de966d7fc4"
          }
        },
        "8c834037adef4f63b75475ad07d552c1": {
          "model_module": "@jupyter-widgets/base",
          "model_module_version": "1.2.0",
          "model_name": "LayoutModel",
          "state": {
            "_model_module": "@jupyter-widgets/base",
            "_model_module_version": "1.2.0",
            "_model_name": "LayoutModel",
            "_view_count": null,
            "_view_module": "@jupyter-widgets/base",
            "_view_module_version": "1.2.0",
            "_view_name": "LayoutView",
            "align_content": null,
            "align_items": null,
            "align_self": null,
            "border": null,
            "bottom": null,
            "display": null,
            "flex": null,
            "flex_flow": null,
            "grid_area": null,
            "grid_auto_columns": null,
            "grid_auto_flow": null,
            "grid_auto_rows": null,
            "grid_column": null,
            "grid_gap": null,
            "grid_row": null,
            "grid_template_areas": null,
            "grid_template_columns": null,
            "grid_template_rows": null,
            "height": null,
            "justify_content": null,
            "justify_items": null,
            "left": null,
            "margin": null,
            "max_height": null,
            "max_width": null,
            "min_height": null,
            "min_width": null,
            "object_fit": null,
            "object_position": null,
            "order": null,
            "overflow": null,
            "overflow_x": null,
            "overflow_y": null,
            "padding": null,
            "right": null,
            "top": null,
            "visibility": null,
            "width": null
          }
        },
        "923790422ce9434785dfba6ac22bcd95": {
          "model_module": "@jupyter-widgets/controls",
          "model_module_version": "1.5.0",
          "model_name": "HBoxModel",
          "state": {
            "_dom_classes": [],
            "_model_module": "@jupyter-widgets/controls",
            "_model_module_version": "1.5.0",
            "_model_name": "HBoxModel",
            "_view_count": null,
            "_view_module": "@jupyter-widgets/controls",
            "_view_module_version": "1.5.0",
            "_view_name": "HBoxView",
            "box_style": "",
            "children": [
              "IPY_MODEL_769638d3294e4c36abdce48298a0f90c",
              "IPY_MODEL_873a2d347a7c42e7af3aa46485f2e16b",
              "IPY_MODEL_81c17b0989534b03b8fb6335e3a7d007"
            ],
            "layout": "IPY_MODEL_43aa1c27fe3840ef875b6260fedca1a7"
          }
        },
        "9e5b91df862846c6991c6e173a0f875b": {
          "model_module": "@jupyter-widgets/controls",
          "model_module_version": "1.5.0",
          "model_name": "HTMLModel",
          "state": {
            "_dom_classes": [],
            "_model_module": "@jupyter-widgets/controls",
            "_model_module_version": "1.5.0",
            "_model_name": "HTMLModel",
            "_view_count": null,
            "_view_module": "@jupyter-widgets/controls",
            "_view_module_version": "1.5.0",
            "_view_name": "HTMLView",
            "description": "",
            "description_tooltip": null,
            "layout": "IPY_MODEL_cfdaf70f20c749f58885f340bb477bb5",
            "placeholder": "​",
            "style": "IPY_MODEL_8231c1e455d54a2397c06125906f6df6",
            "value": "tokenizer_config.json: 100%"
          }
        },
        "a1be89865a324b5f84e62aa0d3e454fa": {
          "model_module": "@jupyter-widgets/controls",
          "model_module_version": "1.5.0",
          "model_name": "DescriptionStyleModel",
          "state": {
            "_model_module": "@jupyter-widgets/controls",
            "_model_module_version": "1.5.0",
            "_model_name": "DescriptionStyleModel",
            "_view_count": null,
            "_view_module": "@jupyter-widgets/base",
            "_view_module_version": "1.2.0",
            "_view_name": "StyleView",
            "description_width": ""
          }
        },
        "a215cd7d733d47d381e21c7fda9dcfe9": {
          "model_module": "@jupyter-widgets/controls",
          "model_module_version": "1.5.0",
          "model_name": "HTMLModel",
          "state": {
            "_dom_classes": [],
            "_model_module": "@jupyter-widgets/controls",
            "_model_module_version": "1.5.0",
            "_model_name": "HTMLModel",
            "_view_count": null,
            "_view_module": "@jupyter-widgets/controls",
            "_view_module_version": "1.5.0",
            "_view_name": "HTMLView",
            "description": "",
            "description_tooltip": null,
            "layout": "IPY_MODEL_047f32feac2146368715e09b2acbeb3b",
            "placeholder": "​",
            "style": "IPY_MODEL_2480f247976545bc8d7bd557a5caf0dd",
            "value": " 96.0/96.0 [00:00&lt;00:00, 4.55kB/s]"
          }
        },
        "a38c1087c50e49acb193381e3a21c3ee": {
          "model_module": "@jupyter-widgets/controls",
          "model_module_version": "1.5.0",
          "model_name": "DescriptionStyleModel",
          "state": {
            "_model_module": "@jupyter-widgets/controls",
            "_model_module_version": "1.5.0",
            "_model_name": "DescriptionStyleModel",
            "_view_count": null,
            "_view_module": "@jupyter-widgets/base",
            "_view_module_version": "1.2.0",
            "_view_name": "StyleView",
            "description_width": ""
          }
        },
        "a71406f05b70487b82e6d163a7e97881": {
          "model_module": "@jupyter-widgets/base",
          "model_module_version": "1.2.0",
          "model_name": "LayoutModel",
          "state": {
            "_model_module": "@jupyter-widgets/base",
            "_model_module_version": "1.2.0",
            "_model_name": "LayoutModel",
            "_view_count": null,
            "_view_module": "@jupyter-widgets/base",
            "_view_module_version": "1.2.0",
            "_view_name": "LayoutView",
            "align_content": null,
            "align_items": null,
            "align_self": null,
            "border": null,
            "bottom": null,
            "display": null,
            "flex": null,
            "flex_flow": null,
            "grid_area": null,
            "grid_auto_columns": null,
            "grid_auto_flow": null,
            "grid_auto_rows": null,
            "grid_column": null,
            "grid_gap": null,
            "grid_row": null,
            "grid_template_areas": null,
            "grid_template_columns": null,
            "grid_template_rows": null,
            "height": null,
            "justify_content": null,
            "justify_items": null,
            "left": null,
            "margin": null,
            "max_height": null,
            "max_width": null,
            "min_height": null,
            "min_width": null,
            "object_fit": null,
            "object_position": null,
            "order": null,
            "overflow": null,
            "overflow_x": null,
            "overflow_y": null,
            "padding": null,
            "right": null,
            "top": null,
            "visibility": null,
            "width": null
          }
        },
        "a8b5cd6d21064a3dad7ecc4414a705ac": {
          "model_module": "@jupyter-widgets/base",
          "model_module_version": "1.2.0",
          "model_name": "LayoutModel",
          "state": {
            "_model_module": "@jupyter-widgets/base",
            "_model_module_version": "1.2.0",
            "_model_name": "LayoutModel",
            "_view_count": null,
            "_view_module": "@jupyter-widgets/base",
            "_view_module_version": "1.2.0",
            "_view_name": "LayoutView",
            "align_content": null,
            "align_items": null,
            "align_self": null,
            "border": null,
            "bottom": null,
            "display": null,
            "flex": null,
            "flex_flow": null,
            "grid_area": null,
            "grid_auto_columns": null,
            "grid_auto_flow": null,
            "grid_auto_rows": null,
            "grid_column": null,
            "grid_gap": null,
            "grid_row": null,
            "grid_template_areas": null,
            "grid_template_columns": null,
            "grid_template_rows": null,
            "height": null,
            "justify_content": null,
            "justify_items": null,
            "left": null,
            "margin": null,
            "max_height": null,
            "max_width": null,
            "min_height": null,
            "min_width": null,
            "object_fit": null,
            "object_position": null,
            "order": null,
            "overflow": null,
            "overflow_x": null,
            "overflow_y": null,
            "padding": null,
            "right": null,
            "top": null,
            "visibility": null,
            "width": null
          }
        },
        "b2c52b79b75a45988a29038b3b670626": {
          "model_module": "@jupyter-widgets/controls",
          "model_module_version": "1.5.0",
          "model_name": "FloatProgressModel",
          "state": {
            "_dom_classes": [],
            "_model_module": "@jupyter-widgets/controls",
            "_model_module_version": "1.5.0",
            "_model_name": "FloatProgressModel",
            "_view_count": null,
            "_view_module": "@jupyter-widgets/controls",
            "_view_module_version": "1.5.0",
            "_view_name": "ProgressView",
            "bar_style": "success",
            "description": "",
            "description_tooltip": null,
            "layout": "IPY_MODEL_25079010924344d8b6ed58cf3866cb9c",
            "max": 1051,
            "min": 0,
            "orientation": "horizontal",
            "style": "IPY_MODEL_0c9c360eb20f4cc79b0814884b5a4d93",
            "value": 1051
          }
        },
        "bbb62b0bdd4a4cb496d3e74d55b2d700": {
          "model_module": "@jupyter-widgets/base",
          "model_module_version": "1.2.0",
          "model_name": "LayoutModel",
          "state": {
            "_model_module": "@jupyter-widgets/base",
            "_model_module_version": "1.2.0",
            "_model_name": "LayoutModel",
            "_view_count": null,
            "_view_module": "@jupyter-widgets/base",
            "_view_module_version": "1.2.0",
            "_view_name": "LayoutView",
            "align_content": null,
            "align_items": null,
            "align_self": null,
            "border": null,
            "bottom": null,
            "display": null,
            "flex": null,
            "flex_flow": null,
            "grid_area": null,
            "grid_auto_columns": null,
            "grid_auto_flow": null,
            "grid_auto_rows": null,
            "grid_column": null,
            "grid_gap": null,
            "grid_row": null,
            "grid_template_areas": null,
            "grid_template_columns": null,
            "grid_template_rows": null,
            "height": null,
            "justify_content": null,
            "justify_items": null,
            "left": null,
            "margin": null,
            "max_height": null,
            "max_width": null,
            "min_height": null,
            "min_width": null,
            "object_fit": null,
            "object_position": null,
            "order": null,
            "overflow": null,
            "overflow_x": null,
            "overflow_y": null,
            "padding": null,
            "right": null,
            "top": null,
            "visibility": null,
            "width": null
          }
        },
        "c02408342bd040ad9df5ac149368973a": {
          "model_module": "@jupyter-widgets/controls",
          "model_module_version": "1.5.0",
          "model_name": "DescriptionStyleModel",
          "state": {
            "_model_module": "@jupyter-widgets/controls",
            "_model_module_version": "1.5.0",
            "_model_name": "DescriptionStyleModel",
            "_view_count": null,
            "_view_module": "@jupyter-widgets/base",
            "_view_module_version": "1.2.0",
            "_view_name": "StyleView",
            "description_width": ""
          }
        },
        "c554f7214621403a819cf618d567c3fb": {
          "model_module": "@jupyter-widgets/controls",
          "model_module_version": "1.5.0",
          "model_name": "ProgressStyleModel",
          "state": {
            "_model_module": "@jupyter-widgets/controls",
            "_model_module_version": "1.5.0",
            "_model_name": "ProgressStyleModel",
            "_view_count": null,
            "_view_module": "@jupyter-widgets/base",
            "_view_module_version": "1.2.0",
            "_view_name": "StyleView",
            "bar_color": null,
            "description_width": ""
          }
        },
        "cbaec2c51444472b86068acdcad71350": {
          "model_module": "@jupyter-widgets/controls",
          "model_module_version": "1.5.0",
          "model_name": "DescriptionStyleModel",
          "state": {
            "_model_module": "@jupyter-widgets/controls",
            "_model_module_version": "1.5.0",
            "_model_name": "DescriptionStyleModel",
            "_view_count": null,
            "_view_module": "@jupyter-widgets/base",
            "_view_module_version": "1.2.0",
            "_view_name": "StyleView",
            "description_width": ""
          }
        },
        "cccf5d768bd043a98ce164ad5f07ef30": {
          "model_module": "@jupyter-widgets/controls",
          "model_module_version": "1.5.0",
          "model_name": "HTMLModel",
          "state": {
            "_dom_classes": [],
            "_model_module": "@jupyter-widgets/controls",
            "_model_module_version": "1.5.0",
            "_model_name": "HTMLModel",
            "_view_count": null,
            "_view_module": "@jupyter-widgets/controls",
            "_view_module_version": "1.5.0",
            "_view_name": "HTMLView",
            "description": "",
            "description_tooltip": null,
            "layout": "IPY_MODEL_432b327a9be64848a32a42d2e8f38e6c",
            "placeholder": "​",
            "style": "IPY_MODEL_a1be89865a324b5f84e62aa0d3e454fa",
            "value": " 476/476 [00:00&lt;00:00, 17.6kB/s]"
          }
        },
        "cfdaf70f20c749f58885f340bb477bb5": {
          "model_module": "@jupyter-widgets/base",
          "model_module_version": "1.2.0",
          "model_name": "LayoutModel",
          "state": {
            "_model_module": "@jupyter-widgets/base",
            "_model_module_version": "1.2.0",
            "_model_name": "LayoutModel",
            "_view_count": null,
            "_view_module": "@jupyter-widgets/base",
            "_view_module_version": "1.2.0",
            "_view_name": "LayoutView",
            "align_content": null,
            "align_items": null,
            "align_self": null,
            "border": null,
            "bottom": null,
            "display": null,
            "flex": null,
            "flex_flow": null,
            "grid_area": null,
            "grid_auto_columns": null,
            "grid_auto_flow": null,
            "grid_auto_rows": null,
            "grid_column": null,
            "grid_gap": null,
            "grid_row": null,
            "grid_template_areas": null,
            "grid_template_columns": null,
            "grid_template_rows": null,
            "height": null,
            "justify_content": null,
            "justify_items": null,
            "left": null,
            "margin": null,
            "max_height": null,
            "max_width": null,
            "min_height": null,
            "min_width": null,
            "object_fit": null,
            "object_position": null,
            "order": null,
            "overflow": null,
            "overflow_x": null,
            "overflow_y": null,
            "padding": null,
            "right": null,
            "top": null,
            "visibility": null,
            "width": null
          }
        },
        "d027448673374f6d8c3af7f552e2957c": {
          "model_module": "@jupyter-widgets/controls",
          "model_module_version": "1.5.0",
          "model_name": "HBoxModel",
          "state": {
            "_dom_classes": [],
            "_model_module": "@jupyter-widgets/controls",
            "_model_module_version": "1.5.0",
            "_model_name": "HBoxModel",
            "_view_count": null,
            "_view_module": "@jupyter-widgets/controls",
            "_view_module_version": "1.5.0",
            "_view_name": "HBoxView",
            "box_style": "",
            "children": [
              "IPY_MODEL_9e5b91df862846c6991c6e173a0f875b",
              "IPY_MODEL_b2c52b79b75a45988a29038b3b670626",
              "IPY_MODEL_04a69a87aab843e4832ea10026ff7b9b"
            ],
            "layout": "IPY_MODEL_dd3e169267134d8a8f5b3e7a3a4ed2b8"
          }
        },
        "d4dba7b9835f4816ae6b13de966d7fc4": {
          "model_module": "@jupyter-widgets/base",
          "model_module_version": "1.2.0",
          "model_name": "LayoutModel",
          "state": {
            "_model_module": "@jupyter-widgets/base",
            "_model_module_version": "1.2.0",
            "_model_name": "LayoutModel",
            "_view_count": null,
            "_view_module": "@jupyter-widgets/base",
            "_view_module_version": "1.2.0",
            "_view_name": "LayoutView",
            "align_content": null,
            "align_items": null,
            "align_self": null,
            "border": null,
            "bottom": null,
            "display": null,
            "flex": null,
            "flex_flow": null,
            "grid_area": null,
            "grid_auto_columns": null,
            "grid_auto_flow": null,
            "grid_auto_rows": null,
            "grid_column": null,
            "grid_gap": null,
            "grid_row": null,
            "grid_template_areas": null,
            "grid_template_columns": null,
            "grid_template_rows": null,
            "height": null,
            "justify_content": null,
            "justify_items": null,
            "left": null,
            "margin": null,
            "max_height": null,
            "max_width": null,
            "min_height": null,
            "min_width": null,
            "object_fit": null,
            "object_position": null,
            "order": null,
            "overflow": null,
            "overflow_x": null,
            "overflow_y": null,
            "padding": null,
            "right": null,
            "top": null,
            "visibility": null,
            "width": null
          }
        },
        "d5732aa85f494b2284b70f0c55181b12": {
          "model_module": "@jupyter-widgets/base",
          "model_module_version": "1.2.0",
          "model_name": "LayoutModel",
          "state": {
            "_model_module": "@jupyter-widgets/base",
            "_model_module_version": "1.2.0",
            "_model_name": "LayoutModel",
            "_view_count": null,
            "_view_module": "@jupyter-widgets/base",
            "_view_module_version": "1.2.0",
            "_view_name": "LayoutView",
            "align_content": null,
            "align_items": null,
            "align_self": null,
            "border": null,
            "bottom": null,
            "display": null,
            "flex": null,
            "flex_flow": null,
            "grid_area": null,
            "grid_auto_columns": null,
            "grid_auto_flow": null,
            "grid_auto_rows": null,
            "grid_column": null,
            "grid_gap": null,
            "grid_row": null,
            "grid_template_areas": null,
            "grid_template_columns": null,
            "grid_template_rows": null,
            "height": null,
            "justify_content": null,
            "justify_items": null,
            "left": null,
            "margin": null,
            "max_height": null,
            "max_width": null,
            "min_height": null,
            "min_width": null,
            "object_fit": null,
            "object_position": null,
            "order": null,
            "overflow": null,
            "overflow_x": null,
            "overflow_y": null,
            "padding": null,
            "right": null,
            "top": null,
            "visibility": null,
            "width": null
          }
        },
        "d74871458ad7461f9b918b3dd5694fd3": {
          "model_module": "@jupyter-widgets/controls",
          "model_module_version": "1.5.0",
          "model_name": "DescriptionStyleModel",
          "state": {
            "_model_module": "@jupyter-widgets/controls",
            "_model_module_version": "1.5.0",
            "_model_name": "DescriptionStyleModel",
            "_view_count": null,
            "_view_module": "@jupyter-widgets/base",
            "_view_module_version": "1.2.0",
            "_view_name": "StyleView",
            "description_width": ""
          }
        },
        "dd3e169267134d8a8f5b3e7a3a4ed2b8": {
          "model_module": "@jupyter-widgets/base",
          "model_module_version": "1.2.0",
          "model_name": "LayoutModel",
          "state": {
            "_model_module": "@jupyter-widgets/base",
            "_model_module_version": "1.2.0",
            "_model_name": "LayoutModel",
            "_view_count": null,
            "_view_module": "@jupyter-widgets/base",
            "_view_module_version": "1.2.0",
            "_view_name": "LayoutView",
            "align_content": null,
            "align_items": null,
            "align_self": null,
            "border": null,
            "bottom": null,
            "display": null,
            "flex": null,
            "flex_flow": null,
            "grid_area": null,
            "grid_auto_columns": null,
            "grid_auto_flow": null,
            "grid_auto_rows": null,
            "grid_column": null,
            "grid_gap": null,
            "grid_row": null,
            "grid_template_areas": null,
            "grid_template_columns": null,
            "grid_template_rows": null,
            "height": null,
            "justify_content": null,
            "justify_items": null,
            "left": null,
            "margin": null,
            "max_height": null,
            "max_width": null,
            "min_height": null,
            "min_width": null,
            "object_fit": null,
            "object_position": null,
            "order": null,
            "overflow": null,
            "overflow_x": null,
            "overflow_y": null,
            "padding": null,
            "right": null,
            "top": null,
            "visibility": null,
            "width": null
          }
        },
        "dfdca42538f14bf1ae8fcf587d030777": {
          "model_module": "@jupyter-widgets/base",
          "model_module_version": "1.2.0",
          "model_name": "LayoutModel",
          "state": {
            "_model_module": "@jupyter-widgets/base",
            "_model_module_version": "1.2.0",
            "_model_name": "LayoutModel",
            "_view_count": null,
            "_view_module": "@jupyter-widgets/base",
            "_view_module_version": "1.2.0",
            "_view_name": "LayoutView",
            "align_content": null,
            "align_items": null,
            "align_self": null,
            "border": null,
            "bottom": null,
            "display": null,
            "flex": null,
            "flex_flow": null,
            "grid_area": null,
            "grid_auto_columns": null,
            "grid_auto_flow": null,
            "grid_auto_rows": null,
            "grid_column": null,
            "grid_gap": null,
            "grid_row": null,
            "grid_template_areas": null,
            "grid_template_columns": null,
            "grid_template_rows": null,
            "height": null,
            "justify_content": null,
            "justify_items": null,
            "left": null,
            "margin": null,
            "max_height": null,
            "max_width": null,
            "min_height": null,
            "min_width": null,
            "object_fit": null,
            "object_position": null,
            "order": null,
            "overflow": null,
            "overflow_x": null,
            "overflow_y": null,
            "padding": null,
            "right": null,
            "top": null,
            "visibility": null,
            "width": null
          }
        },
        "e1d966b1a40940f79d986de4e501aea6": {
          "model_module": "@jupyter-widgets/controls",
          "model_module_version": "1.5.0",
          "model_name": "HTMLModel",
          "state": {
            "_dom_classes": [],
            "_model_module": "@jupyter-widgets/controls",
            "_model_module_version": "1.5.0",
            "_model_name": "HTMLModel",
            "_view_count": null,
            "_view_module": "@jupyter-widgets/controls",
            "_view_module_version": "1.5.0",
            "_view_name": "HTMLView",
            "description": "",
            "description_tooltip": null,
            "layout": "IPY_MODEL_732e8663f7fc4d248ac70987da63f209",
            "placeholder": "​",
            "style": "IPY_MODEL_cbaec2c51444472b86068acdcad71350",
            "value": "vocab.json: 100%"
          }
        },
        "f7cbddaeb3f4401b9e863ea6911633ac": {
          "model_module": "@jupyter-widgets/controls",
          "model_module_version": "1.5.0",
          "model_name": "HBoxModel",
          "state": {
            "_dom_classes": [],
            "_model_module": "@jupyter-widgets/controls",
            "_model_module_version": "1.5.0",
            "_model_name": "HBoxModel",
            "_view_count": null,
            "_view_module": "@jupyter-widgets/controls",
            "_view_module_version": "1.5.0",
            "_view_name": "HBoxView",
            "box_style": "",
            "children": [
              "IPY_MODEL_576ea4c5ecde42538b35e504bdb7a7ed",
              "IPY_MODEL_87d9a948e6eb4c528a2108c63c6a7bc5",
              "IPY_MODEL_a215cd7d733d47d381e21c7fda9dcfe9"
            ],
            "layout": "IPY_MODEL_bbb62b0bdd4a4cb496d3e74d55b2d700"
          }
        }
      }
    }
  },
  "nbformat": 4,
  "nbformat_minor": 5
}
