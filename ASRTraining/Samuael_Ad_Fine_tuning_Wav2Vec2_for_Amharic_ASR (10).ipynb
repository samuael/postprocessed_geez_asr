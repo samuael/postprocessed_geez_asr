{
  "cells": [
    {
      "cell_type": "markdown",
      "metadata": {
        "id": "LBSYoWbi-45k"
      },
      "source": [
        "# **Fine-tuning Wav2Vec2 for Amharic ASR with Transformers**"
      ]
    },
    {
      "cell_type": "code",
      "execution_count": null,
      "metadata": {
        "colab": {
          "base_uri": "https://localhost:8080/"
        },
        "id": "MQKbgypUBHvE",
        "outputId": "144e0d07-7279-41f2-e9ab-e634c22f68d3"
      },
      "outputs": [
        {
          "name": "stdout",
          "output_type": "stream",
          "text": [
            "Drive already mounted at /content/gdrive; to attempt to forcibly remount, call drive.mount(\"/content/gdrive\", force_remount=True).\n"
          ]
        }
      ],
      "source": [
        "from google.colab import drive\n",
        "drive.mount(\"/content/gdrive\")"
      ]
    },
    {
      "cell_type": "code",
      "execution_count": null,
      "metadata": {
        "colab": {
          "base_uri": "https://localhost:8080/"
        },
        "id": "SLAufgh_xxj7",
        "outputId": "e73605bd-e760-41e6-a493-0b5b5070671e"
      },
      "outputs": [
        {
          "name": "stdout",
          "output_type": "stream",
          "text": [
            "Sun Mar 31 15:17:59 2024       \n",
            "+---------------------------------------------------------------------------------------+\n",
            "| NVIDIA-SMI 535.104.05             Driver Version: 535.104.05   CUDA Version: 12.2     |\n",
            "|-----------------------------------------+----------------------+----------------------+\n",
            "| GPU  Name                 Persistence-M | Bus-Id        Disp.A | Volatile Uncorr. ECC |\n",
            "| Fan  Temp   Perf          Pwr:Usage/Cap |         Memory-Usage | GPU-Util  Compute M. |\n",
            "|                                         |                      |               MIG M. |\n",
            "|=========================================+======================+======================|\n",
            "|   0  Tesla T4                       Off | 00000000:00:04.0 Off |                    0 |\n",
            "| N/A   37C    P8               9W /  70W |      0MiB / 15360MiB |      0%      Default |\n",
            "|                                         |                      |                  N/A |\n",
            "+-----------------------------------------+----------------------+----------------------+\n",
            "                                                                                         \n",
            "+---------------------------------------------------------------------------------------+\n",
            "| Processes:                                                                            |\n",
            "|  GPU   GI   CI        PID   Type   Process name                            GPU Memory |\n",
            "|        ID   ID                                                             Usage      |\n",
            "|=======================================================================================|\n",
            "|  No running processes found                                                           |\n",
            "+---------------------------------------------------------------------------------------+\n"
          ]
        }
      ],
      "source": [
        "gpu_info = !nvidia-smi\n",
        "gpu_info = '\\n'.join(gpu_info)\n",
        "if gpu_info.find('failed') >= 0:\n",
        "  print('Not connected to a GPU')\n",
        "else:\n",
        "  print(gpu_info)"
      ]
    },
    {
      "cell_type": "code",
      "execution_count": null,
      "metadata": {
        "id": "c8eh87Hoee5d"
      },
      "outputs": [],
      "source": [
        "%%capture\n",
        "!pip install transformers[torch]\n",
        "!pip install datasets\n",
        "!pip install jiwer"
      ]
    },
    {
      "cell_type": "code",
      "execution_count": null,
      "metadata": {
        "colab": {
          "base_uri": "https://localhost:8080/"
        },
        "id": "Ret7E9kaHY6m",
        "outputId": "5f92447c-3338-4b66-e598-e235f56f8b70"
      },
      "outputs": [
        {
          "name": "stdout",
          "output_type": "stream",
          "text": [
            "Requirement already satisfied: accelerate in /usr/local/lib/python3.10/dist-packages (0.28.0)\n",
            "Requirement already satisfied: numpy>=1.17 in /usr/local/lib/python3.10/dist-packages (from accelerate) (1.25.2)\n",
            "Requirement already satisfied: packaging>=20.0 in /usr/local/lib/python3.10/dist-packages (from accelerate) (24.0)\n",
            "Requirement already satisfied: psutil in /usr/local/lib/python3.10/dist-packages (from accelerate) (5.9.5)\n",
            "Requirement already satisfied: pyyaml in /usr/local/lib/python3.10/dist-packages (from accelerate) (6.0.1)\n",
            "Requirement already satisfied: torch>=1.10.0 in /usr/local/lib/python3.10/dist-packages (from accelerate) (2.2.1+cu121)\n",
            "Requirement already satisfied: huggingface-hub in /usr/local/lib/python3.10/dist-packages (from accelerate) (0.20.3)\n",
            "Requirement already satisfied: safetensors>=0.3.1 in /usr/local/lib/python3.10/dist-packages (from accelerate) (0.4.2)\n",
            "Requirement already satisfied: filelock in /usr/local/lib/python3.10/dist-packages (from torch>=1.10.0->accelerate) (3.13.3)\n",
            "Requirement already satisfied: typing-extensions>=4.8.0 in /usr/local/lib/python3.10/dist-packages (from torch>=1.10.0->accelerate) (4.10.0)\n",
            "Requirement already satisfied: sympy in /usr/local/lib/python3.10/dist-packages (from torch>=1.10.0->accelerate) (1.12)\n",
            "Requirement already satisfied: networkx in /usr/local/lib/python3.10/dist-packages (from torch>=1.10.0->accelerate) (3.2.1)\n",
            "Requirement already satisfied: jinja2 in /usr/local/lib/python3.10/dist-packages (from torch>=1.10.0->accelerate) (3.1.3)\n",
            "Requirement already satisfied: fsspec in /usr/local/lib/python3.10/dist-packages (from torch>=1.10.0->accelerate) (2023.6.0)\n",
            "Requirement already satisfied: nvidia-cuda-nvrtc-cu12==12.1.105 in /usr/local/lib/python3.10/dist-packages (from torch>=1.10.0->accelerate) (12.1.105)\n",
            "Requirement already satisfied: nvidia-cuda-runtime-cu12==12.1.105 in /usr/local/lib/python3.10/dist-packages (from torch>=1.10.0->accelerate) (12.1.105)\n",
            "Requirement already satisfied: nvidia-cuda-cupti-cu12==12.1.105 in /usr/local/lib/python3.10/dist-packages (from torch>=1.10.0->accelerate) (12.1.105)\n",
            "Requirement already satisfied: nvidia-cudnn-cu12==8.9.2.26 in /usr/local/lib/python3.10/dist-packages (from torch>=1.10.0->accelerate) (8.9.2.26)\n",
            "Requirement already satisfied: nvidia-cublas-cu12==12.1.3.1 in /usr/local/lib/python3.10/dist-packages (from torch>=1.10.0->accelerate) (12.1.3.1)\n",
            "Requirement already satisfied: nvidia-cufft-cu12==11.0.2.54 in /usr/local/lib/python3.10/dist-packages (from torch>=1.10.0->accelerate) (11.0.2.54)\n",
            "Requirement already satisfied: nvidia-curand-cu12==10.3.2.106 in /usr/local/lib/python3.10/dist-packages (from torch>=1.10.0->accelerate) (10.3.2.106)\n",
            "Requirement already satisfied: nvidia-cusolver-cu12==11.4.5.107 in /usr/local/lib/python3.10/dist-packages (from torch>=1.10.0->accelerate) (11.4.5.107)\n",
            "Requirement already satisfied: nvidia-cusparse-cu12==12.1.0.106 in /usr/local/lib/python3.10/dist-packages (from torch>=1.10.0->accelerate) (12.1.0.106)\n",
            "Requirement already satisfied: nvidia-nccl-cu12==2.19.3 in /usr/local/lib/python3.10/dist-packages (from torch>=1.10.0->accelerate) (2.19.3)\n",
            "Requirement already satisfied: nvidia-nvtx-cu12==12.1.105 in /usr/local/lib/python3.10/dist-packages (from torch>=1.10.0->accelerate) (12.1.105)\n",
            "Requirement already satisfied: triton==2.2.0 in /usr/local/lib/python3.10/dist-packages (from torch>=1.10.0->accelerate) (2.2.0)\n",
            "Requirement already satisfied: nvidia-nvjitlink-cu12 in /usr/local/lib/python3.10/dist-packages (from nvidia-cusolver-cu12==11.4.5.107->torch>=1.10.0->accelerate) (12.4.99)\n",
            "Requirement already satisfied: requests in /usr/local/lib/python3.10/dist-packages (from huggingface-hub->accelerate) (2.31.0)\n",
            "Requirement already satisfied: tqdm>=4.42.1 in /usr/local/lib/python3.10/dist-packages (from huggingface-hub->accelerate) (4.66.2)\n",
            "Requirement already satisfied: MarkupSafe>=2.0 in /usr/local/lib/python3.10/dist-packages (from jinja2->torch>=1.10.0->accelerate) (2.1.5)\n",
            "Requirement already satisfied: charset-normalizer<4,>=2 in /usr/local/lib/python3.10/dist-packages (from requests->huggingface-hub->accelerate) (3.3.2)\n",
            "Requirement already satisfied: idna<4,>=2.5 in /usr/local/lib/python3.10/dist-packages (from requests->huggingface-hub->accelerate) (3.6)\n",
            "Requirement already satisfied: urllib3<3,>=1.21.1 in /usr/local/lib/python3.10/dist-packages (from requests->huggingface-hub->accelerate) (2.0.7)\n",
            "Requirement already satisfied: certifi>=2017.4.17 in /usr/local/lib/python3.10/dist-packages (from requests->huggingface-hub->accelerate) (2024.2.2)\n",
            "Requirement already satisfied: mpmath>=0.19 in /usr/local/lib/python3.10/dist-packages (from sympy->torch>=1.10.0->accelerate) (1.3.0)\n"
          ]
        }
      ],
      "source": [
        "!pip install accelerate -U"
      ]
    },
    {
      "cell_type": "code",
      "execution_count": null,
      "metadata": {
        "colab": {
          "base_uri": "https://localhost:8080/",
          "height": 384
        },
        "id": "cedeBJRfyvcs",
        "outputId": "193f117b-0a7b-49b1-a672-7bad79ecea0b"
      },
      "outputs": [
        {
          "ename": "ModuleNotFoundError",
          "evalue": "No module named 'peft'",
          "output_type": "error",
          "traceback": [
            "\u001b[0;31m---------------------------------------------------------------------------\u001b[0m",
            "\u001b[0;31mModuleNotFoundError\u001b[0m                       Traceback (most recent call last)",
            "\u001b[0;32m<ipython-input-14-062610a23272>\u001b[0m in \u001b[0;36m<cell line: 1>\u001b[0;34m()\u001b[0m\n\u001b[0;32m----> 1\u001b[0;31m \u001b[0;32mfrom\u001b[0m \u001b[0mpeft\u001b[0m \u001b[0;32mimport\u001b[0m \u001b[0mprepare_model_for_int8_training\u001b[0m\u001b[0;34m\u001b[0m\u001b[0;34m\u001b[0m\u001b[0m\n\u001b[0m",
            "\u001b[0;31mModuleNotFoundError\u001b[0m: No module named 'peft'",
            "",
            "\u001b[0;31m---------------------------------------------------------------------------\u001b[0;32m\nNOTE: If your import is failing due to a missing package, you can\nmanually install dependencies using either !pip or !apt.\n\nTo view examples of installing some common dependencies, click the\n\"Open Examples\" button below.\n\u001b[0;31m---------------------------------------------------------------------------\u001b[0m\n"
          ]
        }
      ],
      "source": [
        "from peft import prepare_model_for_int8_training"
      ]
    },
    {
      "cell_type": "code",
      "execution_count": null,
      "metadata": {
        "id": "Q9BnQDhOITBC"
      },
      "outputs": [],
      "source": [
        "%%capture\n",
        "!apt install git-lfs"
      ]
    },
    {
      "cell_type": "markdown",
      "metadata": {
        "id": "0mW-C1Nt-j7k"
      },
      "source": [
        "## Prepare Data, Tokenizer, Feature Extractor"
      ]
    },
    {
      "cell_type": "markdown",
      "metadata": {
        "id": "sEXEWEJGQPqD"
      },
      "source": [
        "### Create Wav2Vec2CTCTokenizer"
      ]
    },
    {
      "cell_type": "markdown",
      "metadata": {
        "id": "bee4g9rpLxll"
      },
      "source": [
        "Let's start by loading the dataset and taking a look at its structure."
      ]
    },
    {
      "cell_type": "code",
      "execution_count": null,
      "metadata": {
        "id": "izdw6uD9ynCi"
      },
      "outputs": [],
      "source": [
        "# cp -r /content/gdrive/MyDrive/NewModel/ALFFAAmharic"
      ]
    },
    {
      "cell_type": "code",
      "execution_count": null,
      "metadata": {
        "colab": {
          "base_uri": "https://localhost:8080/"
        },
        "id": "2MMXcWFFgCXU",
        "outputId": "7b6bd361-a2ab-48f6-8770-caec9273e5ef"
      },
      "outputs": [
        {
          "name": "stderr",
          "output_type": "stream",
          "text": [
            "/usr/local/lib/python3.10/dist-packages/huggingface_hub/utils/_token.py:88: UserWarning: \n",
            "The secret `HF_TOKEN` does not exist in your Colab secrets.\n",
            "To authenticate with the Hugging Face Hub, create a token in your settings tab (https://huggingface.co/settings/tokens), set it as secret in your Google Colab and restart your session.\n",
            "You will be able to reuse this secret in all of your notebooks.\n",
            "Please note that authentication is recommended but still optional to access public models or datasets.\n",
            "  warnings.warn(\n",
            "/usr/local/lib/python3.10/dist-packages/datasets/load.py:1461: FutureWarning: The repository for Samuael/ALFFAAmharic contains custom code which must be executed to correctly load the dataset. You can inspect the repository content at https://hf.co/datasets/Samuael/ALFFAAmharic\n",
            "You can avoid this message in future by passing the argument `trust_remote_code=True`.\n",
            "Passing `trust_remote_code=True` will be mandatory to load this dataset from the next major release of `datasets`.\n",
            "  warnings.warn(\n"
          ]
        }
      ],
      "source": [
        "from datasets import load_dataset, load_metric\n",
        "# amha = load_dataset(\"Samuael/ALFFAAmharic\", data_dir=\"/content/gdrive/MyDrive/NewModel/CommonTTest/\")\n",
        "# amha = load_dataset(\"Samuael/ALFFAAmharic\", data_dir=\"/content/gdrive/MyDrive/NewModel/CommonVoiceTigreTest/\")\n",
        "amha = load_dataset(\"Samuael/ALFFAAmharic\", data_dir=\"/content/gdrive/MyDrive/NewModel/ALFFAAmharicTest/\")"
      ]
    },
    {
      "cell_type": "code",
      "execution_count": null,
      "metadata": {
        "id": "QbIM-L0xdvf4"
      },
      "outputs": [],
      "source": [
        "import IPython.display as ipd\n",
        "import numpy as np\n",
        "import random"
      ]
    },
    {
      "cell_type": "code",
      "execution_count": null,
      "metadata": {
        "id": "72737oog2F6U"
      },
      "outputs": [],
      "source": [
        "from datasets import ClassLabel\n",
        "import random\n",
        "import pandas as pd\n",
        "from IPython.display import display, HTML\n",
        "\n",
        "def show_random_elements(dataset, num_examples=10):\n",
        "    assert num_examples <= len(dataset), \"Can't pick more elements than there are in the dataset.\"\n",
        "    picks = []\n",
        "    for _ in range(num_examples):\n",
        "        pick = random.randint(0, len(dataset)-1)\n",
        "        while pick in picks:\n",
        "            pick = random.randint(0, len(dataset)-1)\n",
        "        picks.append(pick)\n",
        "\n",
        "    df = pd.DataFrame(dataset[picks])\n",
        "    display(HTML(df.to_html()))"
      ]
    },
    {
      "cell_type": "code",
      "execution_count": null,
      "metadata": {
        "colab": {
          "base_uri": "https://localhost:8080/",
          "height": 297
        },
        "id": "K_JUmf3G3b9S",
        "outputId": "fdbde398-9523-43df-bacb-983c9c31179a"
      },
      "outputs": [],
      "source": [
        "show_random_elements(amha[\"train\"].remove_columns([\"audio\", \"file\"]), num_examples=4)"
      ]
    },
    {
      "cell_type": "code",
      "execution_count": null,
      "metadata": {
        "cellView": "form",
        "colab": {
          "base_uri": "https://localhost:8080/",
          "height": 81,
          "referenced_widgets": [
            "d1599fafb6ce48bbbe04b6467591f433",
            "525f99fee30743b99734ccad64ac73d6",
            "28c6f1682e604d178bdbd3e1fe1f8643",
            "856fe7fca06a43bb8adf2b4596ffce8d",
            "d203e9fe9b054ecf885424ca912edfa4",
            "84b4c3aa1f754572968275b08c7d66ad",
            "67fdd8af31a0456e94498c684764acc2",
            "794c5a2fa85b4051a4f43b40d0534f93",
            "17a21d1ae0da426c89373cf65e861062",
            "1d0056725b0148eb96f8fe7433564e7e",
            "e149d22e173e432389b137f1784ab99e",
            "45f444fab1d24e23a53a7e8bd9b7bbe9",
            "bf7cc9850187412ba81c326134a820d3",
            "7f523fd8047142be95e40e650932e237",
            "616b04ae16764225b138aa5a268bf977",
            "8de9ce8a6a51498f9d83b1084dd031cd",
            "e252e2a680c24d00b34eec7bd62ca2af",
            "f57e3a70bc354dc1a037eb0a4fe279af",
            "c46fbb57f0784ef3bbce4449f627f51a",
            "ed370d9354a04ae2ab0aa58402abbfb8",
            "3999da3faca54c3d9f601a09d0f9b689",
            "3f95a30d82a843eb95b43ed67dabb455"
          ]
        },
        "id": "svKzVJ_hQGK6",
        "outputId": "2cfe38d4-c2eb-470c-ff52-52c6ca273086"
      },
      "outputs": [
        {
          "data": {
            "application/vnd.jupyter.widget-view+json": {
              "model_id": "d1599fafb6ce48bbbe04b6467591f433",
              "version_major": 2,
              "version_minor": 0
            },
            "text/plain": [
              "Map:   0%|          | 0/4 [00:00<?, ? examples/s]"
            ]
          },
          "metadata": {},
          "output_type": "display_data"
        },
        {
          "data": {
            "application/vnd.jupyter.widget-view+json": {
              "model_id": "45f444fab1d24e23a53a7e8bd9b7bbe9",
              "version_major": 2,
              "version_minor": 0
            },
            "text/plain": [
              "Map:   0%|          | 0/359 [00:00<?, ? examples/s]"
            ]
          },
          "metadata": {},
          "output_type": "display_data"
        }
      ],
      "source": [
        "#@title Removing Special Characters\n",
        "import re\n",
        "chars_to_ignore_regex = '[\\,\\?\\.\\-\\;\\:\\\"]'\n",
        "\n",
        "def remove_special_characters(batch):\n",
        "    batch[\"text\"] = re.sub(chars_to_ignore_regex, '', batch[\"text\"]).lower() + \" \"\n",
        "    return batch\n",
        "\n",
        "amha = amha.map(remove_special_characters)"
      ]
    },
    {
      "cell_type": "code",
      "execution_count": null,
      "metadata": {
        "colab": {
          "base_uri": "https://localhost:8080/",
          "height": 193
        },
        "id": "RBDRAAYxRE6n",
        "outputId": "ab1f8f86-5d30-4ef5-9c31-ddac6a6b644e"
      },
      "outputs": [],
      "source": [
        "show_random_elements(amha[\"train\"].remove_columns([\"audio\", \"file\"]))"
      ]
    },
    {
      "cell_type": "code",
      "execution_count": null,
      "metadata": {
        "id": "LwCshNbbeRZR"
      },
      "outputs": [],
      "source": [
        "def extract_all_chars(batch):\n",
        "  all_text = \" \".join(batch[\"text\"])\n",
        "  vocab = list(set(all_text))\n",
        "  return {\"vocab\": [vocab], \"all_text\": [all_text]}"
      ]
    },
    {
      "cell_type": "code",
      "execution_count": null,
      "metadata": {
        "colab": {
          "base_uri": "https://localhost:8080/",
          "height": 81,
          "referenced_widgets": [
            "f90ca69cc43c4943aa86d511a423a91d",
            "3d39d54c2a414ddeb9ac9e65b1b87fd6",
            "3ce1b1c3ca47442fadea5161f3d6b245",
            "aaa65cdf7de94fb8a7cca2c3361218fd",
            "f3454014e10447b4a2900746e38efa3e",
            "c4395a2e7d1e4a4086a41f381dd6af47",
            "59869365df614fa280154e8aa29089ef",
            "05a7ae42e6c441e2b651b9fd25d52ca1",
            "cf3dfff126494172bb8d546767413b73",
            "395a7ef5d2904eae84fa98e566082e63",
            "dd60f3a8ecf84088887f229579d230c4",
            "da1c3bcd74ad47d49b23b3ac47cd485a",
            "1627566b0c044f7881af3bf07de7d8c8",
            "f7d18eb3319442e6976260957aedd830",
            "d9ba890fc80f40eb8374688b31e66915",
            "0e3d40e72a5c47ccb9797444c749d9a8",
            "85dce9587d424881b62692c7052fae5a",
            "a87c0c879770468dad45dd6d46e43f17",
            "6bbcc9be54794a0eae0d403064cd65fa",
            "4282b7acfb0240e78cfdb354871cc7d9",
            "d5a1069826b24f44964334c38b6a793e",
            "bb8626ecc6834ab48ba5b6a3abcbf42e"
          ]
        },
        "id": "_m6uUjjcfbjH",
        "outputId": "a401e15a-efd8-42a5-e781-c4cebcdd6ad1"
      },
      "outputs": [
        {
          "data": {
            "application/vnd.jupyter.widget-view+json": {
              "model_id": "f90ca69cc43c4943aa86d511a423a91d",
              "version_major": 2,
              "version_minor": 0
            },
            "text/plain": [
              "Map:   0%|          | 0/268 [00:00<?, ? examples/s]"
            ]
          },
          "metadata": {},
          "output_type": "display_data"
        },
        {
          "data": {
            "application/vnd.jupyter.widget-view+json": {
              "model_id": "da1c3bcd74ad47d49b23b3ac47cd485a",
              "version_major": 2,
              "version_minor": 0
            },
            "text/plain": [
              "Map:   0%|          | 0/94 [00:00<?, ? examples/s]"
            ]
          },
          "metadata": {},
          "output_type": "display_data"
        }
      ],
      "source": [
        "vocabs = amha.map(extract_all_chars, batched=True, batch_size=-1, keep_in_memory=True, remove_columns=amha.column_names[\"train\"])"
      ]
    },
    {
      "cell_type": "markdown",
      "metadata": {
        "id": "7oVgE8RZSJNP"
      },
      "source": [
        "Now, we create the union of all distinct letters in the training dataset and test dataset and convert the resulting list into an enumerated dictionary."
      ]
    },
    {
      "cell_type": "code",
      "execution_count": null,
      "metadata": {
        "colab": {
          "base_uri": "https://localhost:8080/",
          "height": 193
        },
        "id": "aQfneNsmlJI0",
        "outputId": "d8713a0a-7ff3-4852-9334-731da3bde667"
      },
      "outputs": [],
      "source": [
        "#@title Vocab List\n",
        "vocab_list = list(set(vocabs[\"train\"][\"vocab\"][0]) | set(vocabs[\"test\"][\"vocab\"][0]))\n",
        "vocab_dict = {v: k for k, v in enumerate(vocab_list)}\n",
        "vocab_dict"
      ]
    },
    {
      "cell_type": "code",
      "execution_count": null,
      "metadata": {
        "id": "_-_p4m5wrpMD"
      },
      "outputs": [],
      "source": [
        "!cp /content/gdrive/MyDrive/NewModel/ALFFAAmharic/vocab_map_new.json .\n",
        "!cp /content/gdrive/MyDrive/NewModel/ALFFAAmharic/phoneme_map.json .\n",
        "!cp /content/gdrive/MyDrive/NewModel/ALFFAAmharic/char_map.json .\n",
        "!cp /content/gdrive/MyDrive/NewModel/ALFFAAmharic/testing_chars.txt ."
      ]
    },
    {
      "cell_type": "markdown",
      "metadata": {
        "id": "SHJDaKlIVVim"
      },
      "source": [
        "In a final step, we use the json file to instantiate an object of the `Wav2Vec2CTCTokenizer` class."
      ]
    },
    {
      "cell_type": "code",
      "execution_count": null,
      "metadata": {
        "id": "xriFGEWQkO4M"
      },
      "outputs": [],
      "source": [
        "from transformers import Wav2Vec2CTCTokenizer\n",
        "\n",
        "tokenizer = Wav2Vec2CTCTokenizer(\"/content/vocab_map_new.json\", unk_token=\"[UNK]\", pad_token=\"[PAD]\", word_delimiter_token=\"|\")"
      ]
    },
    {
      "cell_type": "code",
      "execution_count": null,
      "metadata": {
        "id": "1mbffBdxIl0M"
      },
      "outputs": [],
      "source": [
        "repo_name = \"asr-amharic-phoneme-based-38\""
      ]
    },
    {
      "cell_type": "code",
      "execution_count": null,
      "metadata": {
        "colab": {
          "base_uri": "https://localhost:8080/",
          "height": 136,
          "referenced_widgets": [
            "d8a5bf396ba646d194915e9904607e03",
            "94aa26dbbbce46819ed94fd3f004fdb5",
            "83ad9e3b333246ed9e5170be56093060",
            "1cd9e346bcc148a3832e29846a3a97b7",
            "4ebe7c3e3bc94b09878a642a729bbfc0",
            "ac7ada40cf4c441a9a63df19def6f41d",
            "c117dd804b4e43938c1d2a0bd3d7ba24",
            "070240e5094246a4b6ac13d74cd60022",
            "43cb08f11a2543638454938f4a7c324b",
            "27dda57267df4547a70ecd9b144d1f0f",
            "2f0ed0ef9a6a46ad88eca969e3e20cd0"
          ]
        },
        "id": "ScBMUz8jIxJi",
        "outputId": "f03dd6b8-1c70-4848-e93c-a28a0b312478"
      },
      "outputs": [
        {
          "data": {
            "application/vnd.jupyter.widget-view+json": {
              "model_id": "d8a5bf396ba646d194915e9904607e03",
              "version_major": 2,
              "version_minor": 0
            },
            "text/plain": [
              "README.md:   0%|          | 0.00/5.18k [00:00<?, ?B/s]"
            ]
          },
          "metadata": {},
          "output_type": "display_data"
        },
        {
          "data": {
            "application/vnd.google.colaboratory.intrinsic+json": {
              "type": "string"
            },
            "text/plain": [
              "CommitInfo(commit_url='https://huggingface.co/Samuael/asr-amharic-phoneme-based-38/commit/105bbf28add4067dd1215e7e8f127f6e909e4dcb', commit_message='Upload tokenizer', commit_description='', oid='105bbf28add4067dd1215e7e8f127f6e909e4dcb', pr_url=None, pr_revision=None, pr_num=None)"
            ]
          },
          "execution_count": 24,
          "metadata": {},
          "output_type": "execute_result"
        }
      ],
      "source": [
        "tokenizer.push_to_hub(repo_id=\"Samuael/\"+repo_name)"
      ]
    },
    {
      "cell_type": "markdown",
      "metadata": {
        "id": "mYcIiR2FQ96i"
      },
      "source": [
        "### Create Wav2Vec2 Feature Extractor"
      ]
    },
    {
      "cell_type": "code",
      "execution_count": null,
      "metadata": {
        "id": "kAR0-2KLkopp"
      },
      "outputs": [],
      "source": [
        "from transformers import Wav2Vec2FeatureExtractor\n",
        "\n",
        "feature_extractor = Wav2Vec2FeatureExtractor(feature_size=1, sampling_rate=16000, padding_value=0.0, do_normalize=True, return_attention_mask=False)"
      ]
    },
    {
      "cell_type": "code",
      "execution_count": null,
      "metadata": {
        "id": "KYZtoW-tlZgl"
      },
      "outputs": [],
      "source": [
        "from transformers import Wav2Vec2Processor\n",
        "\n",
        "processor = Wav2Vec2Processor(feature_extractor=feature_extractor, tokenizer=tokenizer)"
      ]
    },
    {
      "cell_type": "markdown",
      "metadata": {
        "id": "DrKnYuvDIoOO"
      },
      "source": [
        "Next, we can prepare the dataset."
      ]
    },
    {
      "cell_type": "code",
      "execution_count": null,
      "metadata": {
        "colab": {
          "base_uri": "https://localhost:8080/"
        },
        "id": "tzD37yYUlchp",
        "outputId": "f34d2d0b-cd96-4bfe-9507-c60226082c79"
      },
      "outputs": [
        {
          "name": "stdout",
          "output_type": "stream",
          "text": [
            "^C\n"
          ]
        }
      ],
      "source": [
        "!cd /content/gdrive/MyDrive/NewModel/ALFFAAmharic/train/wav/ && ls -1 | wc -l"
      ]
    },
    {
      "cell_type": "code",
      "execution_count": null,
      "metadata": {
        "colab": {
          "base_uri": "https://localhost:8080/"
        },
        "id": "fBmb9O9UmACi",
        "outputId": "63ebceb3-e020-4800-a843-74836fa9be04"
      },
      "outputs": [
        {
          "name": "stdout",
          "output_type": "stream",
          "text": [
            "^C\n"
          ]
        }
      ],
      "source": [
        "!cd /content/gdrive/MyDrive/NewModel/ALFFAAmharic/train/wav_old/ && ls -1 | wc -l"
      ]
    },
    {
      "cell_type": "code",
      "execution_count": null,
      "metadata": {
        "colab": {
          "base_uri": "https://localhost:8080/",
          "height": 52
        },
        "id": "TTCS7W6XJ9BG",
        "outputId": "08e43d0f-e74e-41f8-e281-68631314c9bc"
      },
      "outputs": [
        {
          "data": {
            "application/vnd.google.colaboratory.intrinsic+json": {
              "type": "string"
            },
            "text/plain": [
              "'/content/gdrive/MyDrive/NewModel/ALFFAAmharicTest/train/wav/tr_10000_tr097082.wav'"
            ]
          },
          "execution_count": 24,
          "metadata": {},
          "output_type": "execute_result"
        }
      ],
      "source": [
        "amha[\"train\"][0][\"file\"]"
      ]
    },
    {
      "cell_type": "code",
      "execution_count": null,
      "metadata": {
        "colab": {
          "base_uri": "https://localhost:8080/"
        },
        "id": "mk9QHuSsN7lf",
        "outputId": "839c7010-e6fc-49d1-b8c4-8c3a361fcd20"
      },
      "outputs": [
        {
          "data": {
            "text/plain": [
              "{'path': '/content/gdrive/MyDrive/NewModel/ALFFAAmharicTest/train/wav/tr_10000_tr097082.wav',\n",
              " 'array': array([ 0.        ,  0.        ,  0.        , ..., -0.12573242,\n",
              "        -0.12634277, -0.12634277]),\n",
              " 'sampling_rate': 16000}"
            ]
          },
          "execution_count": 25,
          "metadata": {},
          "output_type": "execute_result"
        }
      ],
      "source": [
        "amha[\"train\"][0][\"audio\"]"
      ]
    },
    {
      "cell_type": "code",
      "execution_count": null,
      "metadata": {
        "colab": {
          "base_uri": "https://localhost:8080/",
          "height": 265
        },
        "id": "dueM6U7Ev0OA",
        "outputId": "9900ee52-fc34-4171-cb76-df13f119c627"
      },
      "outputs": [
        {
          "name": "stdout",
          "output_type": "stream",
          "text": [
            "ይኧ  ጥኧ ምኧ ን ጅኣ  ትኧ ክኡ ስ  ትኧ ክኧ ፍኧ ትኧ  ንኣ  ኣ ርኣ ት  ይኧ ኤ ር ት ርኣ  ውኧ ትኣ ድኧ ርኦ ች  ትኧ ግኧ ድኧ ልኡ \n"
          ]
        },
        {
          "ename": "NameError",
          "evalue": "name 'ipd' is not defined",
          "output_type": "error",
          "traceback": [
            "\u001b[0;31m---------------------------------------------------------------------------\u001b[0m",
            "\u001b[0;31mNameError\u001b[0m                                 Traceback (most recent call last)",
            "\u001b[0;32m<ipython-input-19-dc4837bb8a51>\u001b[0m in \u001b[0;36m<cell line: 4>\u001b[0;34m()\u001b[0m\n\u001b[1;32m      2\u001b[0m \u001b[0;34m\u001b[0m\u001b[0m\n\u001b[1;32m      3\u001b[0m \u001b[0mprint\u001b[0m\u001b[0;34m(\u001b[0m\u001b[0mamha\u001b[0m\u001b[0;34m[\u001b[0m\u001b[0;34m\"train\"\u001b[0m\u001b[0;34m]\u001b[0m\u001b[0;34m[\u001b[0m\u001b[0mrand_int\u001b[0m\u001b[0;34m]\u001b[0m\u001b[0;34m[\u001b[0m\u001b[0;34m\"text\"\u001b[0m\u001b[0;34m]\u001b[0m\u001b[0;34m)\u001b[0m\u001b[0;34m\u001b[0m\u001b[0;34m\u001b[0m\u001b[0m\n\u001b[0;32m----> 4\u001b[0;31m \u001b[0mipd\u001b[0m\u001b[0;34m.\u001b[0m\u001b[0mAudio\u001b[0m\u001b[0;34m(\u001b[0m\u001b[0mdata\u001b[0m\u001b[0;34m=\u001b[0m\u001b[0mnp\u001b[0m\u001b[0;34m.\u001b[0m\u001b[0masarray\u001b[0m\u001b[0;34m(\u001b[0m\u001b[0mamha\u001b[0m\u001b[0;34m[\u001b[0m\u001b[0;34m\"train\"\u001b[0m\u001b[0;34m]\u001b[0m\u001b[0;34m[\u001b[0m\u001b[0mrand_int\u001b[0m\u001b[0;34m]\u001b[0m\u001b[0;34m[\u001b[0m\u001b[0;34m\"audio\"\u001b[0m\u001b[0;34m]\u001b[0m\u001b[0;34m[\u001b[0m\u001b[0;34m\"array\"\u001b[0m\u001b[0;34m]\u001b[0m\u001b[0;34m)\u001b[0m\u001b[0;34m,\u001b[0m \u001b[0mautoplay\u001b[0m\u001b[0;34m=\u001b[0m\u001b[0;32mTrue\u001b[0m\u001b[0;34m,\u001b[0m \u001b[0mrate\u001b[0m\u001b[0;34m=\u001b[0m\u001b[0;36m16000\u001b[0m\u001b[0;34m)\u001b[0m\u001b[0;34m\u001b[0m\u001b[0;34m\u001b[0m\u001b[0m\n\u001b[0m",
            "\u001b[0;31mNameError\u001b[0m: name 'ipd' is not defined"
          ]
        }
      ],
      "source": [
        "rand_int = random.randint(0, len(amha[\"train\"]))\n",
        "\n",
        "print(amha[\"train\"][rand_int][\"text\"])\n",
        "ipd.Audio(data=np.asarray(amha[\"train\"][rand_int][\"audio\"][\"array\"]), autoplay=True, rate=16000)"
      ]
    },
    {
      "cell_type": "code",
      "execution_count": null,
      "metadata": {
        "colab": {
          "base_uri": "https://localhost:8080/",
          "height": 300
        },
        "id": "1Po2g7YPuRTx",
        "outputId": "eaea0271-474e-47ea-e2d0-3d6c922c751e"
      },
      "outputs": [],
      "source": [
        "rand_int = random.randint(0, len(amha[\"train\"]))\n",
        "\n",
        "print(\"Target text:\", amha[\"train\"][rand_int][\"text\"])\n",
        "print(\"Input array shape:\", np.asarray(amha[\"train\"][rand_int][\"audio\"][\"array\"]).shape)\n",
        "print(\"Sampling rate:\", amha[\"train\"][rand_int][\"audio\"][\"sampling_rate\"])"
      ]
    },
    {
      "cell_type": "code",
      "execution_count": null,
      "metadata": {
        "id": "eJY7I0XAwe9p"
      },
      "outputs": [],
      "source": [
        "def prepare_dataset(batch):\n",
        "    audio = batch[\"audio\"]\n",
        "\n",
        "    # batched output is \"un-batched\" to ensure mapping is correct\n",
        "    batch[\"input_values\"] = processor(audio[\"array\"], sampling_rate=audio[\"sampling_rate\"]).input_values[0]\n",
        "    batch[\"input_length\"] = len(batch[\"input_values\"])\n",
        "\n",
        "    with processor.as_target_processor():\n",
        "        batch[\"labels\"] = processor(batch[\"text\"]).input_ids\n",
        "    return batch"
      ]
    },
    {
      "cell_type": "code",
      "execution_count": null,
      "metadata": {
        "colab": {
          "base_uri": "https://localhost:8080/"
        },
        "id": "-np9xYK-wl8q",
        "outputId": "b95d53c6-492a-4a27-9ccf-17780899a95a"
      },
      "outputs": [
        {
          "name": "stderr",
          "output_type": "stream",
          "text": [
            "num_proc must be <= 4. Reducing num_proc to 4 for dataset of size 4.\n",
            "WARNING:datasets.arrow_dataset:num_proc must be <= 4. Reducing num_proc to 4 for dataset of size 4.\n"
          ]
        }
      ],
      "source": [
        "amha = amha.map(prepare_dataset, remove_columns=amha.column_names[\"train\"], num_proc=16)"
      ]
    },
    {
      "cell_type": "markdown",
      "metadata": {
        "id": "gYlQkKVoRUos"
      },
      "source": [
        "## Training & Evaluation\n"
      ]
    },
    {
      "cell_type": "markdown",
      "metadata": {
        "id": "Slk403unUS91"
      },
      "source": [
        "### Set-up Trainer"
      ]
    },
    {
      "cell_type": "code",
      "execution_count": null,
      "metadata": {
        "id": "tborvC9hx88e"
      },
      "outputs": [],
      "source": [
        "import torch\n",
        "\n",
        "from dataclasses import dataclass, field\n",
        "from typing import Any, Dict, List, Optional, Union\n",
        "\n",
        "@dataclass\n",
        "class DataCollatorCTCWithPadding:\n",
        "    \"\"\"\n",
        "    Data collator that will dynamically pad the inputs received.\n",
        "    Args:\n",
        "        processor (:class:`~transformers.Wav2Vec2Processor`)\n",
        "            The processor used for proccessing the data.\n",
        "        padding (:obj:`bool`, :obj:`str` or :class:`~transformers.tokenization_utils_base.PaddingStrategy`, `optional`, defaults to :obj:`True`):\n",
        "            Select a strategy to pad the returned sequences (according to the model's padding side and padding index)\n",
        "            among:\n",
        "            * :obj:`True` or :obj:`'longest'`: Pad to the longest sequence in the batch (or no padding if only a single\n",
        "              sequence if provided).\n",
        "            * :obj:`'max_length'`: Pad to a maximum length specified with the argument :obj:`max_length` or to the\n",
        "              maximum acceptable input length for the model if that argument is not provided.\n",
        "            * :obj:`False` or :obj:`'do_not_pad'` (default): No padding (i.e., can output a batch with sequences of\n",
        "              different lengths).\n",
        "    \"\"\"\n",
        "\n",
        "    processor: Wav2Vec2Processor\n",
        "    padding: Union[bool, str] = True\n",
        "\n",
        "    def __call__(self, features: List[Dict[str, Union[List[int], torch.Tensor]]]) -> Dict[str, torch.Tensor]:\n",
        "        # split inputs and labels since they have to be of different lenghts and need\n",
        "        # different padding methods\n",
        "        input_features = [{\"input_values\": feature[\"input_values\"]} for feature in features]\n",
        "        label_features = [{\"input_ids\": feature[\"labels\"]} for feature in features]\n",
        "\n",
        "        batch = self.processor.pad(\n",
        "            input_features,\n",
        "            padding=self.padding,\n",
        "            return_tensors=\"pt\",\n",
        "        )\n",
        "        with self.processor.as_target_processor():\n",
        "            labels_batch = self.processor.pad(\n",
        "                label_features,\n",
        "                padding=self.padding,\n",
        "                return_tensors=\"pt\",\n",
        "            )\n",
        "\n",
        "        # replace padding with -100 to ignore loss correctly\n",
        "        labels = labels_batch[\"input_ids\"].masked_fill(labels_batch.attention_mask.ne(1), -100)\n",
        "        batch[\"labels\"] = labels\n",
        "        return batch"
      ]
    },
    {
      "cell_type": "code",
      "execution_count": null,
      "metadata": {
        "id": "lbQf5GuZyQ4_"
      },
      "outputs": [],
      "source": [
        "data_collator = DataCollatorCTCWithPadding(processor=processor, padding=True)"
      ]
    },
    {
      "cell_type": "code",
      "execution_count": null,
      "metadata": {
        "colab": {
          "base_uri": "https://localhost:8080/"
        },
        "id": "9Xsux2gmyXso",
        "outputId": "0bf4f404-d464-45a6-957c-49d36b2b5e54"
      },
      "outputs": [
        {
          "name": "stderr",
          "output_type": "stream",
          "text": [
            "<ipython-input-30-0dc5f81e0ca6>:1: FutureWarning: load_metric is deprecated and will be removed in the next major version of datasets. Use 'evaluate.load' instead, from the new library 🤗 Evaluate: https://huggingface.co/docs/evaluate\n",
            "  wer_metric = load_metric(\"wer\")\n",
            "/usr/local/lib/python3.10/dist-packages/datasets/load.py:756: FutureWarning: The repository for wer contains custom code which must be executed to correctly load the metric. You can inspect the repository content at https://raw.githubusercontent.com/huggingface/datasets/2.18.0/metrics/wer/wer.py\n",
            "You can avoid this message in future by passing the argument `trust_remote_code=True`.\n",
            "Passing `trust_remote_code=True` will be mandatory to load this metric from the next major release of `datasets`.\n",
            "  warnings.warn(\n",
            "/usr/local/lib/python3.10/dist-packages/datasets/load.py:756: FutureWarning: The repository for cer contains custom code which must be executed to correctly load the metric. You can inspect the repository content at https://raw.githubusercontent.com/huggingface/datasets/2.18.0/metrics/cer/cer.py\n",
            "You can avoid this message in future by passing the argument `trust_remote_code=True`.\n",
            "Passing `trust_remote_code=True` will be mandatory to load this metric from the next major release of `datasets`.\n",
            "  warnings.warn(\n"
          ]
        }
      ],
      "source": [
        "wer_metric = load_metric(\"wer\")\n",
        "cer_metric = load_metric(\"cer\")"
      ]
    },
    {
      "cell_type": "markdown",
      "metadata": {
        "id": "E1qZU5p-deqB"
      },
      "source": [
        "The model will return a sequence of logit vectors:\n",
        "$\\mathbf{y}_1, \\ldots, \\mathbf{y}_m$ with $\\mathbf{y}_1 = f_{\\theta}(x_1, \\ldots, x_n)[0]$ and $n >> m$.\n",
        "\n",
        "A logit vector $\\mathbf{y}_1$ contains the log-odds for each word in the vocabulary we defined earlier, thus $\\text{len}(\\mathbf{y}_i) =$ `config.vocab_size`. We are interested in the most likely prediction of the model and thus take the `argmax(...)` of the logits. Also, we transform the encoded labels back to the original string by replacing `-100` with the `pad_token_id` and decoding the ids while making sure that consecutive tokens are **not** grouped to the same token in CTC style ${}^1$."
      ]
    },
    {
      "cell_type": "code",
      "execution_count": null,
      "metadata": {
        "id": "qWUe7jSwfpWl"
      },
      "outputs": [],
      "source": [
        "def map_to_result(batch):\n",
        "  with torch.no_grad():\n",
        "    input_values = torch.tensor(batch[\"input_values\"], device=\"cuda\").unsqueeze(0)\n",
        "    logits = model(input_values).logits\n",
        "\n",
        "  pred_ids = torch.argmax(logits, dim=-1)\n",
        "  batch[\"pred_str\"] = processor.batch_decode(pred_ids)[0]\n",
        "  batch[\"text\"] = processor.decode(batch[\"labels\"], group_tokens=False)\n",
        "  return batch"
      ]
    },
    {
      "cell_type": "code",
      "execution_count": null,
      "metadata": {
        "id": "Cq8F7ufOncN2"
      },
      "outputs": [],
      "source": [
        "# tigre_phonemeMap= {\"ህኡኣ\": \"ኋ\",    \"ልኡኣ\": \"ሏ\",    \"ምኡኣ\": \"ሟ\",    \"ርኡኣ\": \"ሯ\",    \"ስኡኣ\": \"ሷ\",    \"ሽኡኣ\": \"ሿ\",    \"ቅኡኣ\": \"ቋ\",    \"ብኡኣ\": \"ቧ\",    \"ቭኡኣ\": \"ቯ\",    \"ትኡኣ\": \"ቷ\",    \"ችኡኣ\": \"ቿ\",    \"ንኡኣ\": \"ኗ\",    \"ኝኡኣ\": \"ኟ\",    \"ክኡኣ\": \"ኳ\",    \"ዝኡኣ\": \"ዟ\",    \"ዥኡኣ\": \"ዧ\",    \"ድኡኣ\": \"ዷ\",    \"ጅኡኣ\": \"ጇ\",    \"ግኡኣ\": \"ጓ\",    \"ጥኡኣ\": \"ጧ\",    \"ጭኡኣ\": \"ጯ\",    \"ጵኡኣ\": \"ጷ\",    \"ጽኡኣ\": \"ጿ\",    \"ፍኡኣ\": \"ፏ\",    \"ፕኡኣ\": \"ፗ\",    \"ግኡኤ\": \"ጔ\",    \"ክኡኤ\": \"ኴ\",    \"ህኡኤ\": \"ኌ\",    \"ቅኡኤ\": \"ቌ\",    \"ግኡኢ\": \"ጒ\",    \"ክኡኢ\": \"ኲ\",    \"ቅኡኢ\": \"ቊ\",    \"ፍኡኢ\": \"ᎉ\",    \"ግኡእ\": \"ጕ\",    \"ህኡኢ\": \"ዂ\",    \"ክኡእ\": \"ኵ\",    \"ቅኡእ\": \"ቍ\",    \"ምኢኣ\": \"ፙ\",    \"ፍኢኣ\": \"ፚ\",    \"ህኡእ\": \"ዅ\",    \"ፍኡኤ\": \"ᎊ\",    \"ፍኡኧ\": \"ᎋ\",    \"ርኢኣ\": \"ፘ\",    \"ፕኡኧ\": \"ᎌ\",    \"ፕኡኢ\": \"ᎍ\",    \"ትኡኤ\": \"ᎎ\",    \"ፕኡኤ\": \"ᎏ\",    \"ቅህኧ\": \"ቐ\",    \"ቅህኡ\": \"ቑ\",    \"ቅህኢ\": \"ቒ\",    \"ቅህኣ\": \"ቓ\",\"ቅህኤ\": \"ቔ\",\"ቅህእ\": \"ቕ\", \"ቅህኦ\": \"ቖ\",    \"ቅህኡኢ\":\"ቚ\", \"ቅህኡኣ\":\"ቛ\", \"ቅህኡኤ\":\"ቜ\",    \"ህ\": \"ህ\",    \"ል\": \"ል\",    \"ም\": \"ም\",    \"ር\": \"ር\",    \"ስ\": \"ስ\",    \"ሽ\": \"ሽ\",    \"ቅ\": \"ቅ\",    \"ብ\": \"ብ\",    \"ቭ\": \"ቭ\",    \"ት\": \"ት\",    \"ች\": \"ች\",    \"ን\": \"ን\",    \"ኝ\": \"ኝ\",    \"ክ\": \"ክ\",    \"ው\": \"ው\",    \"ዝ\": \"ዝ\",    \"ዥ\": \"ዥ\",    \"ይ\": \"ይ\",    \"ድ\": \"ድ\",    \"ጅ\": \"ጅ\",    \"ግ\": \"ግ\",    \"ጥ\": \"ጥ\",    \"ጭ\": \"ጭ\",    \"ጵ\": \"ጵ\",    \"ጽ\": \"ጽ\",    \"ፍ\": \"ፍ\",    \"ፕ\": \"ፕ\",    \"ኧ\": \"ኧ\",    \"ኣ\": \"አ\",    \"ኡ\": \"ኡ\",    \"ኢ\": \"ኢ\",    \"ኤ\": \"ኤ\",    \"እ\": \"እ\",    \"ኦ\": \"ኦ\",    \"ህኧ\": \"ኸ\",    \"ህኣ\": \"ሀ\",    \"ህኡ\": \"ሁ\",    \"ህኢ\": \"ሂ\",    \"ህኤ\": \"ሄ\",    \"ህኦ\": \"ሆ\",    \"ልኧ\": \"ለ\",    \"ልኡ\": \"ሉ\",    \"ልኢ\": \"ሊ\",    \"ልኣ\": \"ላ\",    \"ልኤ\": \"ሌ\",    \"ልኦ\": \"ሎ\",    \"ምኧ\": \"መ\",    \"ምኡ\": \"ሙ\",    \"ምኢ\": \"ሚ\",    \"ምኣ\": \"ማ\",    \"ምኤ\": \"ሜ\",    \"ምኦ\": \"ሞ\",    \"ርኧ\": \"ረ\",    \"ርኡ\": \"ሩ\",    \"ርኢ\": \"ሪ\",    \"ርኣ\": \"ራ\",    \"ርኤ\": \"ሬ\",    \"ርኦ\": \"ሮ\",    \"ስኧ\": \"ሰ\",    \"ስኡ\": \"ሱ\",    \"ስኢ\": \"ሲ\",    \"ስኣ\": \"ሳ\",    \"ስኤ\": \"ሴ\",    \"ስኦ\": \"ሶ\",    \"ሽኧ\": \"ሸ\",    \"ሽኡ\": \"ሹ\",    \"ሽኢ\": \"ሺ\",    \"ሽኣ\": \"ሻ\",    \"ሽኤ\": \"ሼ\",    \"ሽኦ\": \"ሾ\",    \"ቅኧ\": \"ቀ\",    \"ቅኡ\": \"ቁ\",    \"ቅኢ\": \"ቂ\",    \"ቅኣ\": \"ቃ\",    \"ቅኤ\": \"ቄ\",    \"ቅኦ\": \"ቆ\",    \"ብኧ\": \"በ\",    \"ብኡ\": \"ቡ\",    \"ብኢ\": \"ቢ\",    \"ብኣ\": \"ባ\",    \"ብኤ\": \"ቤ\",    \"ብኦ\": \"ቦ\",    \"ቭኧ\": \"ቨ\",    \"ቭኡ\": \"ቩ\",    \"ቭኢ\": \"ቪ\",    \"ቭኣ\": \"ቫ\",    \"ቭኤ\": \"ቬ\",    \"ቭኦ\": \"ቮ\",    \"ትኧ\": \"ተ\",    \"ትኡ\": \"ቱ\",    \"ትኢ\": \"ቲ\",    \"ትኣ\": \"ታ\",    \"ትኤ\": \"ቴ\",    \"ትኦ\": \"ቶ\",    \"ችኧ\": \"ቸ\",    \"ችኡ\": \"ቹ\",    \"ችኢ\": \"ቺ\",    \"ችኣ\": \"ቻ\",    \"ችኤ\": \"ቼ\",    \"ችኦ\": \"ቾ\",    \"ንኧ\": \"ነ\",    \"ንኡ\": \"ኑ\",    \"ንኢ\": \"ኒ\",    \"ንኣ\": \"ና\",    \"ንኤ\": \"ኔ\",    \"ንኦ\": \"ኖ\",    \"ኝኧ\": \"ኘ\",    \"ኝኡ\": \"ኙ\",    \"ኝኢ\": \"ኚ\",    \"ኝኣ\": \"ኛ\",    \"ኝኤ\": \"ኜ\",    \"ኝኦ\": \"ኞ\",    \"ክኧ\": \"ከ\",    \"ክኡ\": \"ኩ\",    \"ክኢ\": \"ኪ\",    \"ክኣ\": \"ካ\",    \"ክኤ\": \"ኬ\",    \"ክኦ\": \"ኮ\",    \"ውኧ\": \"ወ\",    \"ውኡ\": \"ዉ\",    \"ውኢ\": \"ዊ\",    \"ውኣ\": \"ዋ\",    \"ውኤ\": \"ዌ\",    \"ውኦ\": \"ዎ\",    \"ዝኧ\": \"ዘ\",    \"ዝኡ\": \"ዙ\",    \"ዝኢ\": \"ዚ\",    \"ዝኣ\": \"ዛ\",    \"ዝኤ\": \"ዜ\",    \"ዝኦ\": \"ዞ\",    \"ዥኧ\": \"ዠ\",    \"ዥኡ\": \"ዡ\",    \"ዥኢ\": \"ዢ\",    \"ዥኣ\": \"ዣ\",    \"ዥኤ\": \"ዤ\",    \"ዥኦ\": \"ዦ\",    \"ይኧ\": \"የ\",    \"ይኡ\": \"ዩ\",    \"ይኢ\": \"ዪ\",    \"ይኣ\": \"ያ\",    \"ይኤ\": \"ዬ\",    \"ይኦ\": \"ዮ\",    \"ድኧ\": \"ደ\",    \"ድኡ\": \"ዱ\",    \"ድኢ\": \"ዲ\",    \"ድኣ\": \"ዳ\",    \"ድኤ\": \"ዴ\",    \"ድኦ\": \"ዶ\",    \"ጅኧ\": \"ጀ\",    \"ጅኡ\": \"ጁ\",    \"ጅኢ\": \"ጂ\",    \"ጅኣ\": \"ጃ\",    \"ጅኤ\": \"ጄ\",    \"ጅኦ\": \"ጆ\",    \"ግኧ\": \"ገ\",    \"ግኡ\": \"ጉ\",    \"ግኢ\": \"ጊ\",    \"ግኣ\": \"ጋ\",    \"ግኤ\": \"ጌ\",    \"ግኦ\": \"ጐ\",    \"ጥኧ\": \"ጠ\",    \"ጥኡ\": \"ጡ\",    \"ጥኢ\": \"ጢ\",    \"ጥኣ\": \"ጣ\",    \"ጥኤ\": \"ጤ\",    \"ጥኦ\": \"ጦ\",    \"ጭኧ\": \"ጨ\",    \"ጭኡ\": \"ጩ\",    \"ጭኢ\": \"ጪ\",    \"ጭኣ\": \"ጫ\",    \"ጭኤ\": \"ጬ\",    \"ጭኦ\": \"ጮ\",    \"ጵኧ\": \"ጰ\",    \"ጵኡ\": \"ጱ\",    \"ጵኢ\": \"ጲ\",    \"ጵኣ\": \"ጳ\",    \"ጵኤ\": \"ጴ\",    \"ጵኦ\": \"ጶ\",    \"ጽኧ\": \"ጸ\",    \"ጽኡ\": \"ጹ\",    \"ጽኢ\": \"ጺ\",    \"ጽኣ\": \"ጻ\",    \"ጽኤ\": \"ጼ\",    \"ጽኦ\": \"ጾ\",    \"ፍኧ\": \"ፈ\",    \"ፍኡ\": \"ፉ\",    \"ፍኢ\": \"ፊ\",    \"ፍኣ\": \"ፋ\",    \"ፍኤ\": \"ፌ\",    \"ፍኦ\": \"ፎ\",    \"ፕኧ\": \"ፐ\",    \"ፕኡ\": \"ፑ\",    \"ፕኢ\": \"ፒ\",    \"ፕኣ\": \"ፓ\",    \"ፕኤ\": \"ፔ\",    \"ፕኦ\": \"ፖ\"}\n",
        "phonemeToCharMap = {\n",
        "    \"ቕኡኢ\":\"ቚ\", \"ቕኡኣ\":\"ቛ\", \"ቕኡኤ\":\"ቜ\", \"ህኡኣ\": \"ኋ\",    \"ልኡኣ\": \"ሏ\",    \"ምኡኣ\": \"ሟ\",    \"ርኡኣ\": \"ሯ\",    \"ስኡኣ\": \"ሷ\",    \"ሽኡኣ\": \"ሿ\",    \"ቅኡኣ\": \"ቋ\",    \"ብኡኣ\": \"ቧ\",    \"ቭኡኣ\": \"ቯ\",    \"ትኡኣ\": \"ቷ\",    \"ችኡኣ\": \"ቿ\",    \"ንኡኣ\": \"ኗ\",    \"ኝኡኣ\": \"ኟ\",    \"ክኡኣ\": \"ኳ\",    \"ዝኡኣ\": \"ዟ\",    \"ዥኡኣ\": \"ዧ\",    \"ድኡኣ\": \"ዷ\",    \"ጅኡኣ\": \"ጇ\",    \"ግኡኣ\": \"ጓ\",    \"ጥኡኣ\": \"ጧ\",    \"ጭኡኣ\": \"ጯ\",    \"ጵኡኣ\": \"ጷ\",    \"ጽኡኣ\": \"ጿ\",    \"ፍኡኣ\": \"ፏ\",    \"ፕኡኣ\": \"ፗ\",    \"ግኡኤ\": \"ጔ\",    \"ክኡኤ\": \"ኴ\",    \"ህኡኤ\": \"ኌ\",    \"ቅኡኤ\": \"ቌ\",    \"ግኡኢ\": \"ጒ\",    \"ክኡኢ\": \"ኲ\",    \"ቅኡኢ\": \"ቊ\",    \"ፍኡኢ\": \"ᎉ\",    \"ግኡእ\": \"ጕ\",    \"ህኡኢ\": \"ዂ\",    \"ክኡእ\": \"ኵ\",    \"ቅኡእ\": \"ቍ\",    \"ምኢኣ\": \"ፙ\",    \"ፍኢኣ\": \"ፚ\",    \"ህኡእ\": \"ዅ\",    \"ፍኡኤ\": \"ᎊ\",    \"ፍኡኧ\": \"ᎋ\",    \"ርኢኣ\": \"ፘ\",    \"ፕኡኧ\": \"ᎌ\",    \"ፕኡኢ\": \"ᎍ\",    \"ትኡኤ\": \"ᎎ\",    \"ፕኡኤ\": \"ᎏ\",    \"ቕኧ\": \"ቐ\",    \"ቕኡ\": \"ቑ\",    \"ቕኢ\": \"ቒ\",    \"ቕኣ\": \"ቓ\",\"ቕኤ\": \"ቔ\",\"ቕ\": \"ቕ\", \"ቕኦ\": \"ቖ\",    \"ህ\": \"ህ\",    \"ል\": \"ል\",    \"ም\": \"ም\",    \"ር\": \"ር\",    \"ስ\": \"ስ\",    \"ሽ\": \"ሽ\",    \"ቅ\": \"ቅ\",    \"ብ\": \"ብ\",    \"ቭ\": \"ቭ\",    \"ት\": \"ት\",    \"ች\": \"ች\",    \"ን\": \"ን\",    \"ኝ\": \"ኝ\",    \"ክ\": \"ክ\",    \"ው\": \"ው\",    \"ዝ\": \"ዝ\",    \"ዥ\": \"ዥ\",    \"ይ\": \"ይ\",    \"ድ\": \"ድ\",    \"ጅ\": \"ጅ\",    \"ግ\": \"ግ\",    \"ጥ\": \"ጥ\",    \"ጭ\": \"ጭ\",    \"ጵ\": \"ጵ\",    \"ጽ\": \"ጽ\",    \"ፍ\": \"ፍ\",    \"ፕ\": \"ፕ\",    \"ህኧ\": \"ኸ\",    \"ህኣ\": \"ሀ\",    \"ህኡ\": \"ሁ\",    \"ህኢ\": \"ሂ\",    \"ህኤ\": \"ሄ\",    \"ህኦ\": \"ሆ\",    \"ልኧ\": \"ለ\",    \"ልኡ\": \"ሉ\",    \"ልኢ\": \"ሊ\",    \"ልኣ\": \"ላ\",    \"ልኤ\": \"ሌ\",    \"ልኦ\": \"ሎ\",    \"ምኧ\": \"መ\",    \"ምኡ\": \"ሙ\",    \"ምኢ\": \"ሚ\",    \"ምኣ\": \"ማ\",    \"ምኤ\": \"ሜ\",    \"ምኦ\": \"ሞ\",    \"ርኧ\": \"ረ\",    \"ርኡ\": \"ሩ\",    \"ርኢ\": \"ሪ\",    \"ርኣ\": \"ራ\",    \"ርኤ\": \"ሬ\",    \"ርኦ\": \"ሮ\",    \"ስኧ\": \"ሰ\",    \"ስኡ\": \"ሱ\",    \"ስኢ\": \"ሲ\",    \"ስኣ\": \"ሳ\",    \"ስኤ\": \"ሴ\",    \"ስኦ\": \"ሶ\",    \"ሽኧ\": \"ሸ\",    \"ሽኡ\": \"ሹ\",    \"ሽኢ\": \"ሺ\",    \"ሽኣ\": \"ሻ\",    \"ሽኤ\": \"ሼ\",    \"ሽኦ\": \"ሾ\",    \"ቅኧ\": \"ቀ\",    \"ቅኡ\": \"ቁ\",    \"ቅኢ\": \"ቂ\",    \"ቅኣ\": \"ቃ\",    \"ቅኤ\": \"ቄ\",    \"ቅኦ\": \"ቆ\",    \"ብኧ\": \"በ\",    \"ብኡ\": \"ቡ\",    \"ብኢ\": \"ቢ\",    \"ብኣ\": \"ባ\",    \"ብኤ\": \"ቤ\",    \"ብኦ\": \"ቦ\",    \"ቭኧ\": \"ቨ\",    \"ቭኡ\": \"ቩ\",    \"ቭኢ\": \"ቪ\",    \"ቭኣ\": \"ቫ\",    \"ቭኤ\": \"ቬ\",    \"ቭኦ\": \"ቮ\",    \"ትኧ\": \"ተ\",    \"ትኡ\": \"ቱ\",    \"ትኢ\": \"ቲ\",    \"ትኣ\": \"ታ\",    \"ትኤ\": \"ቴ\",    \"ትኦ\": \"ቶ\",    \"ችኧ\": \"ቸ\",    \"ችኡ\": \"ቹ\",    \"ችኢ\": \"ቺ\",    \"ችኣ\": \"ቻ\",    \"ችኤ\": \"ቼ\",    \"ችኦ\": \"ቾ\",    \"ንኧ\": \"ነ\",    \"ንኡ\": \"ኑ\",    \"ንኢ\": \"ኒ\",    \"ንኣ\": \"ና\",    \"ንኤ\": \"ኔ\",    \"ንኦ\": \"ኖ\",    \"ኝኧ\": \"ኘ\",    \"ኝኡ\": \"ኙ\",    \"ኝኢ\": \"ኚ\",    \"ኝኣ\": \"ኛ\",    \"ኝኤ\": \"ኜ\",    \"ኝኦ\": \"ኞ\",    \"ክኧ\": \"ከ\",    \"ክኡ\": \"ኩ\",    \"ክኢ\": \"ኪ\",    \"ክኣ\": \"ካ\",    \"ክኤ\": \"ኬ\",    \"ክኦ\": \"ኮ\",    \"ውኧ\": \"ወ\",    \"ውኡ\": \"ዉ\",    \"ውኢ\": \"ዊ\",    \"ውኣ\": \"ዋ\",    \"ውኤ\": \"ዌ\",    \"ውኦ\": \"ዎ\",    \"ዝኧ\": \"ዘ\",    \"ዝኡ\": \"ዙ\",    \"ዝኢ\": \"ዚ\",    \"ዝኣ\": \"ዛ\",    \"ዝኤ\": \"ዜ\",    \"ዝኦ\": \"ዞ\",    \"ዥኧ\": \"ዠ\",    \"ዥኡ\": \"ዡ\",    \"ዥኢ\": \"ዢ\",    \"ዥኣ\": \"ዣ\",    \"ዥኤ\": \"ዤ\",    \"ዥኦ\": \"ዦ\",    \"ይኧ\": \"የ\",    \"ይኡ\": \"ዩ\",    \"ይኢ\": \"ዪ\",    \"ይኣ\": \"ያ\",    \"ይኤ\": \"ዬ\",    \"ይኦ\": \"ዮ\",    \"ድኧ\": \"ደ\",    \"ድኡ\": \"ዱ\",    \"ድኢ\": \"ዲ\",    \"ድኣ\": \"ዳ\",    \"ድኤ\": \"ዴ\",    \"ድኦ\": \"ዶ\",    \"ጅኧ\": \"ጀ\",    \"ጅኡ\": \"ጁ\",    \"ጅኢ\": \"ጂ\",    \"ጅኣ\": \"ጃ\",    \"ጅኤ\": \"ጄ\",    \"ጅኦ\": \"ጆ\",    \"ግኧ\": \"ገ\",    \"ግኡ\": \"ጉ\",    \"ግኢ\": \"ጊ\",    \"ግኣ\": \"ጋ\",    \"ግኤ\": \"ጌ\",    \"ግኦ\": \"ጐ\",    \"ጥኧ\": \"ጠ\",    \"ጥኡ\": \"ጡ\",    \"ጥኢ\": \"ጢ\",    \"ጥኣ\": \"ጣ\",    \"ጥኤ\": \"ጤ\",    \"ጥኦ\": \"ጦ\",    \"ጭኧ\": \"ጨ\",    \"ጭኡ\": \"ጩ\",    \"ጭኢ\": \"ጪ\",    \"ጭኣ\": \"ጫ\",    \"ጭኤ\": \"ጬ\",    \"ጭኦ\": \"ጮ\",    \"ጵኧ\": \"ጰ\",    \"ጵኡ\": \"ጱ\",    \"ጵኢ\": \"ጲ\",    \"ጵኣ\": \"ጳ\",    \"ጵኤ\": \"ጴ\",    \"ጵኦ\": \"ጶ\",    \"ጽኧ\": \"ጸ\",    \"ጽኡ\": \"ጹ\",    \"ጽኢ\": \"ጺ\",    \"ጽኣ\": \"ጻ\",    \"ጽኤ\": \"ጼ\",    \"ጽኦ\": \"ጾ\",    \"ፍኧ\": \"ፈ\",    \"ፍኡ\": \"ፉ\",    \"ፍኢ\": \"ፊ\",    \"ፍኣ\": \"ፋ\",    \"ፍኤ\": \"ፌ\",    \"ፍኦ\": \"ፎ\",    \"ፕኧ\": \"ፐ\",    \"ፕኡ\": \"ፑ\",    \"ፕኢ\": \"ፒ\",    \"ፕኣ\": \"ፓ\",    \"ፕኤ\": \"ፔ\",    \"ፕኦ\": \"ፖ\", \"ኧ\": \"ኧ\",    \" ኣ\": \"አ\",\"ኣ\": \"አ\",    \" ኡ\": \"ኡ\",    \" ኢ\": \"ኢ\",    \" ኤ\": \"ኤ\",    \" እ\": \"እ\",    \" ኦ\": \"ኦ\"\n",
        "}\n",
        "\n",
        "tigrePhonemeToCharMap = {\n",
        " \"ቕኡኢ\":\"ቚ\",  \"ቕኡኣ\":\"ቛ\",  \"ቕኡኤ\":\"ቜ\",  \"ህኡኣ\": \"ኋ\",     \"ልኡኣ\": \"ሏ\",     \"ምኡኣ\": \"ሟ\",     \"ርኡኣ\": \"ሯ\",     \"ስኡኣ\": \"ሷ\",     \"ሽኡኣ\": \"ሿ\",     \"ቅኡኣ\": \"ቋ\",     \"ብኡኣ\": \"ቧ\",     \"ቭኡኣ\": \"ቯ\",     \"ትኡኣ\": \"ቷ\",     \"ችኡኣ\": \"ቿ\",     \"ንኡኣ\": \"ኗ\",     \"ኝኡኣ\": \"ኟ\",     \"ክኡኣ\": \"ኳ\",     \"ዝኡኣ\": \"ዟ\",     \"ዥኡኣ\": \"ዧ\",     \"ድኡኣ\": \"ዷ\",     \"ጅኡኣ\": \"ጇ\",     \"ግኡኣ\": \"ጓ\",     \"ጥኡኣ\": \"ጧ\",     \"ጭኡኣ\": \"ጯ\",     \"ጵኡኣ\": \"ጷ\",     \"ጽኡኣ\": \"ጿ\",     \"ፍኡኣ\": \"ፏ\",     \"ፕኡኣ\": \"ፗ\",     \"ግኡኤ\": \"ጔ\",     \"ክኡኤ\": \"ኴ\",     \"ህኡኤ\": \"ኌ\",     \"ቅኡኤ\": \"ቌ\",     \"ግኡኢ\": \"ጒ\",     \"ክኡኢ\": \"ኲ\",     \"ቅኡኢ\": \"ቊ\",     \"ፍኡኢ\": \"ᎉ\",     \"ግኡእ\": \"ጕ\",     \"ህኡኢ\": \"ዂ\",     \"ክኡእ\": \"ኵ\",     \"ቅኡእ\": \"ቍ\",     \"ምኢኣ\": \"ፙ\",     \"ፍኢኣ\": \"ፚ\",     \"ህኡእ\": \"ዅ\",     \"ፍኡኤ\": \"ᎊ\",     \"ፍኡኧ\": \"ᎋ\",     \"ርኢኣ\": \"ፘ\",     \"ፕኡኧ\": \"ᎌ\",     \"ፕኡኢ\": \"ᎍ\",     \"ትኡኤ\": \"ᎎ\",     \"ፕኡኤ\": \"ᎏ\",     \"ቕኧ\": \"ቐ\",     \"ቕኡ\": \"ቑ\",     \"ቕኢ\": \"ቒ\",     \"ቕኣ\": \"ቓ\", \"ቕኤ\": \"ቔ\", \"ቕ\": \"ቕ\",  \"ቕኦ\": \"ቖ\",     \"ህ\": \"ህ\",     \"ል\": \"ል\",     \"ም\": \"ም\",     \"ር\": \"ር\",     \"ስ\": \"ስ\",     \"ሽ\": \"ሽ\",     \"ቅ\": \"ቅ\",     \"ብ\": \"ብ\",     \"ቭ\": \"ቭ\",     \"ት\": \"ት\",     \"ች\": \"ች\",     \"ን\": \"ን\",     \"ኝ\": \"ኝ\",     \"ክ\": \"ክ\",     \"ው\": \"ው\",     \"ዝ\": \"ዝ\",     \"ዥ\": \"ዥ\",     \"ይ\": \"ይ\",     \"ድ\": \"ድ\",     \"ጅ\": \"ጅ\",     \"ግ\": \"ግ\",     \"ጥ\": \"ጥ\",     \"ጭ\": \"ጭ\",     \"ጵ\": \"ጵ\",     \"ጽ\": \"ጽ\",     \"ፍ\": \"ፍ\",     \"ፕ\": \"ፕ\",     \"ህኧ\": \"ኸ\",     \"ህኣ\": \"ሓ\",     \"ህኡ\": \"ሑ\",     \"ህኢ\": \"ሒ\",     \"ህኤ\": \"ሔ\",     \"ህኦ\": \"ሖ\",     \"ልኧ\": \"ለ\",     \"ልኡ\": \"ሉ\",     \"ልኢ\": \"ሊ\",     \"ልኣ\": \"ላ\",     \"ልኤ\": \"ሌ\",     \"ልኦ\": \"ሎ\",     \"ምኧ\": \"መ\",     \"ምኡ\": \"ሙ\",     \"ምኢ\": \"ሚ\",     \"ምኣ\": \"ማ\",     \"ምኤ\": \"ሜ\",     \"ምኦ\": \"ሞ\",     \"ርኧ\": \"ረ\",     \"ርኡ\": \"ሩ\",     \"ርኢ\": \"ሪ\",     \"ርኣ\": \"ራ\",     \"ርኤ\": \"ሬ\",     \"ርኦ\": \"ሮ\",     \"ስኧ\": \"ሰ\",     \"ስኡ\": \"ሱ\",     \"ስኢ\": \"ሲ\",     \"ስኣ\": \"ሳ\",     \"ስኤ\": \"ሴ\",     \"ስኦ\": \"ሶ\",     \"ሽኧ\": \"ሸ\",     \"ሽኡ\": \"ሹ\",     \"ሽኢ\": \"ሺ\",     \"ሽኣ\": \"ሻ\",     \"ሽኤ\": \"ሼ\",     \"ሽኦ\": \"ሾ\",     \"ቅኧ\": \"ቀ\",     \"ቅኡ\": \"ቁ\",     \"ቅኢ\": \"ቂ\",     \"ቅኣ\": \"ቃ\",     \"ቅኤ\": \"ቄ\",     \"ቅኦ\": \"ቆ\",     \"ብኧ\": \"በ\",     \"ብኡ\": \"ቡ\",     \"ብኢ\": \"ቢ\",     \"ብኣ\": \"ባ\",     \"ብኤ\": \"ቤ\",     \"ብኦ\": \"ቦ\",     \"ቭኧ\": \"ቨ\",     \"ቭኡ\": \"ቩ\",     \"ቭኢ\": \"ቪ\",     \"ቭኣ\": \"ቫ\",     \"ቭኤ\": \"ቬ\",     \"ቭኦ\": \"ቮ\",     \"ትኧ\": \"ተ\",     \"ትኡ\": \"ቱ\",     \"ትኢ\": \"ቲ\",     \"ትኣ\": \"ታ\",     \"ትኤ\": \"ቴ\",     \"ትኦ\": \"ቶ\",     \"ችኧ\": \"ቸ\",     \"ችኡ\": \"ቹ\",     \"ችኢ\": \"ቺ\",     \"ችኣ\": \"ቻ\",     \"ችኤ\": \"ቼ\",     \"ችኦ\": \"ቾ\",     \"ንኧ\": \"ነ\",     \"ንኡ\": \"ኑ\",     \"ንኢ\": \"ኒ\",     \"ንኣ\": \"ና\",     \"ንኤ\": \"ኔ\",     \"ንኦ\": \"ኖ\",     \"ኝኧ\": \"ኘ\",     \"ኝኡ\": \"ኙ\",     \"ኝኢ\": \"ኚ\",     \"ኝኣ\": \"ኛ\",     \"ኝኤ\": \"ኜ\",     \"ኝኦ\": \"ኞ\",     \"ክኧ\": \"ከ\",     \"ክኡ\": \"ኩ\",     \"ክኢ\": \"ኪ\",     \"ክኣ\": \"ካ\",     \"ክኤ\": \"ኬ\",     \"ክኦ\": \"ኮ\",     \"ውኧ\": \"ወ\",     \"ውኡ\": \"ዉ\",     \"ውኢ\": \"ዊ\",     \"ውኣ\": \"ዋ\",     \"ውኤ\": \"ዌ\",     \"ውኦ\": \"ዎ\",     \"ዝኧ\": \"ዘ\",     \"ዝኡ\": \"ዙ\",     \"ዝኢ\": \"ዚ\",     \"ዝኣ\": \"ዛ\",     \"ዝኤ\": \"ዜ\",     \"ዝኦ\": \"ዞ\",     \"ዥኧ\": \"ዠ\",     \"ዥኡ\": \"ዡ\",     \"ዥኢ\": \"ዢ\",     \"ዥኣ\": \"ዣ\",     \"ዥኤ\": \"ዤ\",     \"ዥኦ\": \"ዦ\",     \"ይኧ\": \"የ\",     \"ይኡ\": \"ዩ\",     \"ይኢ\": \"ዪ\",     \"ይኣ\": \"ያ\",     \"ይኤ\": \"ዬ\",     \"ይኦ\": \"ዮ\",     \"ድኧ\": \"ደ\",     \"ድኡ\": \"ዱ\",     \"ድኢ\": \"ዲ\",     \"ድኣ\": \"ዳ\",     \"ድኤ\": \"ዴ\",     \"ድኦ\": \"ዶ\",     \"ጅኧ\": \"ጀ\",     \"ጅኡ\": \"ጁ\",     \"ጅኢ\": \"ጂ\",     \"ጅኣ\": \"ጃ\",     \"ጅኤ\": \"ጄ\",     \"ጅኦ\": \"ጆ\",     \"ግኧ\": \"ገ\",     \"ግኡ\": \"ጉ\",     \"ግኢ\": \"ጊ\",     \"ግኣ\": \"ጋ\",     \"ግኤ\": \"ጌ\",     \"ግኦ\": \"ጐ\",     \"ጥኧ\": \"ጠ\",     \"ጥኡ\": \"ጡ\",     \"ጥኢ\": \"ጢ\",     \"ጥኣ\": \"ጣ\",     \"ጥኤ\": \"ጤ\",     \"ጥኦ\": \"ጦ\",     \"ጭኧ\": \"ጨ\",     \"ጭኡ\": \"ጩ\",     \"ጭኢ\": \"ጪ\",     \"ጭኣ\": \"ጫ\",     \"ጭኤ\": \"ጬ\",     \"ጭኦ\": \"ጮ\",     \"ጵኧ\": \"ጰ\",     \"ጵኡ\": \"ጱ\",     \"ጵኢ\": \"ጲ\",     \"ጵኣ\": \"ጳ\",     \"ጵኤ\": \"ጴ\",     \"ጵኦ\": \"ጶ\",     \"ጽኧ\": \"ጸ\",     \"ጽኡ\": \"ጹ\",     \"ጽኢ\": \"ጺ\",     \"ጽኣ\": \"ጻ\",     \"ጽኤ\": \"ጼ\",     \"ጽኦ\": \"ጾ\",     \"ፍኧ\": \"ፈ\",     \"ፍኡ\": \"ፉ\",     \"ፍኢ\": \"ፊ\",     \"ፍኣ\": \"ፋ\",     \"ፍኤ\": \"ፌ\",     \"ፍኦ\": \"ፎ\",     \"ፕኧ\": \"ፐ\",     \"ፕኡ\": \"ፑ\",     \"ፕኢ\": \"ፒ\",     \"ፕኣ\": \"ፓ\",     \"ፕኤ\": \"ፔ\",     \"ፕኦ\": \"ፖ\",  \"ኧ\": \"ኧ\",     \" ኣ\": \"ኣ\",     \" ኡ\": \"ኡ\",     \" ኢ\": \"ኢ\",     \" ኤ\": \"ኤ\",     \" እ\": \"እ\",     \" ኦ\": \"ኦ\"\n",
        "}"
      ]
    },
    {
      "cell_type": "code",
      "execution_count": null,
      "metadata": {
        "id": "eBKrdTLO_E1a"
      },
      "outputs": [],
      "source": [
        "def mapBack(sent:str, tigre=False) -> str:\n",
        "  sent = sent.strip()\n",
        "  theMap = {}\n",
        "  if tigre :\n",
        "    theMap = tigrePhonemeToCharMap\n",
        "  else:\n",
        "    theMap = phonemeToCharMap\n",
        "  for a in theMap:\n",
        "    if a in sent:\n",
        "      sent = sent.replace(a, theMap[a])\n",
        "  return sent.strip()\n",
        "\n",
        "  return sent.strip()"
      ]
    },
    {
      "cell_type": "code",
      "execution_count": null,
      "metadata": {
        "colab": {
          "base_uri": "https://localhost:8080/"
        },
        "id": "VJEL4BO6CKFA",
        "outputId": "75eb49c8-28d7-443b-d2f5-f31c5da3261c"
      },
      "outputs": [
        {
          "name": "stdout",
          "output_type": "stream",
          "text": [
            "አጋፋሪ ዎቻቸው ቐ በ አዳኑ ም አቋማቸው ለ እነርሱ ሀርቾ ና ሙብተው ከ ሰጡት ድጋፍ አይ ለይም\n"
          ]
        }
      ],
      "source": [
        "sample = \"ኣግኣፍኣርኢ ውኦችኣችኧው ቕኧ ብኧ  ኣድኣንኡ ም  ኣቅኡኣምኣችኧው ልኧ  እንኧርስኡ ህኣርችኦ ንኣ ምኡብትኧው ክኧ ስኧጥኡት ድግኣፍ  ኣይ ልኧይም\"\n",
        "print(mapBack(sample))"
      ]
    },
    {
      "cell_type": "code",
      "execution_count": null,
      "metadata": {
        "colab": {
          "base_uri": "https://localhost:8080/"
        },
        "id": "RYP0tUUpD-ib",
        "outputId": "37fdfd7a-d7f1-4509-aeb8-b7395d4e8ce2"
      },
      "outputs": [
        {
          "name": "stdout",
          "output_type": "stream",
          "text": [
            "ኣጋፋሪ ዎቻቸው ቐ በ ኣዳኑ ም ኣቋማቸው ለ እነርሱ ሓርቾ ና ሙብተው ከ ሰጡት ድጋፍ ኣይ ለይም\n"
          ]
        }
      ],
      "source": [
        "sample = \"ኣግኣፍኣርኢ ውኦችኣችኧው ቕኧ ብኧ  ኣድኣንኡ ም  ኣቅኡኣምኣችኧው ልኧ  እንኧርስኡ ህኣርችኦ ንኣ ምኡብትኧው ክኧ ስኧጥኡት ድግኣፍ  ኣይ ልኧይም\"\n",
        "print(mapBack(sample, tigre=True))"
      ]
    },
    {
      "cell_type": "code",
      "execution_count": null,
      "metadata": {
        "id": "G4z37V1EFWkH"
      },
      "outputs": [],
      "source": [
        "true_value = []\n",
        "fille=open(\"val.spa\",\"r\",encoding=\"utf-8\")\n",
        "true_value= fille.readlines()\n",
        "fille.close()"
      ]
    },
    {
      "cell_type": "code",
      "execution_count": null,
      "metadata": {
        "id": "1XZ-kjweyTy_"
      },
      "outputs": [],
      "source": [
        "def compute_metrics(pred):\n",
        "    pred_logits = pred.predictions\n",
        "    pred_ids = np.argmax(pred_logits, axis=-1)\n",
        "\n",
        "    pred.label_ids[pred.label_ids == -100] = processor.tokenizer.pad_token_id\n",
        "\n",
        "    pred_str = processor.batch_decode(pred_ids)\n",
        "    # we do not want to group tokens when computing the metrics\n",
        "    label_str = processor.batch_decode(pred.label_ids, group_tokens=False)\n",
        "\n",
        "    wer = wer_metric.compute(predictions=pred_str, references=label_str)\n",
        "    cer = cer_metric.compute(predictions=pred_str, references=label_str)\n",
        "\n",
        "    results = []\n",
        "    for s in pred_str:\n",
        "      results.append(mapBack(s))\n",
        "    real_cer = cer_metric.compute(predictions=results, references=true_value)\n",
        "\n",
        "    return {\"wer\": wer, \"phoneme_cer\": cer, \"cer\": real_cer}"
      ]
    },
    {
      "cell_type": "code",
      "execution_count": null,
      "metadata": {
        "colab": {
          "base_uri": "https://localhost:8080/"
        },
        "id": "xXkH3m5o5myn",
        "outputId": "4b33fbd0-e6d0-46a8-c264-550d1bf09a76"
      },
      "outputs": [
        {
          "data": {
            "text/plain": [
              "23"
            ]
          },
          "execution_count": 38,
          "metadata": {},
          "output_type": "execute_result"
        }
      ],
      "source": [
        "import gc\n",
        "gc.collect()"
      ]
    },
    {
      "cell_type": "code",
      "execution_count": null,
      "metadata": {
        "id": "j8Os9OckErPn"
      },
      "outputs": [],
      "source": [
        "import torch\n",
        "from transformers import Wav2Vec2ForCTC"
      ]
    },
    {
      "cell_type": "code",
      "execution_count": null,
      "metadata": {
        "colab": {
          "base_uri": "https://localhost:8080/",
          "height": 211
        },
        "id": "e7cqAWIayn6w",
        "outputId": "e86e57e1-0c91-4a42-b75b-87e9cc82844b"
      },
      "outputs": [],
      "source": [
        "model = Wav2Vec2ForCTC.from_pretrained(\n",
        "    \"Samuael/asr-amharic-phoneme-based-38\",\n",
        "    ctc_loss_reduction=\"mean\",\n",
        "    pad_token_id=processor.tokenizer.pad_token_id,\n",
        ")\n",
        "# model.lm_head=  torch.nn.Sequential(\n",
        "#     torch.nn.Linear(in_features=1024, out_features=2048, bias=True),\n",
        "#     torch.nn.LayerNorm((2048,), eps=1e-05, elementwise_affine=True),\n",
        "#     torch.nn.LeakyReLU(),\n",
        "#     torch.nn.Dropout(0.15),\n",
        "#     torch.nn.Linear(in_features=2048, out_features=224, bias=True),\n",
        "#     torch.nn.LayerNorm((224,), eps=1e-05, elementwise_affine=True),\n",
        "#     torch.nn.LeakyReLU(),\n",
        "#     torch.nn.Dropout(0.15),\n",
        "#     torch.nn.Linear(in_features=224, out_features=37, bias=True),\n",
        "# )\n",
        "# model.vocab_size=37\n",
        "# model.eos_token_id=37\n",
        "# model.config.vocab_size=37"
      ]
    },
    {
      "cell_type": "code",
      "execution_count": null,
      "metadata": {
        "id": "GpTYifWiEwAi"
      },
      "outputs": [],
      "source": [
        "model.lm_head.weight = torch.nn.Parameter(torch.vstack((model.lm_head.weight, torch.zeros((1, 1024)) + 0.0001 )))"
      ]
    },
    {
      "cell_type": "code",
      "execution_count": null,
      "metadata": {
        "colab": {
          "base_uri": "https://localhost:8080/"
        },
        "id": "E0vKGpj3stfz",
        "outputId": "75bf9d97-206c-4efb-c5d2-0933ed2ee371"
      },
      "outputs": [
        {
          "data": {
            "text/plain": [
              "torch.Size([38, 1024])"
            ]
          },
          "execution_count": 79,
          "metadata": {},
          "output_type": "execute_result"
        }
      ],
      "source": [
        "model.lm_head.weight.shape"
      ]
    },
    {
      "cell_type": "code",
      "execution_count": null,
      "metadata": {
        "id": "7iWjifak95Wv"
      },
      "outputs": [],
      "source": [
        "model.config.vocab_size=38"
      ]
    },
    {
      "cell_type": "code",
      "execution_count": null,
      "metadata": {
        "id": "HRZ8EUfWtCkQ"
      },
      "outputs": [],
      "source": [
        "model.lm_head.weight"
      ]
    },
    {
      "cell_type": "code",
      "execution_count": null,
      "metadata": {
        "id": "5XtHGvYPtUel"
      },
      "outputs": [],
      "source": [
        "model.vocab_size=38\n",
        "model.eos_token_id=38\n",
        "model.config.vocab_size=38"
      ]
    },
    {
      "cell_type": "code",
      "execution_count": null,
      "metadata": {
        "id": "LuZaUiaCuIko"
      },
      "outputs": [],
      "source": [
        "model.lm_head.bias = torch.nn.Parameter(torch.hstack((model.lm_head.bias, torch.tensor([0.0001]))))"
      ]
    },
    {
      "cell_type": "code",
      "execution_count": null,
      "metadata": {
        "colab": {
          "base_uri": "https://localhost:8080/"
        },
        "id": "fquKUe5AuvKa",
        "outputId": "d3a2ffac-718c-4ce1-92d1-97c4e9e8afd9"
      },
      "outputs": [
        {
          "data": {
            "text/plain": [
              "torch.Size([38, 1024])"
            ]
          },
          "execution_count": 100,
          "metadata": {},
          "output_type": "execute_result"
        }
      ],
      "source": [
        "model.lm_head.weight.shape"
      ]
    },
    {
      "cell_type": "code",
      "execution_count": null,
      "metadata": {
        "id": "qf6NpJJNtaC3"
      },
      "outputs": [],
      "source": [
        "model.lm_head.bias= torch.nn.Parameter()"
      ]
    },
    {
      "cell_type": "code",
      "execution_count": null,
      "metadata": {
        "colab": {
          "base_uri": "https://localhost:8080/",
          "height": 168,
          "referenced_widgets": [
            "cdb0a6f1c62e4c9ebb7a6559b6de57a6",
            "a085e9389488443c9ae7c9945e4d352c",
            "edb5bccf95e04ce6b0bae95f78785adf",
            "ce2ee742d57344aeb5562b396a41a4c6",
            "b309702b61bd440a91ca0e9e7cca6104",
            "2d9078bd54e144e38ca8fe8223d8660c",
            "b3c8334833e842f5884e3a5ffb3983be",
            "e0acd40db96d4004b66e9216f4c3b6cb",
            "5a96ec1c20a94b08b846cff4df965090",
            "5b69d5e5b2874927b6f4b6c4ab8bd014",
            "76aa8ccdcd284278b5d9489bc0b85854",
            "e01cfb2191134af9bb0ba8f5ef9fe8b5",
            "49bab0b8f2d042e5977dce2e8802802e",
            "7b9d49afdc274700bde6f7774b4c2652",
            "477075e19eba43559733e6bc49b7132f",
            "f3ff5c7db2a14eabbe55ccb2f3f7a9e8",
            "58ec1fb34fcd476f9b323966cefedbf7",
            "2ca58eb9f7e6452ba45ab002c4828e3c",
            "ee9ab2d49814443689ba7ca6d74b429d",
            "a6208c96ae1d45ea82a2729842502a07",
            "afa9360ab8f341caa8d1f3b94553d031",
            "f084954060f04d0293c1cdf5c0f87a12"
          ]
        },
        "id": "4udLm-Bkxy4k",
        "outputId": "ada41597-fc52-4452-db32-6509b5467754"
      },
      "outputs": [
        {
          "data": {
            "application/vnd.jupyter.widget-view+json": {
              "model_id": "cdb0a6f1c62e4c9ebb7a6559b6de57a6",
              "version_major": 2,
              "version_minor": 0
            },
            "text/plain": [
              "README.md:   0%|          | 0.00/5.18k [00:00<?, ?B/s]"
            ]
          },
          "metadata": {},
          "output_type": "display_data"
        },
        {
          "data": {
            "application/vnd.jupyter.widget-view+json": {
              "model_id": "e01cfb2191134af9bb0ba8f5ef9fe8b5",
              "version_major": 2,
              "version_minor": 0
            },
            "text/plain": [
              "model.safetensors:   0%|          | 0.00/1.26G [00:00<?, ?B/s]"
            ]
          },
          "metadata": {},
          "output_type": "display_data"
        },
        {
          "data": {
            "application/vnd.google.colaboratory.intrinsic+json": {
              "type": "string"
            },
            "text/plain": [
              "CommitInfo(commit_url='https://huggingface.co/Samuael/asr-amharic-phoneme-based-38/commit/3dc05692df48f9251a5180e0a7f6636b743f6f2d', commit_message='Upload Wav2Vec2ForCTC', commit_description='', oid='3dc05692df48f9251a5180e0a7f6636b743f6f2d', pr_url=None, pr_revision=None, pr_num=None)"
            ]
          },
          "execution_count": 109,
          "metadata": {},
          "output_type": "execute_result"
        }
      ],
      "source": [
        "model.push_to_hub(\"Samuael/asr-amharic-phoneme-based-38\")"
      ]
    },
    {
      "cell_type": "code",
      "execution_count": null,
      "metadata": {
        "colab": {
          "base_uri": "https://localhost:8080/",
          "height": 176
        },
        "id": "Et_NUAZjWppc",
        "outputId": "13af743b-91d9-4d69-e043-1744ba6fb95d"
      },
      "outputs": [],
      "source": [
        "model.freeze_feature_encoder()"
      ]
    },
    {
      "cell_type": "code",
      "execution_count": null,
      "metadata": {
        "id": "ZxG5uicCMS8p"
      },
      "outputs": [],
      "source": [
        "from transformers import TrainingArguments\n",
        "import torch\n",
        "from transformers import Trainer"
      ]
    },
    {
      "cell_type": "code",
      "execution_count": null,
      "metadata": {
        "id": "KbeKSV7uzGPP"
      },
      "outputs": [],
      "source": [
        "training_args = TrainingArguments(\n",
        "  output_dir=\"/content/gdrive/MyDrive/Wav2Vec_model/\"+repo_name,\n",
        "  group_by_length=True,\n",
        "  per_device_train_batch_size=16,\n",
        "  evaluation_strategy=\"steps\",\n",
        "  num_train_epochs=20,\n",
        "  # bf16=True,\n",
        "  fp16=True,\n",
        "  gradient_checkpointing=True,\n",
        "  save_steps=200,\n",
        "  eval_steps=200,\n",
        "  # logging_steps=2,\n",
        "  learning_rate=3e-5,\n",
        "  weight_decay=0.0005,\n",
        "  warmup_steps=100,\n",
        "  save_total_limit=6,\n",
        ")"
      ]
    },
    {
      "cell_type": "code",
      "execution_count": null,
      "metadata": {
        "id": "rY7vBmFCPFgC"
      },
      "outputs": [],
      "source": [
        "trainer = Trainer(\n",
        "    model=model,\n",
        "    data_collator=data_collator,\n",
        "    args=training_args,\n",
        "    compute_metrics=compute_metrics,\n",
        "    train_dataset=amha[\"train\"],\n",
        "    eval_dataset=amha[\"test\"],\n",
        "    tokenizer=processor.feature_extractor,\n",
        ")"
      ]
    },
    {
      "cell_type": "markdown",
      "metadata": {
        "id": "rpvZHM1xReIW"
      },
      "source": [
        "### Training"
      ]
    },
    {
      "cell_type": "code",
      "execution_count": null,
      "metadata": {
        "id": "oWJ5dElPUGJ2"
      },
      "outputs": [],
      "source": [
        "# amha[\"train\"][0]"
      ]
    },
    {
      "cell_type": "code",
      "execution_count": null,
      "metadata": {
        "id": "zpi7qYrL6lAv"
      },
      "outputs": [],
      "source": [
        "trainer.args.learning_rate = 3e-5\n",
        "trainer.args.per_device_train_batch_size=32\n",
        "trainer.use_retrant=False"
      ]
    },
    {
      "cell_type": "code",
      "execution_count": null,
      "metadata": {
        "id": "ftuz1cXR9sLL"
      },
      "outputs": [],
      "source": [
        "import gc"
      ]
    },
    {
      "cell_type": "code",
      "execution_count": null,
      "metadata": {
        "colab": {
          "base_uri": "https://localhost:8080/",
          "height": 283
        },
        "id": "bii4MPOajGL9",
        "outputId": "cad3af01-fefd-40e4-9afd-80f712bc9b7e"
      },
      "outputs": [],
      "source": [
        "trainer.train()"
      ]
    },
    {
      "cell_type": "code",
      "execution_count": null,
      "metadata": {
        "colab": {
          "base_uri": "https://localhost:8080/",
          "height": 104
        },
        "id": "JYGQYBhHNsvj",
        "outputId": "50b594af-2521-423f-b3d9-9c9277ddf0c4"
      },
      "outputs": [],
      "source": [
        "trainer.push_to_hub()\n",
        "# trainer.use_retrant=False\n",
        "# trainer.train()"
      ]
    },
    {
      "cell_type": "code",
      "execution_count": null,
      "metadata": {
        "colab": {
          "base_uri": "https://localhost:8080/",
          "height": 245
        },
        "id": "J8NNJ0qlAdJF",
        "outputId": "10a6a8b2-698b-4aad-c947-6b247e86cb85"
      },
      "outputs": [],
      "source": [
        "#@title Remove model\n",
        "del model\n",
        "del trainer\n",
        "\n",
        "import gc\n",
        "gc.collect()"
      ]
    },
    {
      "cell_type": "markdown",
      "metadata": {
        "id": "nD4XP5IHncsY"
      },
      "source": [
        "### Evaluate\n",
        "\n",
        "In the final part, we run our model on some of the validation data to get a feeling for how well it works.\n",
        "\n",
        "Let's load the `processor` and `model`."
      ]
    },
    {
      "cell_type": "code",
      "execution_count": null,
      "metadata": {
        "colab": {
          "base_uri": "https://localhost:8080/"
        },
        "id": "-rg0USDCnbo6",
        "outputId": "f95501e2-5ebd-4e9d-f8ba-19858cce0b7a"
      },
      "outputs": [],
      "source": [
        "processor = Wav2Vec2Processor.from_pretrained(\"Samuael/asr-amharic-phoneme-based-233\")"
      ]
    },
    {
      "cell_type": "code",
      "execution_count": null,
      "metadata": {
        "id": "sSpFW3pDn23P"
      },
      "outputs": [],
      "source": [
        "model = Wav2Vec2ForCTC.from_pretrained(\"Samuael/asr-amharic-phoneme-based-233\").cuda()"
      ]
    },
    {
      "cell_type": "code",
      "execution_count": null,
      "metadata": {
        "id": "wfxsiG0g23rE"
      },
      "outputs": [],
      "source": [
        "model=model.cuda()"
      ]
    },
    {
      "cell_type": "code",
      "execution_count": null,
      "metadata": {
        "colab": {
          "base_uri": "https://localhost:8080/",
          "height": 104,
          "referenced_widgets": [
            "f798982f8ddd49f7846b797f401fd10a",
            "9c828f6eafdf404aaef02032b9f08bed",
            "769eded7134447bd9e24d16b7f9f0df5",
            "7bd8b24823774facaf9876129dec8a3f",
            "39b1fafbfa9b46f7a883b51d18155eec",
            "07f42d192bfc4887a0c93c35ad5881aa",
            "bc8bee38833a4c759e092d0713c3b2fd",
            "ff31d449748048708a4924753eba32de",
            "f7cc4543f98646a6bfa962e90d2b6bbf",
            "4cf32ab919bd4a7dbe4df88fb3f8e048",
            "bbf96dbcfc6541e199cd44e5f79c23df"
          ]
        },
        "id": "uPqH7gZqrGPi",
        "outputId": "56f0b134-1cff-428a-a933-3b75d979a723"
      },
      "outputs": [],
      "source": [
        "results = amha[\"test\"].map(map_to_result,) # remove_columns=amha[\"train\"].column_names)"
      ]
    },
    {
      "cell_type": "code",
      "execution_count": null,
      "metadata": {
        "colab": {
          "base_uri": "https://localhost:8080/"
        },
        "id": "A9LMzoR_1dFJ",
        "outputId": "f5bc3699-5eee-4b8e-9b47-92f4034c8d3c"
      },
      "outputs": [],
      "source": [
        "print(\"Test Phoneme CER: {:.3f}\".format(cer_metric.compute(predictions=results[\"pred_str\"], references=results[\"text\"])))"
      ]
    },
    {
      "cell_type": "code",
      "execution_count": null,
      "metadata": {
        "colab": {
          "base_uri": "https://localhost:8080/"
        },
        "id": "fXirz1x01kej",
        "outputId": "b5885dd5-8887-4ff0-f583-75bff191147c"
      },
      "outputs": [],
      "source": [
        "print(\"Test Phoneme WER: {:.3f}\".format(wer_metric.compute(predictions=results[\"pred_str\"], references=results[\"text\"])))"
      ]
    },
    {
      "cell_type": "markdown",
      "metadata": {
        "id": "-mqpdB8R6rty"
      },
      "source": [
        "Compute WER now."
      ]
    },
    {
      "cell_type": "code",
      "execution_count": null,
      "metadata": {
        "colab": {
          "base_uri": "https://localhost:8080/"
        },
        "id": "PmqAb4Isx8OK",
        "outputId": "680457e1-3024-4480-e491-13c0bacf9fa8"
      },
      "outputs": [],
      "source": [
        "print(\"Test Phoneme CER: {:.3f}\".format(cer_metric.compute(predictions=results[\"pred_str\"], references=results[\"text\"])))"
      ]
    },
    {
      "cell_type": "code",
      "execution_count": null,
      "metadata": {
        "colab": {
          "base_uri": "https://localhost:8080/"
        },
        "id": "jLKS_ZdqOAVR",
        "outputId": "975fc4f4-ca43-4576-d09d-dd14d02296dc"
      },
      "outputs": [],
      "source": [
        "print(\"Test Phoneme WER: {:.3f}\".format(wer_metric.compute(predictions=results[\"pred_str\"], references=results[\"text\"])))"
      ]
    }
  ],
  "metadata": {
    "accelerator": "GPU",
    "colab": {
      "gpuType": "T4",
      "provenance": []
    },
    "kernelspec": {
      "display_name": "Python 3.9.6 64-bit",
      "language": "python",
      "name": "python3"
    },
    "language_info": {
      "name": "python",
      "version": "3.9.6"
    },
    "vscode": {
      "interpreter": {
        "hash": "31f2aee4e71d21fbe5cf8b01ff0e069b9275f58929596ceb00d14d90e3e16cd6"
      }
    },
    "widgets": {
      "application/vnd.jupyter.widget-state+json": {
        "05a7ae42e6c441e2b651b9fd25d52ca1": {
          "model_module": "@jupyter-widgets/base",
          "model_module_version": "1.2.0",
          "model_name": "LayoutModel",
          "state": {
            "_model_module": "@jupyter-widgets/base",
            "_model_module_version": "1.2.0",
            "_model_name": "LayoutModel",
            "_view_count": null,
            "_view_module": "@jupyter-widgets/base",
            "_view_module_version": "1.2.0",
            "_view_name": "LayoutView",
            "align_content": null,
            "align_items": null,
            "align_self": null,
            "border": null,
            "bottom": null,
            "display": null,
            "flex": null,
            "flex_flow": null,
            "grid_area": null,
            "grid_auto_columns": null,
            "grid_auto_flow": null,
            "grid_auto_rows": null,
            "grid_column": null,
            "grid_gap": null,
            "grid_row": null,
            "grid_template_areas": null,
            "grid_template_columns": null,
            "grid_template_rows": null,
            "height": null,
            "justify_content": null,
            "justify_items": null,
            "left": null,
            "margin": null,
            "max_height": null,
            "max_width": null,
            "min_height": null,
            "min_width": null,
            "object_fit": null,
            "object_position": null,
            "order": null,
            "overflow": null,
            "overflow_x": null,
            "overflow_y": null,
            "padding": null,
            "right": null,
            "top": null,
            "visibility": null,
            "width": null
          }
        },
        "070240e5094246a4b6ac13d74cd60022": {
          "model_module": "@jupyter-widgets/base",
          "model_module_version": "1.2.0",
          "model_name": "LayoutModel",
          "state": {
            "_model_module": "@jupyter-widgets/base",
            "_model_module_version": "1.2.0",
            "_model_name": "LayoutModel",
            "_view_count": null,
            "_view_module": "@jupyter-widgets/base",
            "_view_module_version": "1.2.0",
            "_view_name": "LayoutView",
            "align_content": null,
            "align_items": null,
            "align_self": null,
            "border": null,
            "bottom": null,
            "display": null,
            "flex": null,
            "flex_flow": null,
            "grid_area": null,
            "grid_auto_columns": null,
            "grid_auto_flow": null,
            "grid_auto_rows": null,
            "grid_column": null,
            "grid_gap": null,
            "grid_row": null,
            "grid_template_areas": null,
            "grid_template_columns": null,
            "grid_template_rows": null,
            "height": null,
            "justify_content": null,
            "justify_items": null,
            "left": null,
            "margin": null,
            "max_height": null,
            "max_width": null,
            "min_height": null,
            "min_width": null,
            "object_fit": null,
            "object_position": null,
            "order": null,
            "overflow": null,
            "overflow_x": null,
            "overflow_y": null,
            "padding": null,
            "right": null,
            "top": null,
            "visibility": null,
            "width": null
          }
        },
        "07f42d192bfc4887a0c93c35ad5881aa": {
          "model_module": "@jupyter-widgets/base",
          "model_module_version": "1.2.0",
          "model_name": "LayoutModel",
          "state": {
            "_model_module": "@jupyter-widgets/base",
            "_model_module_version": "1.2.0",
            "_model_name": "LayoutModel",
            "_view_count": null,
            "_view_module": "@jupyter-widgets/base",
            "_view_module_version": "1.2.0",
            "_view_name": "LayoutView",
            "align_content": null,
            "align_items": null,
            "align_self": null,
            "border": null,
            "bottom": null,
            "display": null,
            "flex": null,
            "flex_flow": null,
            "grid_area": null,
            "grid_auto_columns": null,
            "grid_auto_flow": null,
            "grid_auto_rows": null,
            "grid_column": null,
            "grid_gap": null,
            "grid_row": null,
            "grid_template_areas": null,
            "grid_template_columns": null,
            "grid_template_rows": null,
            "height": null,
            "justify_content": null,
            "justify_items": null,
            "left": null,
            "margin": null,
            "max_height": null,
            "max_width": null,
            "min_height": null,
            "min_width": null,
            "object_fit": null,
            "object_position": null,
            "order": null,
            "overflow": null,
            "overflow_x": null,
            "overflow_y": null,
            "padding": null,
            "right": null,
            "top": null,
            "visibility": null,
            "width": null
          }
        },
        "0e3d40e72a5c47ccb9797444c749d9a8": {
          "model_module": "@jupyter-widgets/base",
          "model_module_version": "1.2.0",
          "model_name": "LayoutModel",
          "state": {
            "_model_module": "@jupyter-widgets/base",
            "_model_module_version": "1.2.0",
            "_model_name": "LayoutModel",
            "_view_count": null,
            "_view_module": "@jupyter-widgets/base",
            "_view_module_version": "1.2.0",
            "_view_name": "LayoutView",
            "align_content": null,
            "align_items": null,
            "align_self": null,
            "border": null,
            "bottom": null,
            "display": null,
            "flex": null,
            "flex_flow": null,
            "grid_area": null,
            "grid_auto_columns": null,
            "grid_auto_flow": null,
            "grid_auto_rows": null,
            "grid_column": null,
            "grid_gap": null,
            "grid_row": null,
            "grid_template_areas": null,
            "grid_template_columns": null,
            "grid_template_rows": null,
            "height": null,
            "justify_content": null,
            "justify_items": null,
            "left": null,
            "margin": null,
            "max_height": null,
            "max_width": null,
            "min_height": null,
            "min_width": null,
            "object_fit": null,
            "object_position": null,
            "order": null,
            "overflow": null,
            "overflow_x": null,
            "overflow_y": null,
            "padding": null,
            "right": null,
            "top": null,
            "visibility": null,
            "width": null
          }
        },
        "1627566b0c044f7881af3bf07de7d8c8": {
          "model_module": "@jupyter-widgets/controls",
          "model_module_version": "1.5.0",
          "model_name": "HTMLModel",
          "state": {
            "_dom_classes": [],
            "_model_module": "@jupyter-widgets/controls",
            "_model_module_version": "1.5.0",
            "_model_name": "HTMLModel",
            "_view_count": null,
            "_view_module": "@jupyter-widgets/controls",
            "_view_module_version": "1.5.0",
            "_view_name": "HTMLView",
            "description": "",
            "description_tooltip": null,
            "layout": "IPY_MODEL_85dce9587d424881b62692c7052fae5a",
            "placeholder": "​",
            "style": "IPY_MODEL_a87c0c879770468dad45dd6d46e43f17",
            "value": "Map: 100%"
          }
        },
        "17a21d1ae0da426c89373cf65e861062": {
          "model_module": "@jupyter-widgets/controls",
          "model_module_version": "1.5.0",
          "model_name": "ProgressStyleModel",
          "state": {
            "_model_module": "@jupyter-widgets/controls",
            "_model_module_version": "1.5.0",
            "_model_name": "ProgressStyleModel",
            "_view_count": null,
            "_view_module": "@jupyter-widgets/base",
            "_view_module_version": "1.2.0",
            "_view_name": "StyleView",
            "bar_color": null,
            "description_width": ""
          }
        },
        "1cd9e346bcc148a3832e29846a3a97b7": {
          "model_module": "@jupyter-widgets/controls",
          "model_module_version": "1.5.0",
          "model_name": "HTMLModel",
          "state": {
            "_dom_classes": [],
            "_model_module": "@jupyter-widgets/controls",
            "_model_module_version": "1.5.0",
            "_model_name": "HTMLModel",
            "_view_count": null,
            "_view_module": "@jupyter-widgets/controls",
            "_view_module_version": "1.5.0",
            "_view_name": "HTMLView",
            "description": "",
            "description_tooltip": null,
            "layout": "IPY_MODEL_27dda57267df4547a70ecd9b144d1f0f",
            "placeholder": "​",
            "style": "IPY_MODEL_2f0ed0ef9a6a46ad88eca969e3e20cd0",
            "value": " 5.18k/5.18k [00:00&lt;00:00, 319kB/s]"
          }
        },
        "1d0056725b0148eb96f8fe7433564e7e": {
          "model_module": "@jupyter-widgets/base",
          "model_module_version": "1.2.0",
          "model_name": "LayoutModel",
          "state": {
            "_model_module": "@jupyter-widgets/base",
            "_model_module_version": "1.2.0",
            "_model_name": "LayoutModel",
            "_view_count": null,
            "_view_module": "@jupyter-widgets/base",
            "_view_module_version": "1.2.0",
            "_view_name": "LayoutView",
            "align_content": null,
            "align_items": null,
            "align_self": null,
            "border": null,
            "bottom": null,
            "display": null,
            "flex": null,
            "flex_flow": null,
            "grid_area": null,
            "grid_auto_columns": null,
            "grid_auto_flow": null,
            "grid_auto_rows": null,
            "grid_column": null,
            "grid_gap": null,
            "grid_row": null,
            "grid_template_areas": null,
            "grid_template_columns": null,
            "grid_template_rows": null,
            "height": null,
            "justify_content": null,
            "justify_items": null,
            "left": null,
            "margin": null,
            "max_height": null,
            "max_width": null,
            "min_height": null,
            "min_width": null,
            "object_fit": null,
            "object_position": null,
            "order": null,
            "overflow": null,
            "overflow_x": null,
            "overflow_y": null,
            "padding": null,
            "right": null,
            "top": null,
            "visibility": null,
            "width": null
          }
        },
        "27dda57267df4547a70ecd9b144d1f0f": {
          "model_module": "@jupyter-widgets/base",
          "model_module_version": "1.2.0",
          "model_name": "LayoutModel",
          "state": {
            "_model_module": "@jupyter-widgets/base",
            "_model_module_version": "1.2.0",
            "_model_name": "LayoutModel",
            "_view_count": null,
            "_view_module": "@jupyter-widgets/base",
            "_view_module_version": "1.2.0",
            "_view_name": "LayoutView",
            "align_content": null,
            "align_items": null,
            "align_self": null,
            "border": null,
            "bottom": null,
            "display": null,
            "flex": null,
            "flex_flow": null,
            "grid_area": null,
            "grid_auto_columns": null,
            "grid_auto_flow": null,
            "grid_auto_rows": null,
            "grid_column": null,
            "grid_gap": null,
            "grid_row": null,
            "grid_template_areas": null,
            "grid_template_columns": null,
            "grid_template_rows": null,
            "height": null,
            "justify_content": null,
            "justify_items": null,
            "left": null,
            "margin": null,
            "max_height": null,
            "max_width": null,
            "min_height": null,
            "min_width": null,
            "object_fit": null,
            "object_position": null,
            "order": null,
            "overflow": null,
            "overflow_x": null,
            "overflow_y": null,
            "padding": null,
            "right": null,
            "top": null,
            "visibility": null,
            "width": null
          }
        },
        "28c6f1682e604d178bdbd3e1fe1f8643": {
          "model_module": "@jupyter-widgets/controls",
          "model_module_version": "1.5.0",
          "model_name": "FloatProgressModel",
          "state": {
            "_dom_classes": [],
            "_model_module": "@jupyter-widgets/controls",
            "_model_module_version": "1.5.0",
            "_model_name": "FloatProgressModel",
            "_view_count": null,
            "_view_module": "@jupyter-widgets/controls",
            "_view_module_version": "1.5.0",
            "_view_name": "ProgressView",
            "bar_style": "success",
            "description": "",
            "description_tooltip": null,
            "layout": "IPY_MODEL_794c5a2fa85b4051a4f43b40d0534f93",
            "max": 4,
            "min": 0,
            "orientation": "horizontal",
            "style": "IPY_MODEL_17a21d1ae0da426c89373cf65e861062",
            "value": 4
          }
        },
        "2ca58eb9f7e6452ba45ab002c4828e3c": {
          "model_module": "@jupyter-widgets/controls",
          "model_module_version": "1.5.0",
          "model_name": "DescriptionStyleModel",
          "state": {
            "_model_module": "@jupyter-widgets/controls",
            "_model_module_version": "1.5.0",
            "_model_name": "DescriptionStyleModel",
            "_view_count": null,
            "_view_module": "@jupyter-widgets/base",
            "_view_module_version": "1.2.0",
            "_view_name": "StyleView",
            "description_width": ""
          }
        },
        "2d9078bd54e144e38ca8fe8223d8660c": {
          "model_module": "@jupyter-widgets/base",
          "model_module_version": "1.2.0",
          "model_name": "LayoutModel",
          "state": {
            "_model_module": "@jupyter-widgets/base",
            "_model_module_version": "1.2.0",
            "_model_name": "LayoutModel",
            "_view_count": null,
            "_view_module": "@jupyter-widgets/base",
            "_view_module_version": "1.2.0",
            "_view_name": "LayoutView",
            "align_content": null,
            "align_items": null,
            "align_self": null,
            "border": null,
            "bottom": null,
            "display": null,
            "flex": null,
            "flex_flow": null,
            "grid_area": null,
            "grid_auto_columns": null,
            "grid_auto_flow": null,
            "grid_auto_rows": null,
            "grid_column": null,
            "grid_gap": null,
            "grid_row": null,
            "grid_template_areas": null,
            "grid_template_columns": null,
            "grid_template_rows": null,
            "height": null,
            "justify_content": null,
            "justify_items": null,
            "left": null,
            "margin": null,
            "max_height": null,
            "max_width": null,
            "min_height": null,
            "min_width": null,
            "object_fit": null,
            "object_position": null,
            "order": null,
            "overflow": null,
            "overflow_x": null,
            "overflow_y": null,
            "padding": null,
            "right": null,
            "top": null,
            "visibility": null,
            "width": null
          }
        },
        "2f0ed0ef9a6a46ad88eca969e3e20cd0": {
          "model_module": "@jupyter-widgets/controls",
          "model_module_version": "1.5.0",
          "model_name": "DescriptionStyleModel",
          "state": {
            "_model_module": "@jupyter-widgets/controls",
            "_model_module_version": "1.5.0",
            "_model_name": "DescriptionStyleModel",
            "_view_count": null,
            "_view_module": "@jupyter-widgets/base",
            "_view_module_version": "1.2.0",
            "_view_name": "StyleView",
            "description_width": ""
          }
        },
        "395a7ef5d2904eae84fa98e566082e63": {
          "model_module": "@jupyter-widgets/base",
          "model_module_version": "1.2.0",
          "model_name": "LayoutModel",
          "state": {
            "_model_module": "@jupyter-widgets/base",
            "_model_module_version": "1.2.0",
            "_model_name": "LayoutModel",
            "_view_count": null,
            "_view_module": "@jupyter-widgets/base",
            "_view_module_version": "1.2.0",
            "_view_name": "LayoutView",
            "align_content": null,
            "align_items": null,
            "align_self": null,
            "border": null,
            "bottom": null,
            "display": null,
            "flex": null,
            "flex_flow": null,
            "grid_area": null,
            "grid_auto_columns": null,
            "grid_auto_flow": null,
            "grid_auto_rows": null,
            "grid_column": null,
            "grid_gap": null,
            "grid_row": null,
            "grid_template_areas": null,
            "grid_template_columns": null,
            "grid_template_rows": null,
            "height": null,
            "justify_content": null,
            "justify_items": null,
            "left": null,
            "margin": null,
            "max_height": null,
            "max_width": null,
            "min_height": null,
            "min_width": null,
            "object_fit": null,
            "object_position": null,
            "order": null,
            "overflow": null,
            "overflow_x": null,
            "overflow_y": null,
            "padding": null,
            "right": null,
            "top": null,
            "visibility": null,
            "width": null
          }
        },
        "3999da3faca54c3d9f601a09d0f9b689": {
          "model_module": "@jupyter-widgets/base",
          "model_module_version": "1.2.0",
          "model_name": "LayoutModel",
          "state": {
            "_model_module": "@jupyter-widgets/base",
            "_model_module_version": "1.2.0",
            "_model_name": "LayoutModel",
            "_view_count": null,
            "_view_module": "@jupyter-widgets/base",
            "_view_module_version": "1.2.0",
            "_view_name": "LayoutView",
            "align_content": null,
            "align_items": null,
            "align_self": null,
            "border": null,
            "bottom": null,
            "display": null,
            "flex": null,
            "flex_flow": null,
            "grid_area": null,
            "grid_auto_columns": null,
            "grid_auto_flow": null,
            "grid_auto_rows": null,
            "grid_column": null,
            "grid_gap": null,
            "grid_row": null,
            "grid_template_areas": null,
            "grid_template_columns": null,
            "grid_template_rows": null,
            "height": null,
            "justify_content": null,
            "justify_items": null,
            "left": null,
            "margin": null,
            "max_height": null,
            "max_width": null,
            "min_height": null,
            "min_width": null,
            "object_fit": null,
            "object_position": null,
            "order": null,
            "overflow": null,
            "overflow_x": null,
            "overflow_y": null,
            "padding": null,
            "right": null,
            "top": null,
            "visibility": null,
            "width": null
          }
        },
        "39b1fafbfa9b46f7a883b51d18155eec": {
          "model_module": "@jupyter-widgets/base",
          "model_module_version": "1.2.0",
          "model_name": "LayoutModel",
          "state": {
            "_model_module": "@jupyter-widgets/base",
            "_model_module_version": "1.2.0",
            "_model_name": "LayoutModel",
            "_view_count": null,
            "_view_module": "@jupyter-widgets/base",
            "_view_module_version": "1.2.0",
            "_view_name": "LayoutView",
            "align_content": null,
            "align_items": null,
            "align_self": null,
            "border": null,
            "bottom": null,
            "display": null,
            "flex": null,
            "flex_flow": null,
            "grid_area": null,
            "grid_auto_columns": null,
            "grid_auto_flow": null,
            "grid_auto_rows": null,
            "grid_column": null,
            "grid_gap": null,
            "grid_row": null,
            "grid_template_areas": null,
            "grid_template_columns": null,
            "grid_template_rows": null,
            "height": null,
            "justify_content": null,
            "justify_items": null,
            "left": null,
            "margin": null,
            "max_height": null,
            "max_width": null,
            "min_height": null,
            "min_width": null,
            "object_fit": null,
            "object_position": null,
            "order": null,
            "overflow": null,
            "overflow_x": null,
            "overflow_y": null,
            "padding": null,
            "right": null,
            "top": null,
            "visibility": null,
            "width": null
          }
        },
        "3ce1b1c3ca47442fadea5161f3d6b245": {
          "model_module": "@jupyter-widgets/controls",
          "model_module_version": "1.5.0",
          "model_name": "FloatProgressModel",
          "state": {
            "_dom_classes": [],
            "_model_module": "@jupyter-widgets/controls",
            "_model_module_version": "1.5.0",
            "_model_name": "FloatProgressModel",
            "_view_count": null,
            "_view_module": "@jupyter-widgets/controls",
            "_view_module_version": "1.5.0",
            "_view_name": "ProgressView",
            "bar_style": "success",
            "description": "",
            "description_tooltip": null,
            "layout": "IPY_MODEL_05a7ae42e6c441e2b651b9fd25d52ca1",
            "max": 268,
            "min": 0,
            "orientation": "horizontal",
            "style": "IPY_MODEL_cf3dfff126494172bb8d546767413b73",
            "value": 268
          }
        },
        "3d39d54c2a414ddeb9ac9e65b1b87fd6": {
          "model_module": "@jupyter-widgets/controls",
          "model_module_version": "1.5.0",
          "model_name": "HTMLModel",
          "state": {
            "_dom_classes": [],
            "_model_module": "@jupyter-widgets/controls",
            "_model_module_version": "1.5.0",
            "_model_name": "HTMLModel",
            "_view_count": null,
            "_view_module": "@jupyter-widgets/controls",
            "_view_module_version": "1.5.0",
            "_view_name": "HTMLView",
            "description": "",
            "description_tooltip": null,
            "layout": "IPY_MODEL_c4395a2e7d1e4a4086a41f381dd6af47",
            "placeholder": "​",
            "style": "IPY_MODEL_59869365df614fa280154e8aa29089ef",
            "value": "Map: 100%"
          }
        },
        "3f95a30d82a843eb95b43ed67dabb455": {
          "model_module": "@jupyter-widgets/controls",
          "model_module_version": "1.5.0",
          "model_name": "DescriptionStyleModel",
          "state": {
            "_model_module": "@jupyter-widgets/controls",
            "_model_module_version": "1.5.0",
            "_model_name": "DescriptionStyleModel",
            "_view_count": null,
            "_view_module": "@jupyter-widgets/base",
            "_view_module_version": "1.2.0",
            "_view_name": "StyleView",
            "description_width": ""
          }
        },
        "4282b7acfb0240e78cfdb354871cc7d9": {
          "model_module": "@jupyter-widgets/controls",
          "model_module_version": "1.5.0",
          "model_name": "ProgressStyleModel",
          "state": {
            "_model_module": "@jupyter-widgets/controls",
            "_model_module_version": "1.5.0",
            "_model_name": "ProgressStyleModel",
            "_view_count": null,
            "_view_module": "@jupyter-widgets/base",
            "_view_module_version": "1.2.0",
            "_view_name": "StyleView",
            "bar_color": null,
            "description_width": ""
          }
        },
        "43cb08f11a2543638454938f4a7c324b": {
          "model_module": "@jupyter-widgets/controls",
          "model_module_version": "1.5.0",
          "model_name": "ProgressStyleModel",
          "state": {
            "_model_module": "@jupyter-widgets/controls",
            "_model_module_version": "1.5.0",
            "_model_name": "ProgressStyleModel",
            "_view_count": null,
            "_view_module": "@jupyter-widgets/base",
            "_view_module_version": "1.2.0",
            "_view_name": "StyleView",
            "bar_color": null,
            "description_width": ""
          }
        },
        "45f444fab1d24e23a53a7e8bd9b7bbe9": {
          "model_module": "@jupyter-widgets/controls",
          "model_module_version": "1.5.0",
          "model_name": "HBoxModel",
          "state": {
            "_dom_classes": [],
            "_model_module": "@jupyter-widgets/controls",
            "_model_module_version": "1.5.0",
            "_model_name": "HBoxModel",
            "_view_count": null,
            "_view_module": "@jupyter-widgets/controls",
            "_view_module_version": "1.5.0",
            "_view_name": "HBoxView",
            "box_style": "",
            "children": [
              "IPY_MODEL_bf7cc9850187412ba81c326134a820d3",
              "IPY_MODEL_7f523fd8047142be95e40e650932e237",
              "IPY_MODEL_616b04ae16764225b138aa5a268bf977"
            ],
            "layout": "IPY_MODEL_8de9ce8a6a51498f9d83b1084dd031cd"
          }
        },
        "477075e19eba43559733e6bc49b7132f": {
          "model_module": "@jupyter-widgets/controls",
          "model_module_version": "1.5.0",
          "model_name": "HTMLModel",
          "state": {
            "_dom_classes": [],
            "_model_module": "@jupyter-widgets/controls",
            "_model_module_version": "1.5.0",
            "_model_name": "HTMLModel",
            "_view_count": null,
            "_view_module": "@jupyter-widgets/controls",
            "_view_module_version": "1.5.0",
            "_view_name": "HTMLView",
            "description": "",
            "description_tooltip": null,
            "layout": "IPY_MODEL_afa9360ab8f341caa8d1f3b94553d031",
            "placeholder": "​",
            "style": "IPY_MODEL_f084954060f04d0293c1cdf5c0f87a12",
            "value": " 1.26G/1.26G [01:16&lt;00:00, 30.4MB/s]"
          }
        },
        "49bab0b8f2d042e5977dce2e8802802e": {
          "model_module": "@jupyter-widgets/controls",
          "model_module_version": "1.5.0",
          "model_name": "HTMLModel",
          "state": {
            "_dom_classes": [],
            "_model_module": "@jupyter-widgets/controls",
            "_model_module_version": "1.5.0",
            "_model_name": "HTMLModel",
            "_view_count": null,
            "_view_module": "@jupyter-widgets/controls",
            "_view_module_version": "1.5.0",
            "_view_name": "HTMLView",
            "description": "",
            "description_tooltip": null,
            "layout": "IPY_MODEL_58ec1fb34fcd476f9b323966cefedbf7",
            "placeholder": "​",
            "style": "IPY_MODEL_2ca58eb9f7e6452ba45ab002c4828e3c",
            "value": "model.safetensors: 100%"
          }
        },
        "4cf32ab919bd4a7dbe4df88fb3f8e048": {
          "model_module": "@jupyter-widgets/base",
          "model_module_version": "1.2.0",
          "model_name": "LayoutModel",
          "state": {
            "_model_module": "@jupyter-widgets/base",
            "_model_module_version": "1.2.0",
            "_model_name": "LayoutModel",
            "_view_count": null,
            "_view_module": "@jupyter-widgets/base",
            "_view_module_version": "1.2.0",
            "_view_name": "LayoutView",
            "align_content": null,
            "align_items": null,
            "align_self": null,
            "border": null,
            "bottom": null,
            "display": null,
            "flex": null,
            "flex_flow": null,
            "grid_area": null,
            "grid_auto_columns": null,
            "grid_auto_flow": null,
            "grid_auto_rows": null,
            "grid_column": null,
            "grid_gap": null,
            "grid_row": null,
            "grid_template_areas": null,
            "grid_template_columns": null,
            "grid_template_rows": null,
            "height": null,
            "justify_content": null,
            "justify_items": null,
            "left": null,
            "margin": null,
            "max_height": null,
            "max_width": null,
            "min_height": null,
            "min_width": null,
            "object_fit": null,
            "object_position": null,
            "order": null,
            "overflow": null,
            "overflow_x": null,
            "overflow_y": null,
            "padding": null,
            "right": null,
            "top": null,
            "visibility": null,
            "width": null
          }
        },
        "4ebe7c3e3bc94b09878a642a729bbfc0": {
          "model_module": "@jupyter-widgets/base",
          "model_module_version": "1.2.0",
          "model_name": "LayoutModel",
          "state": {
            "_model_module": "@jupyter-widgets/base",
            "_model_module_version": "1.2.0",
            "_model_name": "LayoutModel",
            "_view_count": null,
            "_view_module": "@jupyter-widgets/base",
            "_view_module_version": "1.2.0",
            "_view_name": "LayoutView",
            "align_content": null,
            "align_items": null,
            "align_self": null,
            "border": null,
            "bottom": null,
            "display": null,
            "flex": null,
            "flex_flow": null,
            "grid_area": null,
            "grid_auto_columns": null,
            "grid_auto_flow": null,
            "grid_auto_rows": null,
            "grid_column": null,
            "grid_gap": null,
            "grid_row": null,
            "grid_template_areas": null,
            "grid_template_columns": null,
            "grid_template_rows": null,
            "height": null,
            "justify_content": null,
            "justify_items": null,
            "left": null,
            "margin": null,
            "max_height": null,
            "max_width": null,
            "min_height": null,
            "min_width": null,
            "object_fit": null,
            "object_position": null,
            "order": null,
            "overflow": null,
            "overflow_x": null,
            "overflow_y": null,
            "padding": null,
            "right": null,
            "top": null,
            "visibility": null,
            "width": null
          }
        },
        "525f99fee30743b99734ccad64ac73d6": {
          "model_module": "@jupyter-widgets/controls",
          "model_module_version": "1.5.0",
          "model_name": "HTMLModel",
          "state": {
            "_dom_classes": [],
            "_model_module": "@jupyter-widgets/controls",
            "_model_module_version": "1.5.0",
            "_model_name": "HTMLModel",
            "_view_count": null,
            "_view_module": "@jupyter-widgets/controls",
            "_view_module_version": "1.5.0",
            "_view_name": "HTMLView",
            "description": "",
            "description_tooltip": null,
            "layout": "IPY_MODEL_84b4c3aa1f754572968275b08c7d66ad",
            "placeholder": "​",
            "style": "IPY_MODEL_67fdd8af31a0456e94498c684764acc2",
            "value": "Map: 100%"
          }
        },
        "58ec1fb34fcd476f9b323966cefedbf7": {
          "model_module": "@jupyter-widgets/base",
          "model_module_version": "1.2.0",
          "model_name": "LayoutModel",
          "state": {
            "_model_module": "@jupyter-widgets/base",
            "_model_module_version": "1.2.0",
            "_model_name": "LayoutModel",
            "_view_count": null,
            "_view_module": "@jupyter-widgets/base",
            "_view_module_version": "1.2.0",
            "_view_name": "LayoutView",
            "align_content": null,
            "align_items": null,
            "align_self": null,
            "border": null,
            "bottom": null,
            "display": null,
            "flex": null,
            "flex_flow": null,
            "grid_area": null,
            "grid_auto_columns": null,
            "grid_auto_flow": null,
            "grid_auto_rows": null,
            "grid_column": null,
            "grid_gap": null,
            "grid_row": null,
            "grid_template_areas": null,
            "grid_template_columns": null,
            "grid_template_rows": null,
            "height": null,
            "justify_content": null,
            "justify_items": null,
            "left": null,
            "margin": null,
            "max_height": null,
            "max_width": null,
            "min_height": null,
            "min_width": null,
            "object_fit": null,
            "object_position": null,
            "order": null,
            "overflow": null,
            "overflow_x": null,
            "overflow_y": null,
            "padding": null,
            "right": null,
            "top": null,
            "visibility": null,
            "width": null
          }
        },
        "59869365df614fa280154e8aa29089ef": {
          "model_module": "@jupyter-widgets/controls",
          "model_module_version": "1.5.0",
          "model_name": "DescriptionStyleModel",
          "state": {
            "_model_module": "@jupyter-widgets/controls",
            "_model_module_version": "1.5.0",
            "_model_name": "DescriptionStyleModel",
            "_view_count": null,
            "_view_module": "@jupyter-widgets/base",
            "_view_module_version": "1.2.0",
            "_view_name": "StyleView",
            "description_width": ""
          }
        },
        "5a96ec1c20a94b08b846cff4df965090": {
          "model_module": "@jupyter-widgets/controls",
          "model_module_version": "1.5.0",
          "model_name": "ProgressStyleModel",
          "state": {
            "_model_module": "@jupyter-widgets/controls",
            "_model_module_version": "1.5.0",
            "_model_name": "ProgressStyleModel",
            "_view_count": null,
            "_view_module": "@jupyter-widgets/base",
            "_view_module_version": "1.2.0",
            "_view_name": "StyleView",
            "bar_color": null,
            "description_width": ""
          }
        },
        "5b69d5e5b2874927b6f4b6c4ab8bd014": {
          "model_module": "@jupyter-widgets/base",
          "model_module_version": "1.2.0",
          "model_name": "LayoutModel",
          "state": {
            "_model_module": "@jupyter-widgets/base",
            "_model_module_version": "1.2.0",
            "_model_name": "LayoutModel",
            "_view_count": null,
            "_view_module": "@jupyter-widgets/base",
            "_view_module_version": "1.2.0",
            "_view_name": "LayoutView",
            "align_content": null,
            "align_items": null,
            "align_self": null,
            "border": null,
            "bottom": null,
            "display": null,
            "flex": null,
            "flex_flow": null,
            "grid_area": null,
            "grid_auto_columns": null,
            "grid_auto_flow": null,
            "grid_auto_rows": null,
            "grid_column": null,
            "grid_gap": null,
            "grid_row": null,
            "grid_template_areas": null,
            "grid_template_columns": null,
            "grid_template_rows": null,
            "height": null,
            "justify_content": null,
            "justify_items": null,
            "left": null,
            "margin": null,
            "max_height": null,
            "max_width": null,
            "min_height": null,
            "min_width": null,
            "object_fit": null,
            "object_position": null,
            "order": null,
            "overflow": null,
            "overflow_x": null,
            "overflow_y": null,
            "padding": null,
            "right": null,
            "top": null,
            "visibility": null,
            "width": null
          }
        },
        "616b04ae16764225b138aa5a268bf977": {
          "model_module": "@jupyter-widgets/controls",
          "model_module_version": "1.5.0",
          "model_name": "HTMLModel",
          "state": {
            "_dom_classes": [],
            "_model_module": "@jupyter-widgets/controls",
            "_model_module_version": "1.5.0",
            "_model_name": "HTMLModel",
            "_view_count": null,
            "_view_module": "@jupyter-widgets/controls",
            "_view_module_version": "1.5.0",
            "_view_name": "HTMLView",
            "description": "",
            "description_tooltip": null,
            "layout": "IPY_MODEL_3999da3faca54c3d9f601a09d0f9b689",
            "placeholder": "​",
            "style": "IPY_MODEL_3f95a30d82a843eb95b43ed67dabb455",
            "value": " 359/359 [00:00&lt;00:00, 7301.37 examples/s]"
          }
        },
        "67fdd8af31a0456e94498c684764acc2": {
          "model_module": "@jupyter-widgets/controls",
          "model_module_version": "1.5.0",
          "model_name": "DescriptionStyleModel",
          "state": {
            "_model_module": "@jupyter-widgets/controls",
            "_model_module_version": "1.5.0",
            "_model_name": "DescriptionStyleModel",
            "_view_count": null,
            "_view_module": "@jupyter-widgets/base",
            "_view_module_version": "1.2.0",
            "_view_name": "StyleView",
            "description_width": ""
          }
        },
        "6bbcc9be54794a0eae0d403064cd65fa": {
          "model_module": "@jupyter-widgets/base",
          "model_module_version": "1.2.0",
          "model_name": "LayoutModel",
          "state": {
            "_model_module": "@jupyter-widgets/base",
            "_model_module_version": "1.2.0",
            "_model_name": "LayoutModel",
            "_view_count": null,
            "_view_module": "@jupyter-widgets/base",
            "_view_module_version": "1.2.0",
            "_view_name": "LayoutView",
            "align_content": null,
            "align_items": null,
            "align_self": null,
            "border": null,
            "bottom": null,
            "display": null,
            "flex": null,
            "flex_flow": null,
            "grid_area": null,
            "grid_auto_columns": null,
            "grid_auto_flow": null,
            "grid_auto_rows": null,
            "grid_column": null,
            "grid_gap": null,
            "grid_row": null,
            "grid_template_areas": null,
            "grid_template_columns": null,
            "grid_template_rows": null,
            "height": null,
            "justify_content": null,
            "justify_items": null,
            "left": null,
            "margin": null,
            "max_height": null,
            "max_width": null,
            "min_height": null,
            "min_width": null,
            "object_fit": null,
            "object_position": null,
            "order": null,
            "overflow": null,
            "overflow_x": null,
            "overflow_y": null,
            "padding": null,
            "right": null,
            "top": null,
            "visibility": null,
            "width": null
          }
        },
        "769eded7134447bd9e24d16b7f9f0df5": {
          "model_module": "@jupyter-widgets/controls",
          "model_module_version": "1.5.0",
          "model_name": "FloatProgressModel",
          "state": {
            "_dom_classes": [],
            "_model_module": "@jupyter-widgets/controls",
            "_model_module_version": "1.5.0",
            "_model_name": "FloatProgressModel",
            "_view_count": null,
            "_view_module": "@jupyter-widgets/controls",
            "_view_module_version": "1.5.0",
            "_view_name": "ProgressView",
            "bar_style": "success",
            "description": "",
            "description_tooltip": null,
            "layout": "IPY_MODEL_ff31d449748048708a4924753eba32de",
            "max": 359,
            "min": 0,
            "orientation": "horizontal",
            "style": "IPY_MODEL_f7cc4543f98646a6bfa962e90d2b6bbf",
            "value": 359
          }
        },
        "76aa8ccdcd284278b5d9489bc0b85854": {
          "model_module": "@jupyter-widgets/controls",
          "model_module_version": "1.5.0",
          "model_name": "DescriptionStyleModel",
          "state": {
            "_model_module": "@jupyter-widgets/controls",
            "_model_module_version": "1.5.0",
            "_model_name": "DescriptionStyleModel",
            "_view_count": null,
            "_view_module": "@jupyter-widgets/base",
            "_view_module_version": "1.2.0",
            "_view_name": "StyleView",
            "description_width": ""
          }
        },
        "794c5a2fa85b4051a4f43b40d0534f93": {
          "model_module": "@jupyter-widgets/base",
          "model_module_version": "1.2.0",
          "model_name": "LayoutModel",
          "state": {
            "_model_module": "@jupyter-widgets/base",
            "_model_module_version": "1.2.0",
            "_model_name": "LayoutModel",
            "_view_count": null,
            "_view_module": "@jupyter-widgets/base",
            "_view_module_version": "1.2.0",
            "_view_name": "LayoutView",
            "align_content": null,
            "align_items": null,
            "align_self": null,
            "border": null,
            "bottom": null,
            "display": null,
            "flex": null,
            "flex_flow": null,
            "grid_area": null,
            "grid_auto_columns": null,
            "grid_auto_flow": null,
            "grid_auto_rows": null,
            "grid_column": null,
            "grid_gap": null,
            "grid_row": null,
            "grid_template_areas": null,
            "grid_template_columns": null,
            "grid_template_rows": null,
            "height": null,
            "justify_content": null,
            "justify_items": null,
            "left": null,
            "margin": null,
            "max_height": null,
            "max_width": null,
            "min_height": null,
            "min_width": null,
            "object_fit": null,
            "object_position": null,
            "order": null,
            "overflow": null,
            "overflow_x": null,
            "overflow_y": null,
            "padding": null,
            "right": null,
            "top": null,
            "visibility": null,
            "width": null
          }
        },
        "7b9d49afdc274700bde6f7774b4c2652": {
          "model_module": "@jupyter-widgets/controls",
          "model_module_version": "1.5.0",
          "model_name": "FloatProgressModel",
          "state": {
            "_dom_classes": [],
            "_model_module": "@jupyter-widgets/controls",
            "_model_module_version": "1.5.0",
            "_model_name": "FloatProgressModel",
            "_view_count": null,
            "_view_module": "@jupyter-widgets/controls",
            "_view_module_version": "1.5.0",
            "_view_name": "ProgressView",
            "bar_style": "success",
            "description": "",
            "description_tooltip": null,
            "layout": "IPY_MODEL_ee9ab2d49814443689ba7ca6d74b429d",
            "max": 1261963280,
            "min": 0,
            "orientation": "horizontal",
            "style": "IPY_MODEL_a6208c96ae1d45ea82a2729842502a07",
            "value": 1261963280
          }
        },
        "7bd8b24823774facaf9876129dec8a3f": {
          "model_module": "@jupyter-widgets/controls",
          "model_module_version": "1.5.0",
          "model_name": "HTMLModel",
          "state": {
            "_dom_classes": [],
            "_model_module": "@jupyter-widgets/controls",
            "_model_module_version": "1.5.0",
            "_model_name": "HTMLModel",
            "_view_count": null,
            "_view_module": "@jupyter-widgets/controls",
            "_view_module_version": "1.5.0",
            "_view_name": "HTMLView",
            "description": "",
            "description_tooltip": null,
            "layout": "IPY_MODEL_4cf32ab919bd4a7dbe4df88fb3f8e048",
            "placeholder": "​",
            "style": "IPY_MODEL_bbf96dbcfc6541e199cd44e5f79c23df",
            "value": " 359/359 [01:07&lt;00:00,  5.79 examples/s]"
          }
        },
        "7f523fd8047142be95e40e650932e237": {
          "model_module": "@jupyter-widgets/controls",
          "model_module_version": "1.5.0",
          "model_name": "FloatProgressModel",
          "state": {
            "_dom_classes": [],
            "_model_module": "@jupyter-widgets/controls",
            "_model_module_version": "1.5.0",
            "_model_name": "FloatProgressModel",
            "_view_count": null,
            "_view_module": "@jupyter-widgets/controls",
            "_view_module_version": "1.5.0",
            "_view_name": "ProgressView",
            "bar_style": "success",
            "description": "",
            "description_tooltip": null,
            "layout": "IPY_MODEL_c46fbb57f0784ef3bbce4449f627f51a",
            "max": 359,
            "min": 0,
            "orientation": "horizontal",
            "style": "IPY_MODEL_ed370d9354a04ae2ab0aa58402abbfb8",
            "value": 359
          }
        },
        "83ad9e3b333246ed9e5170be56093060": {
          "model_module": "@jupyter-widgets/controls",
          "model_module_version": "1.5.0",
          "model_name": "FloatProgressModel",
          "state": {
            "_dom_classes": [],
            "_model_module": "@jupyter-widgets/controls",
            "_model_module_version": "1.5.0",
            "_model_name": "FloatProgressModel",
            "_view_count": null,
            "_view_module": "@jupyter-widgets/controls",
            "_view_module_version": "1.5.0",
            "_view_name": "ProgressView",
            "bar_style": "success",
            "description": "",
            "description_tooltip": null,
            "layout": "IPY_MODEL_070240e5094246a4b6ac13d74cd60022",
            "max": 5178,
            "min": 0,
            "orientation": "horizontal",
            "style": "IPY_MODEL_43cb08f11a2543638454938f4a7c324b",
            "value": 5178
          }
        },
        "84b4c3aa1f754572968275b08c7d66ad": {
          "model_module": "@jupyter-widgets/base",
          "model_module_version": "1.2.0",
          "model_name": "LayoutModel",
          "state": {
            "_model_module": "@jupyter-widgets/base",
            "_model_module_version": "1.2.0",
            "_model_name": "LayoutModel",
            "_view_count": null,
            "_view_module": "@jupyter-widgets/base",
            "_view_module_version": "1.2.0",
            "_view_name": "LayoutView",
            "align_content": null,
            "align_items": null,
            "align_self": null,
            "border": null,
            "bottom": null,
            "display": null,
            "flex": null,
            "flex_flow": null,
            "grid_area": null,
            "grid_auto_columns": null,
            "grid_auto_flow": null,
            "grid_auto_rows": null,
            "grid_column": null,
            "grid_gap": null,
            "grid_row": null,
            "grid_template_areas": null,
            "grid_template_columns": null,
            "grid_template_rows": null,
            "height": null,
            "justify_content": null,
            "justify_items": null,
            "left": null,
            "margin": null,
            "max_height": null,
            "max_width": null,
            "min_height": null,
            "min_width": null,
            "object_fit": null,
            "object_position": null,
            "order": null,
            "overflow": null,
            "overflow_x": null,
            "overflow_y": null,
            "padding": null,
            "right": null,
            "top": null,
            "visibility": null,
            "width": null
          }
        },
        "856fe7fca06a43bb8adf2b4596ffce8d": {
          "model_module": "@jupyter-widgets/controls",
          "model_module_version": "1.5.0",
          "model_name": "HTMLModel",
          "state": {
            "_dom_classes": [],
            "_model_module": "@jupyter-widgets/controls",
            "_model_module_version": "1.5.0",
            "_model_name": "HTMLModel",
            "_view_count": null,
            "_view_module": "@jupyter-widgets/controls",
            "_view_module_version": "1.5.0",
            "_view_name": "HTMLView",
            "description": "",
            "description_tooltip": null,
            "layout": "IPY_MODEL_1d0056725b0148eb96f8fe7433564e7e",
            "placeholder": "​",
            "style": "IPY_MODEL_e149d22e173e432389b137f1784ab99e",
            "value": " 4/4 [00:00&lt;00:00, 135.37 examples/s]"
          }
        },
        "85dce9587d424881b62692c7052fae5a": {
          "model_module": "@jupyter-widgets/base",
          "model_module_version": "1.2.0",
          "model_name": "LayoutModel",
          "state": {
            "_model_module": "@jupyter-widgets/base",
            "_model_module_version": "1.2.0",
            "_model_name": "LayoutModel",
            "_view_count": null,
            "_view_module": "@jupyter-widgets/base",
            "_view_module_version": "1.2.0",
            "_view_name": "LayoutView",
            "align_content": null,
            "align_items": null,
            "align_self": null,
            "border": null,
            "bottom": null,
            "display": null,
            "flex": null,
            "flex_flow": null,
            "grid_area": null,
            "grid_auto_columns": null,
            "grid_auto_flow": null,
            "grid_auto_rows": null,
            "grid_column": null,
            "grid_gap": null,
            "grid_row": null,
            "grid_template_areas": null,
            "grid_template_columns": null,
            "grid_template_rows": null,
            "height": null,
            "justify_content": null,
            "justify_items": null,
            "left": null,
            "margin": null,
            "max_height": null,
            "max_width": null,
            "min_height": null,
            "min_width": null,
            "object_fit": null,
            "object_position": null,
            "order": null,
            "overflow": null,
            "overflow_x": null,
            "overflow_y": null,
            "padding": null,
            "right": null,
            "top": null,
            "visibility": null,
            "width": null
          }
        },
        "8de9ce8a6a51498f9d83b1084dd031cd": {
          "model_module": "@jupyter-widgets/base",
          "model_module_version": "1.2.0",
          "model_name": "LayoutModel",
          "state": {
            "_model_module": "@jupyter-widgets/base",
            "_model_module_version": "1.2.0",
            "_model_name": "LayoutModel",
            "_view_count": null,
            "_view_module": "@jupyter-widgets/base",
            "_view_module_version": "1.2.0",
            "_view_name": "LayoutView",
            "align_content": null,
            "align_items": null,
            "align_self": null,
            "border": null,
            "bottom": null,
            "display": null,
            "flex": null,
            "flex_flow": null,
            "grid_area": null,
            "grid_auto_columns": null,
            "grid_auto_flow": null,
            "grid_auto_rows": null,
            "grid_column": null,
            "grid_gap": null,
            "grid_row": null,
            "grid_template_areas": null,
            "grid_template_columns": null,
            "grid_template_rows": null,
            "height": null,
            "justify_content": null,
            "justify_items": null,
            "left": null,
            "margin": null,
            "max_height": null,
            "max_width": null,
            "min_height": null,
            "min_width": null,
            "object_fit": null,
            "object_position": null,
            "order": null,
            "overflow": null,
            "overflow_x": null,
            "overflow_y": null,
            "padding": null,
            "right": null,
            "top": null,
            "visibility": null,
            "width": null
          }
        },
        "94aa26dbbbce46819ed94fd3f004fdb5": {
          "model_module": "@jupyter-widgets/controls",
          "model_module_version": "1.5.0",
          "model_name": "HTMLModel",
          "state": {
            "_dom_classes": [],
            "_model_module": "@jupyter-widgets/controls",
            "_model_module_version": "1.5.0",
            "_model_name": "HTMLModel",
            "_view_count": null,
            "_view_module": "@jupyter-widgets/controls",
            "_view_module_version": "1.5.0",
            "_view_name": "HTMLView",
            "description": "",
            "description_tooltip": null,
            "layout": "IPY_MODEL_ac7ada40cf4c441a9a63df19def6f41d",
            "placeholder": "​",
            "style": "IPY_MODEL_c117dd804b4e43938c1d2a0bd3d7ba24",
            "value": "README.md: 100%"
          }
        },
        "9c828f6eafdf404aaef02032b9f08bed": {
          "model_module": "@jupyter-widgets/controls",
          "model_module_version": "1.5.0",
          "model_name": "HTMLModel",
          "state": {
            "_dom_classes": [],
            "_model_module": "@jupyter-widgets/controls",
            "_model_module_version": "1.5.0",
            "_model_name": "HTMLModel",
            "_view_count": null,
            "_view_module": "@jupyter-widgets/controls",
            "_view_module_version": "1.5.0",
            "_view_name": "HTMLView",
            "description": "",
            "description_tooltip": null,
            "layout": "IPY_MODEL_07f42d192bfc4887a0c93c35ad5881aa",
            "placeholder": "​",
            "style": "IPY_MODEL_bc8bee38833a4c759e092d0713c3b2fd",
            "value": "Map: 100%"
          }
        },
        "a085e9389488443c9ae7c9945e4d352c": {
          "model_module": "@jupyter-widgets/controls",
          "model_module_version": "1.5.0",
          "model_name": "HTMLModel",
          "state": {
            "_dom_classes": [],
            "_model_module": "@jupyter-widgets/controls",
            "_model_module_version": "1.5.0",
            "_model_name": "HTMLModel",
            "_view_count": null,
            "_view_module": "@jupyter-widgets/controls",
            "_view_module_version": "1.5.0",
            "_view_name": "HTMLView",
            "description": "",
            "description_tooltip": null,
            "layout": "IPY_MODEL_2d9078bd54e144e38ca8fe8223d8660c",
            "placeholder": "​",
            "style": "IPY_MODEL_b3c8334833e842f5884e3a5ffb3983be",
            "value": "README.md: 100%"
          }
        },
        "a6208c96ae1d45ea82a2729842502a07": {
          "model_module": "@jupyter-widgets/controls",
          "model_module_version": "1.5.0",
          "model_name": "ProgressStyleModel",
          "state": {
            "_model_module": "@jupyter-widgets/controls",
            "_model_module_version": "1.5.0",
            "_model_name": "ProgressStyleModel",
            "_view_count": null,
            "_view_module": "@jupyter-widgets/base",
            "_view_module_version": "1.2.0",
            "_view_name": "StyleView",
            "bar_color": null,
            "description_width": ""
          }
        },
        "a87c0c879770468dad45dd6d46e43f17": {
          "model_module": "@jupyter-widgets/controls",
          "model_module_version": "1.5.0",
          "model_name": "DescriptionStyleModel",
          "state": {
            "_model_module": "@jupyter-widgets/controls",
            "_model_module_version": "1.5.0",
            "_model_name": "DescriptionStyleModel",
            "_view_count": null,
            "_view_module": "@jupyter-widgets/base",
            "_view_module_version": "1.2.0",
            "_view_name": "StyleView",
            "description_width": ""
          }
        },
        "aaa65cdf7de94fb8a7cca2c3361218fd": {
          "model_module": "@jupyter-widgets/controls",
          "model_module_version": "1.5.0",
          "model_name": "HTMLModel",
          "state": {
            "_dom_classes": [],
            "_model_module": "@jupyter-widgets/controls",
            "_model_module_version": "1.5.0",
            "_model_name": "HTMLModel",
            "_view_count": null,
            "_view_module": "@jupyter-widgets/controls",
            "_view_module_version": "1.5.0",
            "_view_name": "HTMLView",
            "description": "",
            "description_tooltip": null,
            "layout": "IPY_MODEL_395a7ef5d2904eae84fa98e566082e63",
            "placeholder": "​",
            "style": "IPY_MODEL_dd60f3a8ecf84088887f229579d230c4",
            "value": " 268/268 [00:00&lt;00:00, 12858.46 examples/s]"
          }
        },
        "ac7ada40cf4c441a9a63df19def6f41d": {
          "model_module": "@jupyter-widgets/base",
          "model_module_version": "1.2.0",
          "model_name": "LayoutModel",
          "state": {
            "_model_module": "@jupyter-widgets/base",
            "_model_module_version": "1.2.0",
            "_model_name": "LayoutModel",
            "_view_count": null,
            "_view_module": "@jupyter-widgets/base",
            "_view_module_version": "1.2.0",
            "_view_name": "LayoutView",
            "align_content": null,
            "align_items": null,
            "align_self": null,
            "border": null,
            "bottom": null,
            "display": null,
            "flex": null,
            "flex_flow": null,
            "grid_area": null,
            "grid_auto_columns": null,
            "grid_auto_flow": null,
            "grid_auto_rows": null,
            "grid_column": null,
            "grid_gap": null,
            "grid_row": null,
            "grid_template_areas": null,
            "grid_template_columns": null,
            "grid_template_rows": null,
            "height": null,
            "justify_content": null,
            "justify_items": null,
            "left": null,
            "margin": null,
            "max_height": null,
            "max_width": null,
            "min_height": null,
            "min_width": null,
            "object_fit": null,
            "object_position": null,
            "order": null,
            "overflow": null,
            "overflow_x": null,
            "overflow_y": null,
            "padding": null,
            "right": null,
            "top": null,
            "visibility": null,
            "width": null
          }
        },
        "afa9360ab8f341caa8d1f3b94553d031": {
          "model_module": "@jupyter-widgets/base",
          "model_module_version": "1.2.0",
          "model_name": "LayoutModel",
          "state": {
            "_model_module": "@jupyter-widgets/base",
            "_model_module_version": "1.2.0",
            "_model_name": "LayoutModel",
            "_view_count": null,
            "_view_module": "@jupyter-widgets/base",
            "_view_module_version": "1.2.0",
            "_view_name": "LayoutView",
            "align_content": null,
            "align_items": null,
            "align_self": null,
            "border": null,
            "bottom": null,
            "display": null,
            "flex": null,
            "flex_flow": null,
            "grid_area": null,
            "grid_auto_columns": null,
            "grid_auto_flow": null,
            "grid_auto_rows": null,
            "grid_column": null,
            "grid_gap": null,
            "grid_row": null,
            "grid_template_areas": null,
            "grid_template_columns": null,
            "grid_template_rows": null,
            "height": null,
            "justify_content": null,
            "justify_items": null,
            "left": null,
            "margin": null,
            "max_height": null,
            "max_width": null,
            "min_height": null,
            "min_width": null,
            "object_fit": null,
            "object_position": null,
            "order": null,
            "overflow": null,
            "overflow_x": null,
            "overflow_y": null,
            "padding": null,
            "right": null,
            "top": null,
            "visibility": null,
            "width": null
          }
        },
        "b309702b61bd440a91ca0e9e7cca6104": {
          "model_module": "@jupyter-widgets/base",
          "model_module_version": "1.2.0",
          "model_name": "LayoutModel",
          "state": {
            "_model_module": "@jupyter-widgets/base",
            "_model_module_version": "1.2.0",
            "_model_name": "LayoutModel",
            "_view_count": null,
            "_view_module": "@jupyter-widgets/base",
            "_view_module_version": "1.2.0",
            "_view_name": "LayoutView",
            "align_content": null,
            "align_items": null,
            "align_self": null,
            "border": null,
            "bottom": null,
            "display": null,
            "flex": null,
            "flex_flow": null,
            "grid_area": null,
            "grid_auto_columns": null,
            "grid_auto_flow": null,
            "grid_auto_rows": null,
            "grid_column": null,
            "grid_gap": null,
            "grid_row": null,
            "grid_template_areas": null,
            "grid_template_columns": null,
            "grid_template_rows": null,
            "height": null,
            "justify_content": null,
            "justify_items": null,
            "left": null,
            "margin": null,
            "max_height": null,
            "max_width": null,
            "min_height": null,
            "min_width": null,
            "object_fit": null,
            "object_position": null,
            "order": null,
            "overflow": null,
            "overflow_x": null,
            "overflow_y": null,
            "padding": null,
            "right": null,
            "top": null,
            "visibility": null,
            "width": null
          }
        },
        "b3c8334833e842f5884e3a5ffb3983be": {
          "model_module": "@jupyter-widgets/controls",
          "model_module_version": "1.5.0",
          "model_name": "DescriptionStyleModel",
          "state": {
            "_model_module": "@jupyter-widgets/controls",
            "_model_module_version": "1.5.0",
            "_model_name": "DescriptionStyleModel",
            "_view_count": null,
            "_view_module": "@jupyter-widgets/base",
            "_view_module_version": "1.2.0",
            "_view_name": "StyleView",
            "description_width": ""
          }
        },
        "bb8626ecc6834ab48ba5b6a3abcbf42e": {
          "model_module": "@jupyter-widgets/controls",
          "model_module_version": "1.5.0",
          "model_name": "DescriptionStyleModel",
          "state": {
            "_model_module": "@jupyter-widgets/controls",
            "_model_module_version": "1.5.0",
            "_model_name": "DescriptionStyleModel",
            "_view_count": null,
            "_view_module": "@jupyter-widgets/base",
            "_view_module_version": "1.2.0",
            "_view_name": "StyleView",
            "description_width": ""
          }
        },
        "bbf96dbcfc6541e199cd44e5f79c23df": {
          "model_module": "@jupyter-widgets/controls",
          "model_module_version": "1.5.0",
          "model_name": "DescriptionStyleModel",
          "state": {
            "_model_module": "@jupyter-widgets/controls",
            "_model_module_version": "1.5.0",
            "_model_name": "DescriptionStyleModel",
            "_view_count": null,
            "_view_module": "@jupyter-widgets/base",
            "_view_module_version": "1.2.0",
            "_view_name": "StyleView",
            "description_width": ""
          }
        },
        "bc8bee38833a4c759e092d0713c3b2fd": {
          "model_module": "@jupyter-widgets/controls",
          "model_module_version": "1.5.0",
          "model_name": "DescriptionStyleModel",
          "state": {
            "_model_module": "@jupyter-widgets/controls",
            "_model_module_version": "1.5.0",
            "_model_name": "DescriptionStyleModel",
            "_view_count": null,
            "_view_module": "@jupyter-widgets/base",
            "_view_module_version": "1.2.0",
            "_view_name": "StyleView",
            "description_width": ""
          }
        },
        "bf7cc9850187412ba81c326134a820d3": {
          "model_module": "@jupyter-widgets/controls",
          "model_module_version": "1.5.0",
          "model_name": "HTMLModel",
          "state": {
            "_dom_classes": [],
            "_model_module": "@jupyter-widgets/controls",
            "_model_module_version": "1.5.0",
            "_model_name": "HTMLModel",
            "_view_count": null,
            "_view_module": "@jupyter-widgets/controls",
            "_view_module_version": "1.5.0",
            "_view_name": "HTMLView",
            "description": "",
            "description_tooltip": null,
            "layout": "IPY_MODEL_e252e2a680c24d00b34eec7bd62ca2af",
            "placeholder": "​",
            "style": "IPY_MODEL_f57e3a70bc354dc1a037eb0a4fe279af",
            "value": "Map: 100%"
          }
        },
        "c117dd804b4e43938c1d2a0bd3d7ba24": {
          "model_module": "@jupyter-widgets/controls",
          "model_module_version": "1.5.0",
          "model_name": "DescriptionStyleModel",
          "state": {
            "_model_module": "@jupyter-widgets/controls",
            "_model_module_version": "1.5.0",
            "_model_name": "DescriptionStyleModel",
            "_view_count": null,
            "_view_module": "@jupyter-widgets/base",
            "_view_module_version": "1.2.0",
            "_view_name": "StyleView",
            "description_width": ""
          }
        },
        "c4395a2e7d1e4a4086a41f381dd6af47": {
          "model_module": "@jupyter-widgets/base",
          "model_module_version": "1.2.0",
          "model_name": "LayoutModel",
          "state": {
            "_model_module": "@jupyter-widgets/base",
            "_model_module_version": "1.2.0",
            "_model_name": "LayoutModel",
            "_view_count": null,
            "_view_module": "@jupyter-widgets/base",
            "_view_module_version": "1.2.0",
            "_view_name": "LayoutView",
            "align_content": null,
            "align_items": null,
            "align_self": null,
            "border": null,
            "bottom": null,
            "display": null,
            "flex": null,
            "flex_flow": null,
            "grid_area": null,
            "grid_auto_columns": null,
            "grid_auto_flow": null,
            "grid_auto_rows": null,
            "grid_column": null,
            "grid_gap": null,
            "grid_row": null,
            "grid_template_areas": null,
            "grid_template_columns": null,
            "grid_template_rows": null,
            "height": null,
            "justify_content": null,
            "justify_items": null,
            "left": null,
            "margin": null,
            "max_height": null,
            "max_width": null,
            "min_height": null,
            "min_width": null,
            "object_fit": null,
            "object_position": null,
            "order": null,
            "overflow": null,
            "overflow_x": null,
            "overflow_y": null,
            "padding": null,
            "right": null,
            "top": null,
            "visibility": null,
            "width": null
          }
        },
        "c46fbb57f0784ef3bbce4449f627f51a": {
          "model_module": "@jupyter-widgets/base",
          "model_module_version": "1.2.0",
          "model_name": "LayoutModel",
          "state": {
            "_model_module": "@jupyter-widgets/base",
            "_model_module_version": "1.2.0",
            "_model_name": "LayoutModel",
            "_view_count": null,
            "_view_module": "@jupyter-widgets/base",
            "_view_module_version": "1.2.0",
            "_view_name": "LayoutView",
            "align_content": null,
            "align_items": null,
            "align_self": null,
            "border": null,
            "bottom": null,
            "display": null,
            "flex": null,
            "flex_flow": null,
            "grid_area": null,
            "grid_auto_columns": null,
            "grid_auto_flow": null,
            "grid_auto_rows": null,
            "grid_column": null,
            "grid_gap": null,
            "grid_row": null,
            "grid_template_areas": null,
            "grid_template_columns": null,
            "grid_template_rows": null,
            "height": null,
            "justify_content": null,
            "justify_items": null,
            "left": null,
            "margin": null,
            "max_height": null,
            "max_width": null,
            "min_height": null,
            "min_width": null,
            "object_fit": null,
            "object_position": null,
            "order": null,
            "overflow": null,
            "overflow_x": null,
            "overflow_y": null,
            "padding": null,
            "right": null,
            "top": null,
            "visibility": null,
            "width": null
          }
        },
        "cdb0a6f1c62e4c9ebb7a6559b6de57a6": {
          "model_module": "@jupyter-widgets/controls",
          "model_module_version": "1.5.0",
          "model_name": "HBoxModel",
          "state": {
            "_dom_classes": [],
            "_model_module": "@jupyter-widgets/controls",
            "_model_module_version": "1.5.0",
            "_model_name": "HBoxModel",
            "_view_count": null,
            "_view_module": "@jupyter-widgets/controls",
            "_view_module_version": "1.5.0",
            "_view_name": "HBoxView",
            "box_style": "",
            "children": [
              "IPY_MODEL_a085e9389488443c9ae7c9945e4d352c",
              "IPY_MODEL_edb5bccf95e04ce6b0bae95f78785adf",
              "IPY_MODEL_ce2ee742d57344aeb5562b396a41a4c6"
            ],
            "layout": "IPY_MODEL_b309702b61bd440a91ca0e9e7cca6104"
          }
        },
        "ce2ee742d57344aeb5562b396a41a4c6": {
          "model_module": "@jupyter-widgets/controls",
          "model_module_version": "1.5.0",
          "model_name": "HTMLModel",
          "state": {
            "_dom_classes": [],
            "_model_module": "@jupyter-widgets/controls",
            "_model_module_version": "1.5.0",
            "_model_name": "HTMLModel",
            "_view_count": null,
            "_view_module": "@jupyter-widgets/controls",
            "_view_module_version": "1.5.0",
            "_view_name": "HTMLView",
            "description": "",
            "description_tooltip": null,
            "layout": "IPY_MODEL_5b69d5e5b2874927b6f4b6c4ab8bd014",
            "placeholder": "​",
            "style": "IPY_MODEL_76aa8ccdcd284278b5d9489bc0b85854",
            "value": " 5.18k/5.18k [00:00&lt;00:00, 379kB/s]"
          }
        },
        "cf3dfff126494172bb8d546767413b73": {
          "model_module": "@jupyter-widgets/controls",
          "model_module_version": "1.5.0",
          "model_name": "ProgressStyleModel",
          "state": {
            "_model_module": "@jupyter-widgets/controls",
            "_model_module_version": "1.5.0",
            "_model_name": "ProgressStyleModel",
            "_view_count": null,
            "_view_module": "@jupyter-widgets/base",
            "_view_module_version": "1.2.0",
            "_view_name": "StyleView",
            "bar_color": null,
            "description_width": ""
          }
        },
        "d1599fafb6ce48bbbe04b6467591f433": {
          "model_module": "@jupyter-widgets/controls",
          "model_module_version": "1.5.0",
          "model_name": "HBoxModel",
          "state": {
            "_dom_classes": [],
            "_model_module": "@jupyter-widgets/controls",
            "_model_module_version": "1.5.0",
            "_model_name": "HBoxModel",
            "_view_count": null,
            "_view_module": "@jupyter-widgets/controls",
            "_view_module_version": "1.5.0",
            "_view_name": "HBoxView",
            "box_style": "",
            "children": [
              "IPY_MODEL_525f99fee30743b99734ccad64ac73d6",
              "IPY_MODEL_28c6f1682e604d178bdbd3e1fe1f8643",
              "IPY_MODEL_856fe7fca06a43bb8adf2b4596ffce8d"
            ],
            "layout": "IPY_MODEL_d203e9fe9b054ecf885424ca912edfa4"
          }
        },
        "d203e9fe9b054ecf885424ca912edfa4": {
          "model_module": "@jupyter-widgets/base",
          "model_module_version": "1.2.0",
          "model_name": "LayoutModel",
          "state": {
            "_model_module": "@jupyter-widgets/base",
            "_model_module_version": "1.2.0",
            "_model_name": "LayoutModel",
            "_view_count": null,
            "_view_module": "@jupyter-widgets/base",
            "_view_module_version": "1.2.0",
            "_view_name": "LayoutView",
            "align_content": null,
            "align_items": null,
            "align_self": null,
            "border": null,
            "bottom": null,
            "display": null,
            "flex": null,
            "flex_flow": null,
            "grid_area": null,
            "grid_auto_columns": null,
            "grid_auto_flow": null,
            "grid_auto_rows": null,
            "grid_column": null,
            "grid_gap": null,
            "grid_row": null,
            "grid_template_areas": null,
            "grid_template_columns": null,
            "grid_template_rows": null,
            "height": null,
            "justify_content": null,
            "justify_items": null,
            "left": null,
            "margin": null,
            "max_height": null,
            "max_width": null,
            "min_height": null,
            "min_width": null,
            "object_fit": null,
            "object_position": null,
            "order": null,
            "overflow": null,
            "overflow_x": null,
            "overflow_y": null,
            "padding": null,
            "right": null,
            "top": null,
            "visibility": null,
            "width": null
          }
        },
        "d5a1069826b24f44964334c38b6a793e": {
          "model_module": "@jupyter-widgets/base",
          "model_module_version": "1.2.0",
          "model_name": "LayoutModel",
          "state": {
            "_model_module": "@jupyter-widgets/base",
            "_model_module_version": "1.2.0",
            "_model_name": "LayoutModel",
            "_view_count": null,
            "_view_module": "@jupyter-widgets/base",
            "_view_module_version": "1.2.0",
            "_view_name": "LayoutView",
            "align_content": null,
            "align_items": null,
            "align_self": null,
            "border": null,
            "bottom": null,
            "display": null,
            "flex": null,
            "flex_flow": null,
            "grid_area": null,
            "grid_auto_columns": null,
            "grid_auto_flow": null,
            "grid_auto_rows": null,
            "grid_column": null,
            "grid_gap": null,
            "grid_row": null,
            "grid_template_areas": null,
            "grid_template_columns": null,
            "grid_template_rows": null,
            "height": null,
            "justify_content": null,
            "justify_items": null,
            "left": null,
            "margin": null,
            "max_height": null,
            "max_width": null,
            "min_height": null,
            "min_width": null,
            "object_fit": null,
            "object_position": null,
            "order": null,
            "overflow": null,
            "overflow_x": null,
            "overflow_y": null,
            "padding": null,
            "right": null,
            "top": null,
            "visibility": null,
            "width": null
          }
        },
        "d8a5bf396ba646d194915e9904607e03": {
          "model_module": "@jupyter-widgets/controls",
          "model_module_version": "1.5.0",
          "model_name": "HBoxModel",
          "state": {
            "_dom_classes": [],
            "_model_module": "@jupyter-widgets/controls",
            "_model_module_version": "1.5.0",
            "_model_name": "HBoxModel",
            "_view_count": null,
            "_view_module": "@jupyter-widgets/controls",
            "_view_module_version": "1.5.0",
            "_view_name": "HBoxView",
            "box_style": "",
            "children": [
              "IPY_MODEL_94aa26dbbbce46819ed94fd3f004fdb5",
              "IPY_MODEL_83ad9e3b333246ed9e5170be56093060",
              "IPY_MODEL_1cd9e346bcc148a3832e29846a3a97b7"
            ],
            "layout": "IPY_MODEL_4ebe7c3e3bc94b09878a642a729bbfc0"
          }
        },
        "d9ba890fc80f40eb8374688b31e66915": {
          "model_module": "@jupyter-widgets/controls",
          "model_module_version": "1.5.0",
          "model_name": "HTMLModel",
          "state": {
            "_dom_classes": [],
            "_model_module": "@jupyter-widgets/controls",
            "_model_module_version": "1.5.0",
            "_model_name": "HTMLModel",
            "_view_count": null,
            "_view_module": "@jupyter-widgets/controls",
            "_view_module_version": "1.5.0",
            "_view_name": "HTMLView",
            "description": "",
            "description_tooltip": null,
            "layout": "IPY_MODEL_d5a1069826b24f44964334c38b6a793e",
            "placeholder": "​",
            "style": "IPY_MODEL_bb8626ecc6834ab48ba5b6a3abcbf42e",
            "value": " 94/94 [00:00&lt;00:00, 2766.54 examples/s]"
          }
        },
        "da1c3bcd74ad47d49b23b3ac47cd485a": {
          "model_module": "@jupyter-widgets/controls",
          "model_module_version": "1.5.0",
          "model_name": "HBoxModel",
          "state": {
            "_dom_classes": [],
            "_model_module": "@jupyter-widgets/controls",
            "_model_module_version": "1.5.0",
            "_model_name": "HBoxModel",
            "_view_count": null,
            "_view_module": "@jupyter-widgets/controls",
            "_view_module_version": "1.5.0",
            "_view_name": "HBoxView",
            "box_style": "",
            "children": [
              "IPY_MODEL_1627566b0c044f7881af3bf07de7d8c8",
              "IPY_MODEL_f7d18eb3319442e6976260957aedd830",
              "IPY_MODEL_d9ba890fc80f40eb8374688b31e66915"
            ],
            "layout": "IPY_MODEL_0e3d40e72a5c47ccb9797444c749d9a8"
          }
        },
        "dd60f3a8ecf84088887f229579d230c4": {
          "model_module": "@jupyter-widgets/controls",
          "model_module_version": "1.5.0",
          "model_name": "DescriptionStyleModel",
          "state": {
            "_model_module": "@jupyter-widgets/controls",
            "_model_module_version": "1.5.0",
            "_model_name": "DescriptionStyleModel",
            "_view_count": null,
            "_view_module": "@jupyter-widgets/base",
            "_view_module_version": "1.2.0",
            "_view_name": "StyleView",
            "description_width": ""
          }
        },
        "e01cfb2191134af9bb0ba8f5ef9fe8b5": {
          "model_module": "@jupyter-widgets/controls",
          "model_module_version": "1.5.0",
          "model_name": "HBoxModel",
          "state": {
            "_dom_classes": [],
            "_model_module": "@jupyter-widgets/controls",
            "_model_module_version": "1.5.0",
            "_model_name": "HBoxModel",
            "_view_count": null,
            "_view_module": "@jupyter-widgets/controls",
            "_view_module_version": "1.5.0",
            "_view_name": "HBoxView",
            "box_style": "",
            "children": [
              "IPY_MODEL_49bab0b8f2d042e5977dce2e8802802e",
              "IPY_MODEL_7b9d49afdc274700bde6f7774b4c2652",
              "IPY_MODEL_477075e19eba43559733e6bc49b7132f"
            ],
            "layout": "IPY_MODEL_f3ff5c7db2a14eabbe55ccb2f3f7a9e8"
          }
        },
        "e0acd40db96d4004b66e9216f4c3b6cb": {
          "model_module": "@jupyter-widgets/base",
          "model_module_version": "1.2.0",
          "model_name": "LayoutModel",
          "state": {
            "_model_module": "@jupyter-widgets/base",
            "_model_module_version": "1.2.0",
            "_model_name": "LayoutModel",
            "_view_count": null,
            "_view_module": "@jupyter-widgets/base",
            "_view_module_version": "1.2.0",
            "_view_name": "LayoutView",
            "align_content": null,
            "align_items": null,
            "align_self": null,
            "border": null,
            "bottom": null,
            "display": null,
            "flex": null,
            "flex_flow": null,
            "grid_area": null,
            "grid_auto_columns": null,
            "grid_auto_flow": null,
            "grid_auto_rows": null,
            "grid_column": null,
            "grid_gap": null,
            "grid_row": null,
            "grid_template_areas": null,
            "grid_template_columns": null,
            "grid_template_rows": null,
            "height": null,
            "justify_content": null,
            "justify_items": null,
            "left": null,
            "margin": null,
            "max_height": null,
            "max_width": null,
            "min_height": null,
            "min_width": null,
            "object_fit": null,
            "object_position": null,
            "order": null,
            "overflow": null,
            "overflow_x": null,
            "overflow_y": null,
            "padding": null,
            "right": null,
            "top": null,
            "visibility": null,
            "width": null
          }
        },
        "e149d22e173e432389b137f1784ab99e": {
          "model_module": "@jupyter-widgets/controls",
          "model_module_version": "1.5.0",
          "model_name": "DescriptionStyleModel",
          "state": {
            "_model_module": "@jupyter-widgets/controls",
            "_model_module_version": "1.5.0",
            "_model_name": "DescriptionStyleModel",
            "_view_count": null,
            "_view_module": "@jupyter-widgets/base",
            "_view_module_version": "1.2.0",
            "_view_name": "StyleView",
            "description_width": ""
          }
        },
        "e252e2a680c24d00b34eec7bd62ca2af": {
          "model_module": "@jupyter-widgets/base",
          "model_module_version": "1.2.0",
          "model_name": "LayoutModel",
          "state": {
            "_model_module": "@jupyter-widgets/base",
            "_model_module_version": "1.2.0",
            "_model_name": "LayoutModel",
            "_view_count": null,
            "_view_module": "@jupyter-widgets/base",
            "_view_module_version": "1.2.0",
            "_view_name": "LayoutView",
            "align_content": null,
            "align_items": null,
            "align_self": null,
            "border": null,
            "bottom": null,
            "display": null,
            "flex": null,
            "flex_flow": null,
            "grid_area": null,
            "grid_auto_columns": null,
            "grid_auto_flow": null,
            "grid_auto_rows": null,
            "grid_column": null,
            "grid_gap": null,
            "grid_row": null,
            "grid_template_areas": null,
            "grid_template_columns": null,
            "grid_template_rows": null,
            "height": null,
            "justify_content": null,
            "justify_items": null,
            "left": null,
            "margin": null,
            "max_height": null,
            "max_width": null,
            "min_height": null,
            "min_width": null,
            "object_fit": null,
            "object_position": null,
            "order": null,
            "overflow": null,
            "overflow_x": null,
            "overflow_y": null,
            "padding": null,
            "right": null,
            "top": null,
            "visibility": null,
            "width": null
          }
        },
        "ed370d9354a04ae2ab0aa58402abbfb8": {
          "model_module": "@jupyter-widgets/controls",
          "model_module_version": "1.5.0",
          "model_name": "ProgressStyleModel",
          "state": {
            "_model_module": "@jupyter-widgets/controls",
            "_model_module_version": "1.5.0",
            "_model_name": "ProgressStyleModel",
            "_view_count": null,
            "_view_module": "@jupyter-widgets/base",
            "_view_module_version": "1.2.0",
            "_view_name": "StyleView",
            "bar_color": null,
            "description_width": ""
          }
        },
        "edb5bccf95e04ce6b0bae95f78785adf": {
          "model_module": "@jupyter-widgets/controls",
          "model_module_version": "1.5.0",
          "model_name": "FloatProgressModel",
          "state": {
            "_dom_classes": [],
            "_model_module": "@jupyter-widgets/controls",
            "_model_module_version": "1.5.0",
            "_model_name": "FloatProgressModel",
            "_view_count": null,
            "_view_module": "@jupyter-widgets/controls",
            "_view_module_version": "1.5.0",
            "_view_name": "ProgressView",
            "bar_style": "success",
            "description": "",
            "description_tooltip": null,
            "layout": "IPY_MODEL_e0acd40db96d4004b66e9216f4c3b6cb",
            "max": 5178,
            "min": 0,
            "orientation": "horizontal",
            "style": "IPY_MODEL_5a96ec1c20a94b08b846cff4df965090",
            "value": 5178
          }
        },
        "ee9ab2d49814443689ba7ca6d74b429d": {
          "model_module": "@jupyter-widgets/base",
          "model_module_version": "1.2.0",
          "model_name": "LayoutModel",
          "state": {
            "_model_module": "@jupyter-widgets/base",
            "_model_module_version": "1.2.0",
            "_model_name": "LayoutModel",
            "_view_count": null,
            "_view_module": "@jupyter-widgets/base",
            "_view_module_version": "1.2.0",
            "_view_name": "LayoutView",
            "align_content": null,
            "align_items": null,
            "align_self": null,
            "border": null,
            "bottom": null,
            "display": null,
            "flex": null,
            "flex_flow": null,
            "grid_area": null,
            "grid_auto_columns": null,
            "grid_auto_flow": null,
            "grid_auto_rows": null,
            "grid_column": null,
            "grid_gap": null,
            "grid_row": null,
            "grid_template_areas": null,
            "grid_template_columns": null,
            "grid_template_rows": null,
            "height": null,
            "justify_content": null,
            "justify_items": null,
            "left": null,
            "margin": null,
            "max_height": null,
            "max_width": null,
            "min_height": null,
            "min_width": null,
            "object_fit": null,
            "object_position": null,
            "order": null,
            "overflow": null,
            "overflow_x": null,
            "overflow_y": null,
            "padding": null,
            "right": null,
            "top": null,
            "visibility": null,
            "width": null
          }
        },
        "f084954060f04d0293c1cdf5c0f87a12": {
          "model_module": "@jupyter-widgets/controls",
          "model_module_version": "1.5.0",
          "model_name": "DescriptionStyleModel",
          "state": {
            "_model_module": "@jupyter-widgets/controls",
            "_model_module_version": "1.5.0",
            "_model_name": "DescriptionStyleModel",
            "_view_count": null,
            "_view_module": "@jupyter-widgets/base",
            "_view_module_version": "1.2.0",
            "_view_name": "StyleView",
            "description_width": ""
          }
        },
        "f3454014e10447b4a2900746e38efa3e": {
          "model_module": "@jupyter-widgets/base",
          "model_module_version": "1.2.0",
          "model_name": "LayoutModel",
          "state": {
            "_model_module": "@jupyter-widgets/base",
            "_model_module_version": "1.2.0",
            "_model_name": "LayoutModel",
            "_view_count": null,
            "_view_module": "@jupyter-widgets/base",
            "_view_module_version": "1.2.0",
            "_view_name": "LayoutView",
            "align_content": null,
            "align_items": null,
            "align_self": null,
            "border": null,
            "bottom": null,
            "display": null,
            "flex": null,
            "flex_flow": null,
            "grid_area": null,
            "grid_auto_columns": null,
            "grid_auto_flow": null,
            "grid_auto_rows": null,
            "grid_column": null,
            "grid_gap": null,
            "grid_row": null,
            "grid_template_areas": null,
            "grid_template_columns": null,
            "grid_template_rows": null,
            "height": null,
            "justify_content": null,
            "justify_items": null,
            "left": null,
            "margin": null,
            "max_height": null,
            "max_width": null,
            "min_height": null,
            "min_width": null,
            "object_fit": null,
            "object_position": null,
            "order": null,
            "overflow": null,
            "overflow_x": null,
            "overflow_y": null,
            "padding": null,
            "right": null,
            "top": null,
            "visibility": null,
            "width": null
          }
        },
        "f3ff5c7db2a14eabbe55ccb2f3f7a9e8": {
          "model_module": "@jupyter-widgets/base",
          "model_module_version": "1.2.0",
          "model_name": "LayoutModel",
          "state": {
            "_model_module": "@jupyter-widgets/base",
            "_model_module_version": "1.2.0",
            "_model_name": "LayoutModel",
            "_view_count": null,
            "_view_module": "@jupyter-widgets/base",
            "_view_module_version": "1.2.0",
            "_view_name": "LayoutView",
            "align_content": null,
            "align_items": null,
            "align_self": null,
            "border": null,
            "bottom": null,
            "display": null,
            "flex": null,
            "flex_flow": null,
            "grid_area": null,
            "grid_auto_columns": null,
            "grid_auto_flow": null,
            "grid_auto_rows": null,
            "grid_column": null,
            "grid_gap": null,
            "grid_row": null,
            "grid_template_areas": null,
            "grid_template_columns": null,
            "grid_template_rows": null,
            "height": null,
            "justify_content": null,
            "justify_items": null,
            "left": null,
            "margin": null,
            "max_height": null,
            "max_width": null,
            "min_height": null,
            "min_width": null,
            "object_fit": null,
            "object_position": null,
            "order": null,
            "overflow": null,
            "overflow_x": null,
            "overflow_y": null,
            "padding": null,
            "right": null,
            "top": null,
            "visibility": null,
            "width": null
          }
        },
        "f57e3a70bc354dc1a037eb0a4fe279af": {
          "model_module": "@jupyter-widgets/controls",
          "model_module_version": "1.5.0",
          "model_name": "DescriptionStyleModel",
          "state": {
            "_model_module": "@jupyter-widgets/controls",
            "_model_module_version": "1.5.0",
            "_model_name": "DescriptionStyleModel",
            "_view_count": null,
            "_view_module": "@jupyter-widgets/base",
            "_view_module_version": "1.2.0",
            "_view_name": "StyleView",
            "description_width": ""
          }
        },
        "f798982f8ddd49f7846b797f401fd10a": {
          "model_module": "@jupyter-widgets/controls",
          "model_module_version": "1.5.0",
          "model_name": "HBoxModel",
          "state": {
            "_dom_classes": [],
            "_model_module": "@jupyter-widgets/controls",
            "_model_module_version": "1.5.0",
            "_model_name": "HBoxModel",
            "_view_count": null,
            "_view_module": "@jupyter-widgets/controls",
            "_view_module_version": "1.5.0",
            "_view_name": "HBoxView",
            "box_style": "",
            "children": [
              "IPY_MODEL_9c828f6eafdf404aaef02032b9f08bed",
              "IPY_MODEL_769eded7134447bd9e24d16b7f9f0df5",
              "IPY_MODEL_7bd8b24823774facaf9876129dec8a3f"
            ],
            "layout": "IPY_MODEL_39b1fafbfa9b46f7a883b51d18155eec"
          }
        },
        "f7cc4543f98646a6bfa962e90d2b6bbf": {
          "model_module": "@jupyter-widgets/controls",
          "model_module_version": "1.5.0",
          "model_name": "ProgressStyleModel",
          "state": {
            "_model_module": "@jupyter-widgets/controls",
            "_model_module_version": "1.5.0",
            "_model_name": "ProgressStyleModel",
            "_view_count": null,
            "_view_module": "@jupyter-widgets/base",
            "_view_module_version": "1.2.0",
            "_view_name": "StyleView",
            "bar_color": null,
            "description_width": ""
          }
        },
        "f7d18eb3319442e6976260957aedd830": {
          "model_module": "@jupyter-widgets/controls",
          "model_module_version": "1.5.0",
          "model_name": "FloatProgressModel",
          "state": {
            "_dom_classes": [],
            "_model_module": "@jupyter-widgets/controls",
            "_model_module_version": "1.5.0",
            "_model_name": "FloatProgressModel",
            "_view_count": null,
            "_view_module": "@jupyter-widgets/controls",
            "_view_module_version": "1.5.0",
            "_view_name": "ProgressView",
            "bar_style": "success",
            "description": "",
            "description_tooltip": null,
            "layout": "IPY_MODEL_6bbcc9be54794a0eae0d403064cd65fa",
            "max": 94,
            "min": 0,
            "orientation": "horizontal",
            "style": "IPY_MODEL_4282b7acfb0240e78cfdb354871cc7d9",
            "value": 94
          }
        },
        "f90ca69cc43c4943aa86d511a423a91d": {
          "model_module": "@jupyter-widgets/controls",
          "model_module_version": "1.5.0",
          "model_name": "HBoxModel",
          "state": {
            "_dom_classes": [],
            "_model_module": "@jupyter-widgets/controls",
            "_model_module_version": "1.5.0",
            "_model_name": "HBoxModel",
            "_view_count": null,
            "_view_module": "@jupyter-widgets/controls",
            "_view_module_version": "1.5.0",
            "_view_name": "HBoxView",
            "box_style": "",
            "children": [
              "IPY_MODEL_3d39d54c2a414ddeb9ac9e65b1b87fd6",
              "IPY_MODEL_3ce1b1c3ca47442fadea5161f3d6b245",
              "IPY_MODEL_aaa65cdf7de94fb8a7cca2c3361218fd"
            ],
            "layout": "IPY_MODEL_f3454014e10447b4a2900746e38efa3e"
          }
        },
        "ff31d449748048708a4924753eba32de": {
          "model_module": "@jupyter-widgets/base",
          "model_module_version": "1.2.0",
          "model_name": "LayoutModel",
          "state": {
            "_model_module": "@jupyter-widgets/base",
            "_model_module_version": "1.2.0",
            "_model_name": "LayoutModel",
            "_view_count": null,
            "_view_module": "@jupyter-widgets/base",
            "_view_module_version": "1.2.0",
            "_view_name": "LayoutView",
            "align_content": null,
            "align_items": null,
            "align_self": null,
            "border": null,
            "bottom": null,
            "display": null,
            "flex": null,
            "flex_flow": null,
            "grid_area": null,
            "grid_auto_columns": null,
            "grid_auto_flow": null,
            "grid_auto_rows": null,
            "grid_column": null,
            "grid_gap": null,
            "grid_row": null,
            "grid_template_areas": null,
            "grid_template_columns": null,
            "grid_template_rows": null,
            "height": null,
            "justify_content": null,
            "justify_items": null,
            "left": null,
            "margin": null,
            "max_height": null,
            "max_width": null,
            "min_height": null,
            "min_width": null,
            "object_fit": null,
            "object_position": null,
            "order": null,
            "overflow": null,
            "overflow_x": null,
            "overflow_y": null,
            "padding": null,
            "right": null,
            "top": null,
            "visibility": null,
            "width": null
          }
        }
      }
    }
  },
  "nbformat": 4,
  "nbformat_minor": 0
}
